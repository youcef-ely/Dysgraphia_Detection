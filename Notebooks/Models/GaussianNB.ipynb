{
 "cells": [
  {
   "cell_type": "code",
   "execution_count": 1,
   "metadata": {},
   "outputs": [],
   "source": [
    "import sys\n",
    "import os\n",
    "\n",
    "source_path = 'C:/Users/User/Desktop/Dyslexia project/Source'\n",
    "\n",
    "if source_path not in sys.path:\n",
    "    sys.path.append(source_path)\n",
    "    \n",
    "\n",
    "import data_manipulation as dm \n",
    "import data_visualization as dv\n",
    "import data_processing as dp"
   ]
  },
  {
   "cell_type": "code",
   "execution_count": 2,
   "metadata": {},
   "outputs": [],
   "source": [
    "import matplotlib.pyplot as plt\n",
    "import numpy as np\n",
    "import pandas as pd\n",
    "from model_test import Test"
   ]
  },
  {
   "cell_type": "code",
   "execution_count": 3,
   "metadata": {},
   "outputs": [],
   "source": [
    "from sklearn.naive_bayes import GaussianNB"
   ]
  },
  {
   "cell_type": "code",
   "execution_count": 4,
   "metadata": {
    "tags": []
   },
   "outputs": [],
   "source": [
    "from sklearn.model_selection import train_test_split"
   ]
  },
  {
   "cell_type": "code",
   "execution_count": 5,
   "metadata": {
    "tags": []
   },
   "outputs": [],
   "source": [
    "from sklearn.preprocessing import StandardScaler"
   ]
  },
  {
   "cell_type": "code",
   "execution_count": 6,
   "metadata": {
    "scrolled": true,
    "tags": []
   },
   "outputs": [
    {
     "data": {
      "text/html": [
       "<div>\n",
       "<style scoped>\n",
       "    .dataframe tbody tr th:only-of-type {\n",
       "        vertical-align: middle;\n",
       "    }\n",
       "\n",
       "    .dataframe tbody tr th {\n",
       "        vertical-align: top;\n",
       "    }\n",
       "\n",
       "    .dataframe thead th {\n",
       "        text-align: right;\n",
       "    }\n",
       "</style>\n",
       "<table border=\"1\" class=\"dataframe\">\n",
       "  <thead>\n",
       "    <tr style=\"text-align: right;\">\n",
       "      <th></th>\n",
       "      <th>ID</th>\n",
       "      <th>BHK_raw_quality_score</th>\n",
       "      <th>median_Freq_speed</th>\n",
       "      <th>mean_d_P</th>\n",
       "      <th>dist_Freq_tilt_x</th>\n",
       "      <th>dist_Freq_speed</th>\n",
       "      <th>median_Freq_tilt_y</th>\n",
       "      <th>Space_Between_Words</th>\n",
       "      <th>bandwidth_tilt_x</th>\n",
       "      <th>std_d_P</th>\n",
       "      <th>mean_Pressure</th>\n",
       "      <th>in_Air</th>\n",
       "      <th>BHK_raw_speed_score</th>\n",
       "      <th>std_Density</th>\n",
       "      <th>median_Freq_tremolo</th>\n",
       "      <th>Age</th>\n",
       "      <th>Dysgraphia</th>\n",
       "    </tr>\n",
       "  </thead>\n",
       "  <tbody>\n",
       "    <tr>\n",
       "      <th>0</th>\n",
       "      <td>S0995</td>\n",
       "      <td>25.500000</td>\n",
       "      <td>0.001744</td>\n",
       "      <td>0.130777</td>\n",
       "      <td>0.000498</td>\n",
       "      <td>0.000218</td>\n",
       "      <td>0.003318</td>\n",
       "      <td>1617.671646</td>\n",
       "      <td>0.004491</td>\n",
       "      <td>3.562989</td>\n",
       "      <td>592.221130</td>\n",
       "      <td>0.621097</td>\n",
       "      <td>207.000000</td>\n",
       "      <td>360.244714</td>\n",
       "      <td>0.003316</td>\n",
       "      <td>9</td>\n",
       "      <td>1</td>\n",
       "    </tr>\n",
       "    <tr>\n",
       "      <th>1</th>\n",
       "      <td>S0996</td>\n",
       "      <td>35.000000</td>\n",
       "      <td>0.001564</td>\n",
       "      <td>0.039345</td>\n",
       "      <td>0.000910</td>\n",
       "      <td>0.000126</td>\n",
       "      <td>0.003324</td>\n",
       "      <td>1714.428471</td>\n",
       "      <td>0.004954</td>\n",
       "      <td>1.495864</td>\n",
       "      <td>375.740844</td>\n",
       "      <td>0.587173</td>\n",
       "      <td>63.000000</td>\n",
       "      <td>303.268265</td>\n",
       "      <td>0.003233</td>\n",
       "      <td>9</td>\n",
       "      <td>1</td>\n",
       "    </tr>\n",
       "    <tr>\n",
       "      <th>2</th>\n",
       "      <td>S0997</td>\n",
       "      <td>31.333333</td>\n",
       "      <td>0.002356</td>\n",
       "      <td>-0.007538</td>\n",
       "      <td>0.000242</td>\n",
       "      <td>0.001056</td>\n",
       "      <td>0.003333</td>\n",
       "      <td>423.105339</td>\n",
       "      <td>0.003083</td>\n",
       "      <td>0.562388</td>\n",
       "      <td>127.736338</td>\n",
       "      <td>0.610327</td>\n",
       "      <td>74.000000</td>\n",
       "      <td>267.878028</td>\n",
       "      <td>0.003295</td>\n",
       "      <td>8</td>\n",
       "      <td>1</td>\n",
       "    </tr>\n",
       "    <tr>\n",
       "      <th>3</th>\n",
       "      <td>S1000</td>\n",
       "      <td>31.000000</td>\n",
       "      <td>0.001599</td>\n",
       "      <td>0.030485</td>\n",
       "      <td>0.000604</td>\n",
       "      <td>0.000136</td>\n",
       "      <td>0.003273</td>\n",
       "      <td>2371.746011</td>\n",
       "      <td>0.005016</td>\n",
       "      <td>1.560180</td>\n",
       "      <td>427.952813</td>\n",
       "      <td>0.604755</td>\n",
       "      <td>52.500000</td>\n",
       "      <td>205.989012</td>\n",
       "      <td>0.003344</td>\n",
       "      <td>8</td>\n",
       "      <td>1</td>\n",
       "    </tr>\n",
       "    <tr>\n",
       "      <th>4</th>\n",
       "      <td>S1001</td>\n",
       "      <td>22.666667</td>\n",
       "      <td>0.002250</td>\n",
       "      <td>0.025525</td>\n",
       "      <td>0.000704</td>\n",
       "      <td>0.000899</td>\n",
       "      <td>0.003388</td>\n",
       "      <td>926.590647</td>\n",
       "      <td>0.004022</td>\n",
       "      <td>1.788618</td>\n",
       "      <td>319.640759</td>\n",
       "      <td>0.770747</td>\n",
       "      <td>86.333333</td>\n",
       "      <td>230.280797</td>\n",
       "      <td>0.003338</td>\n",
       "      <td>9</td>\n",
       "      <td>1</td>\n",
       "    </tr>\n",
       "    <tr>\n",
       "      <th>...</th>\n",
       "      <td>...</td>\n",
       "      <td>...</td>\n",
       "      <td>...</td>\n",
       "      <td>...</td>\n",
       "      <td>...</td>\n",
       "      <td>...</td>\n",
       "      <td>...</td>\n",
       "      <td>...</td>\n",
       "      <td>...</td>\n",
       "      <td>...</td>\n",
       "      <td>...</td>\n",
       "      <td>...</td>\n",
       "      <td>...</td>\n",
       "      <td>...</td>\n",
       "      <td>...</td>\n",
       "      <td>...</td>\n",
       "      <td>...</td>\n",
       "    </tr>\n",
       "    <tr>\n",
       "      <th>275</th>\n",
       "      <td>S1376</td>\n",
       "      <td>34.500000</td>\n",
       "      <td>0.001715</td>\n",
       "      <td>0.004184</td>\n",
       "      <td>0.000721</td>\n",
       "      <td>0.000263</td>\n",
       "      <td>0.003367</td>\n",
       "      <td>1033.910155</td>\n",
       "      <td>0.004639</td>\n",
       "      <td>1.371368</td>\n",
       "      <td>332.983967</td>\n",
       "      <td>0.385017</td>\n",
       "      <td>105.500000</td>\n",
       "      <td>308.338614</td>\n",
       "      <td>0.003361</td>\n",
       "      <td>7</td>\n",
       "      <td>1</td>\n",
       "    </tr>\n",
       "    <tr>\n",
       "      <th>276</th>\n",
       "      <td>S1379</td>\n",
       "      <td>28.500000</td>\n",
       "      <td>0.002029</td>\n",
       "      <td>0.024090</td>\n",
       "      <td>0.000357</td>\n",
       "      <td>0.000527</td>\n",
       "      <td>0.003295</td>\n",
       "      <td>699.553191</td>\n",
       "      <td>0.003769</td>\n",
       "      <td>1.821784</td>\n",
       "      <td>301.977176</td>\n",
       "      <td>0.591674</td>\n",
       "      <td>201.000000</td>\n",
       "      <td>104.431172</td>\n",
       "      <td>0.003380</td>\n",
       "      <td>11</td>\n",
       "      <td>1</td>\n",
       "    </tr>\n",
       "    <tr>\n",
       "      <th>277</th>\n",
       "      <td>S1383</td>\n",
       "      <td>25.000000</td>\n",
       "      <td>0.002119</td>\n",
       "      <td>0.023631</td>\n",
       "      <td>0.000452</td>\n",
       "      <td>0.000781</td>\n",
       "      <td>0.003277</td>\n",
       "      <td>668.460279</td>\n",
       "      <td>0.004270</td>\n",
       "      <td>1.149694</td>\n",
       "      <td>221.949038</td>\n",
       "      <td>0.578211</td>\n",
       "      <td>158.500000</td>\n",
       "      <td>262.934937</td>\n",
       "      <td>0.003352</td>\n",
       "      <td>11</td>\n",
       "      <td>1</td>\n",
       "    </tr>\n",
       "    <tr>\n",
       "      <th>278</th>\n",
       "      <td>S1384</td>\n",
       "      <td>25.000000</td>\n",
       "      <td>0.002154</td>\n",
       "      <td>-0.005571</td>\n",
       "      <td>0.000195</td>\n",
       "      <td>0.000747</td>\n",
       "      <td>0.003336</td>\n",
       "      <td>75.451084</td>\n",
       "      <td>0.003236</td>\n",
       "      <td>0.808330</td>\n",
       "      <td>185.984346</td>\n",
       "      <td>0.400375</td>\n",
       "      <td>94.500000</td>\n",
       "      <td>320.034516</td>\n",
       "      <td>0.003328</td>\n",
       "      <td>10</td>\n",
       "      <td>1</td>\n",
       "    </tr>\n",
       "    <tr>\n",
       "      <th>279</th>\n",
       "      <td>S1391</td>\n",
       "      <td>38.500000</td>\n",
       "      <td>0.001729</td>\n",
       "      <td>0.138003</td>\n",
       "      <td>0.000765</td>\n",
       "      <td>0.000256</td>\n",
       "      <td>0.003373</td>\n",
       "      <td>994.645853</td>\n",
       "      <td>0.004163</td>\n",
       "      <td>2.552717</td>\n",
       "      <td>795.323956</td>\n",
       "      <td>0.624108</td>\n",
       "      <td>73.000000</td>\n",
       "      <td>262.311260</td>\n",
       "      <td>0.003127</td>\n",
       "      <td>9</td>\n",
       "      <td>1</td>\n",
       "    </tr>\n",
       "  </tbody>\n",
       "</table>\n",
       "<p>280 rows × 17 columns</p>\n",
       "</div>"
      ],
      "text/plain": [
       "        ID  BHK_raw_quality_score  median_Freq_speed  mean_d_P  \\\n",
       "0    S0995              25.500000           0.001744  0.130777   \n",
       "1    S0996              35.000000           0.001564  0.039345   \n",
       "2    S0997              31.333333           0.002356 -0.007538   \n",
       "3    S1000              31.000000           0.001599  0.030485   \n",
       "4    S1001              22.666667           0.002250  0.025525   \n",
       "..     ...                    ...                ...       ...   \n",
       "275  S1376              34.500000           0.001715  0.004184   \n",
       "276  S1379              28.500000           0.002029  0.024090   \n",
       "277  S1383              25.000000           0.002119  0.023631   \n",
       "278  S1384              25.000000           0.002154 -0.005571   \n",
       "279  S1391              38.500000           0.001729  0.138003   \n",
       "\n",
       "     dist_Freq_tilt_x  dist_Freq_speed  median_Freq_tilt_y  \\\n",
       "0            0.000498         0.000218            0.003318   \n",
       "1            0.000910         0.000126            0.003324   \n",
       "2            0.000242         0.001056            0.003333   \n",
       "3            0.000604         0.000136            0.003273   \n",
       "4            0.000704         0.000899            0.003388   \n",
       "..                ...              ...                 ...   \n",
       "275          0.000721         0.000263            0.003367   \n",
       "276          0.000357         0.000527            0.003295   \n",
       "277          0.000452         0.000781            0.003277   \n",
       "278          0.000195         0.000747            0.003336   \n",
       "279          0.000765         0.000256            0.003373   \n",
       "\n",
       "     Space_Between_Words  bandwidth_tilt_x   std_d_P  mean_Pressure    in_Air  \\\n",
       "0            1617.671646          0.004491  3.562989     592.221130  0.621097   \n",
       "1            1714.428471          0.004954  1.495864     375.740844  0.587173   \n",
       "2             423.105339          0.003083  0.562388     127.736338  0.610327   \n",
       "3            2371.746011          0.005016  1.560180     427.952813  0.604755   \n",
       "4             926.590647          0.004022  1.788618     319.640759  0.770747   \n",
       "..                   ...               ...       ...            ...       ...   \n",
       "275          1033.910155          0.004639  1.371368     332.983967  0.385017   \n",
       "276           699.553191          0.003769  1.821784     301.977176  0.591674   \n",
       "277           668.460279          0.004270  1.149694     221.949038  0.578211   \n",
       "278            75.451084          0.003236  0.808330     185.984346  0.400375   \n",
       "279           994.645853          0.004163  2.552717     795.323956  0.624108   \n",
       "\n",
       "     BHK_raw_speed_score  std_Density  median_Freq_tremolo  Age  Dysgraphia  \n",
       "0             207.000000   360.244714             0.003316    9           1  \n",
       "1              63.000000   303.268265             0.003233    9           1  \n",
       "2              74.000000   267.878028             0.003295    8           1  \n",
       "3              52.500000   205.989012             0.003344    8           1  \n",
       "4              86.333333   230.280797             0.003338    9           1  \n",
       "..                   ...          ...                  ...  ...         ...  \n",
       "275           105.500000   308.338614             0.003361    7           1  \n",
       "276           201.000000   104.431172             0.003380   11           1  \n",
       "277           158.500000   262.934937             0.003352   11           1  \n",
       "278            94.500000   320.034516             0.003328   10           1  \n",
       "279            73.000000   262.311260             0.003127    9           1  \n",
       "\n",
       "[280 rows x 17 columns]"
      ]
     },
     "execution_count": 6,
     "metadata": {},
     "output_type": "execute_result"
    }
   ],
   "source": [
    "data = dm.read_data('reduced_data.xlsx')\n",
    "data"
   ]
  },
  {
   "cell_type": "code",
   "execution_count": 7,
   "metadata": {},
   "outputs": [],
   "source": [
    "X = data.drop(['Dysgraphia', 'ID'], axis = 1)\n",
    "X = dm.sort_dataFrame(X)\n",
    "y = data['Dysgraphia']"
   ]
  },
  {
   "cell_type": "code",
   "execution_count": 8,
   "metadata": {
    "tags": []
   },
   "outputs": [],
   "source": [
    "X_train, X_test, y_train, y_test = train_test_split(X, y, test_size = 0.3, random_state = 0, shuffle = True, stratify = y)"
   ]
  },
  {
   "cell_type": "code",
   "execution_count": 9,
   "metadata": {
    "tags": []
   },
   "outputs": [],
   "source": [
    "scaler = StandardScaler()\n",
    "X_train = scaler.fit_transform(X_train)\n",
    "X_test = scaler.transform(X_test)"
   ]
  },
  {
   "cell_type": "code",
   "execution_count": 10,
   "metadata": {
    "tags": []
   },
   "outputs": [
    {
     "data": {
      "text/html": [
       "<div>\n",
       "<style scoped>\n",
       "    .dataframe tbody tr th:only-of-type {\n",
       "        vertical-align: middle;\n",
       "    }\n",
       "\n",
       "    .dataframe tbody tr th {\n",
       "        vertical-align: top;\n",
       "    }\n",
       "\n",
       "    .dataframe thead th {\n",
       "        text-align: right;\n",
       "    }\n",
       "</style>\n",
       "<table border=\"1\" class=\"dataframe\">\n",
       "  <thead>\n",
       "    <tr style=\"text-align: right;\">\n",
       "      <th></th>\n",
       "      <th>Mean</th>\n",
       "      <th>STD</th>\n",
       "    </tr>\n",
       "  </thead>\n",
       "  <tbody>\n",
       "    <tr>\n",
       "      <th>Accuracy</th>\n",
       "      <td>0.959103</td>\n",
       "      <td>0.020610</td>\n",
       "    </tr>\n",
       "    <tr>\n",
       "      <th>Recall</th>\n",
       "      <td>0.833333</td>\n",
       "      <td>0.104305</td>\n",
       "    </tr>\n",
       "    <tr>\n",
       "      <th>Precision</th>\n",
       "      <td>0.975000</td>\n",
       "      <td>0.050000</td>\n",
       "    </tr>\n",
       "    <tr>\n",
       "      <th>F1_Score</th>\n",
       "      <td>0.893552</td>\n",
       "      <td>0.067237</td>\n",
       "    </tr>\n",
       "  </tbody>\n",
       "</table>\n",
       "</div>"
      ],
      "text/plain": [
       "               Mean       STD\n",
       "Accuracy   0.959103  0.020610\n",
       "Recall     0.833333  0.104305\n",
       "Precision  0.975000  0.050000\n",
       "F1_Score   0.893552  0.067237"
      ]
     },
     "execution_count": 10,
     "metadata": {},
     "output_type": "execute_result"
    }
   ],
   "source": [
    "tst = Test(model = GaussianNB(), n_folds = 5)\n",
    "scores = tst.cross_validation_scores(X_train, y_train)\n",
    "scores"
   ]
  },
  {
   "cell_type": "code",
   "execution_count": 11,
   "metadata": {
    "scrolled": true
   },
   "outputs": [
    {
     "name": "stdout",
     "output_type": "stream",
     "text": [
      "Accuracy: 0.9047619047619048, Recall: 0.6842105263157895, Precision: 0.8666666666666667, F1_Score: 0.7647058823529413\n",
      "              precision    recall  f1-score   support\n",
      "\n",
      "           0       0.91      0.97      0.94        65\n",
      "           1       0.87      0.68      0.76        19\n",
      "\n",
      "    accuracy                           0.90        84\n",
      "   macro avg       0.89      0.83      0.85        84\n",
      "weighted avg       0.90      0.90      0.90        84\n",
      "\n"
     ]
    },
    {
     "data": {
      "image/png": "[encoded data removed]",
      "text/plain": [
       "<Figure size 432x288 with 2 Axes>"
      ]
     },
     "metadata": {
      "needs_background": "light"
     },
     "output_type": "display_data"
    },
    {
     "data": {
      "image/png": "[encoded data removed]",
      "text/plain": [
       "<Figure size 432x288 with 1 Axes>"
      ]
     },
     "metadata": {
      "needs_background": "light"
     },
     "output_type": "display_data"
    }
   ],
   "source": [
    "model = tst.train_test_report(X_train, y_train, X_test, y_test)"
   ]
  },
  {
   "cell_type": "markdown",
   "metadata": {},
   "source": [
    "# Polynomial Features"
   ]
  },
  {
   "cell_type": "code",
   "execution_count": 12,
   "metadata": {},
   "outputs": [
    {
     "data": {
      "text/html": [
       "<div>\n",
       "<style scoped>\n",
       "    .dataframe tbody tr th:only-of-type {\n",
       "        vertical-align: middle;\n",
       "    }\n",
       "\n",
       "    .dataframe tbody tr th {\n",
       "        vertical-align: top;\n",
       "    }\n",
       "\n",
       "    .dataframe thead th {\n",
       "        text-align: right;\n",
       "    }\n",
       "</style>\n",
       "<table border=\"1\" class=\"dataframe\">\n",
       "  <thead>\n",
       "    <tr style=\"text-align: right;\">\n",
       "      <th></th>\n",
       "      <th>BHK_raw_quality_score**1</th>\n",
       "      <th>BHK_raw_speed_score**1</th>\n",
       "      <th>median_Freq_speed**1</th>\n",
       "      <th>mean_d_P**1</th>\n",
       "      <th>median_Freq_tilt_y**1</th>\n",
       "      <th>mean_Pressure**1</th>\n",
       "      <th>median_Freq_tremolo**1</th>\n",
       "      <th>dist_Freq_tilt_x**1</th>\n",
       "      <th>dist_Freq_speed**1</th>\n",
       "      <th>Space_Between_Words**1</th>\n",
       "      <th>...</th>\n",
       "      <th>std_d_P**2</th>\n",
       "      <th>std_d_P**1 x std_Density**1</th>\n",
       "      <th>std_d_P**1 x in_Air**1</th>\n",
       "      <th>std_d_P**1 x Age**1</th>\n",
       "      <th>std_Density**2</th>\n",
       "      <th>std_Density**1 x in_Air**1</th>\n",
       "      <th>std_Density**1 x Age**1</th>\n",
       "      <th>in_Air**2</th>\n",
       "      <th>in_Air**1 x Age**1</th>\n",
       "      <th>Age**2</th>\n",
       "    </tr>\n",
       "  </thead>\n",
       "  <tbody>\n",
       "    <tr>\n",
       "      <th>0</th>\n",
       "      <td>25.500000</td>\n",
       "      <td>207.000000</td>\n",
       "      <td>0.001744</td>\n",
       "      <td>0.130777</td>\n",
       "      <td>0.003318</td>\n",
       "      <td>592.221130</td>\n",
       "      <td>0.003316</td>\n",
       "      <td>0.000498</td>\n",
       "      <td>0.000218</td>\n",
       "      <td>1617.671646</td>\n",
       "      <td>...</td>\n",
       "      <td>12.694889</td>\n",
       "      <td>1283.547894</td>\n",
       "      <td>2.212962</td>\n",
       "      <td>32.066900</td>\n",
       "      <td>129776.253677</td>\n",
       "      <td>223.746952</td>\n",
       "      <td>3242.202422</td>\n",
       "      <td>0.385762</td>\n",
       "      <td>5.589874</td>\n",
       "      <td>81.0</td>\n",
       "    </tr>\n",
       "    <tr>\n",
       "      <th>1</th>\n",
       "      <td>35.000000</td>\n",
       "      <td>63.000000</td>\n",
       "      <td>0.001564</td>\n",
       "      <td>0.039345</td>\n",
       "      <td>0.003324</td>\n",
       "      <td>375.740844</td>\n",
       "      <td>0.003233</td>\n",
       "      <td>0.000910</td>\n",
       "      <td>0.000126</td>\n",
       "      <td>1714.428471</td>\n",
       "      <td>...</td>\n",
       "      <td>2.237610</td>\n",
       "      <td>453.648155</td>\n",
       "      <td>0.878331</td>\n",
       "      <td>13.462778</td>\n",
       "      <td>91971.640859</td>\n",
       "      <td>178.070908</td>\n",
       "      <td>2729.414389</td>\n",
       "      <td>0.344772</td>\n",
       "      <td>5.284556</td>\n",
       "      <td>81.0</td>\n",
       "    </tr>\n",
       "    <tr>\n",
       "      <th>2</th>\n",
       "      <td>31.333333</td>\n",
       "      <td>74.000000</td>\n",
       "      <td>0.002356</td>\n",
       "      <td>-0.007538</td>\n",
       "      <td>0.003333</td>\n",
       "      <td>127.736338</td>\n",
       "      <td>0.003295</td>\n",
       "      <td>0.000242</td>\n",
       "      <td>0.001056</td>\n",
       "      <td>423.105339</td>\n",
       "      <td>...</td>\n",
       "      <td>0.316281</td>\n",
       "      <td>150.651507</td>\n",
       "      <td>0.343241</td>\n",
       "      <td>4.499108</td>\n",
       "      <td>71758.637992</td>\n",
       "      <td>163.493266</td>\n",
       "      <td>2143.024226</td>\n",
       "      <td>0.372499</td>\n",
       "      <td>4.882618</td>\n",
       "      <td>64.0</td>\n",
       "    </tr>\n",
       "    <tr>\n",
       "      <th>3</th>\n",
       "      <td>31.000000</td>\n",
       "      <td>52.500000</td>\n",
       "      <td>0.001599</td>\n",
       "      <td>0.030485</td>\n",
       "      <td>0.003273</td>\n",
       "      <td>427.952813</td>\n",
       "      <td>0.003344</td>\n",
       "      <td>0.000604</td>\n",
       "      <td>0.000136</td>\n",
       "      <td>2371.746011</td>\n",
       "      <td>...</td>\n",
       "      <td>2.434162</td>\n",
       "      <td>321.379981</td>\n",
       "      <td>0.943527</td>\n",
       "      <td>12.481442</td>\n",
       "      <td>42431.472982</td>\n",
       "      <td>124.572954</td>\n",
       "      <td>1647.912094</td>\n",
       "      <td>0.365729</td>\n",
       "      <td>4.838043</td>\n",
       "      <td>64.0</td>\n",
       "    </tr>\n",
       "    <tr>\n",
       "      <th>4</th>\n",
       "      <td>22.666667</td>\n",
       "      <td>86.333333</td>\n",
       "      <td>0.002250</td>\n",
       "      <td>0.025525</td>\n",
       "      <td>0.003388</td>\n",
       "      <td>319.640759</td>\n",
       "      <td>0.003338</td>\n",
       "      <td>0.000704</td>\n",
       "      <td>0.000899</td>\n",
       "      <td>926.590647</td>\n",
       "      <td>...</td>\n",
       "      <td>3.199154</td>\n",
       "      <td>411.884328</td>\n",
       "      <td>1.378571</td>\n",
       "      <td>16.097560</td>\n",
       "      <td>53029.245559</td>\n",
       "      <td>177.488152</td>\n",
       "      <td>2072.527175</td>\n",
       "      <td>0.594050</td>\n",
       "      <td>6.936720</td>\n",
       "      <td>81.0</td>\n",
       "    </tr>\n",
       "  </tbody>\n",
       "</table>\n",
       "<p>5 rows × 135 columns</p>\n",
       "</div>"
      ],
      "text/plain": [
       "   BHK_raw_quality_score**1  BHK_raw_speed_score**1  median_Freq_speed**1  \\\n",
       "0                 25.500000              207.000000              0.001744   \n",
       "1                 35.000000               63.000000              0.001564   \n",
       "2                 31.333333               74.000000              0.002356   \n",
       "3                 31.000000               52.500000              0.001599   \n",
       "4                 22.666667               86.333333              0.002250   \n",
       "\n",
       "   mean_d_P**1  median_Freq_tilt_y**1  mean_Pressure**1  \\\n",
       "0     0.130777               0.003318        592.221130   \n",
       "1     0.039345               0.003324        375.740844   \n",
       "2    -0.007538               0.003333        127.736338   \n",
       "3     0.030485               0.003273        427.952813   \n",
       "4     0.025525               0.003388        319.640759   \n",
       "\n",
       "   median_Freq_tremolo**1  dist_Freq_tilt_x**1  dist_Freq_speed**1  \\\n",
       "0                0.003316             0.000498            0.000218   \n",
       "1                0.003233             0.000910            0.000126   \n",
       "2                0.003295             0.000242            0.001056   \n",
       "3                0.003344             0.000604            0.000136   \n",
       "4                0.003338             0.000704            0.000899   \n",
       "\n",
       "   Space_Between_Words**1  ...  std_d_P**2  std_d_P**1 x std_Density**1  \\\n",
       "0             1617.671646  ...   12.694889                  1283.547894   \n",
       "1             1714.428471  ...    2.237610                   453.648155   \n",
       "2              423.105339  ...    0.316281                   150.651507   \n",
       "3             2371.746011  ...    2.434162                   321.379981   \n",
       "4              926.590647  ...    3.199154                   411.884328   \n",
       "\n",
       "   std_d_P**1 x in_Air**1  std_d_P**1 x Age**1  std_Density**2  \\\n",
       "0                2.212962            32.066900   129776.253677   \n",
       "1                0.878331            13.462778    91971.640859   \n",
       "2                0.343241             4.499108    71758.637992   \n",
       "3                0.943527            12.481442    42431.472982   \n",
       "4                1.378571            16.097560    53029.245559   \n",
       "\n",
       "   std_Density**1 x in_Air**1  std_Density**1 x Age**1  in_Air**2  \\\n",
       "0                  223.746952              3242.202422   0.385762   \n",
       "1                  178.070908              2729.414389   0.344772   \n",
       "2                  163.493266              2143.024226   0.372499   \n",
       "3                  124.572954              1647.912094   0.365729   \n",
       "4                  177.488152              2072.527175   0.594050   \n",
       "\n",
       "   in_Air**1 x Age**1  Age**2  \n",
       "0            5.589874    81.0  \n",
       "1            5.284556    81.0  \n",
       "2            4.882618    64.0  \n",
       "3            4.838043    64.0  \n",
       "4            6.936720    81.0  \n",
       "\n",
       "[5 rows x 135 columns]"
      ]
     },
     "execution_count": 12,
     "metadata": {},
     "output_type": "execute_result"
    }
   ],
   "source": [
    "poly_data = dp.PolynomialFeatures_labeled(X, 2).drop(['Constant Term'], axis = 1)\n",
    "poly_data.head()"
   ]
  },
  {
   "cell_type": "code",
   "execution_count": 13,
   "metadata": {},
   "outputs": [
    {
     "data": {
      "text/html": [
       "<div>\n",
       "<style scoped>\n",
       "    .dataframe tbody tr th:only-of-type {\n",
       "        vertical-align: middle;\n",
       "    }\n",
       "\n",
       "    .dataframe tbody tr th {\n",
       "        vertical-align: top;\n",
       "    }\n",
       "\n",
       "    .dataframe thead th {\n",
       "        text-align: right;\n",
       "    }\n",
       "</style>\n",
       "<table border=\"1\" class=\"dataframe\">\n",
       "  <thead>\n",
       "    <tr style=\"text-align: right;\">\n",
       "      <th></th>\n",
       "      <th>BHK_raw_quality_score**1</th>\n",
       "      <th>BHK_raw_speed_score**1</th>\n",
       "      <th>median_Freq_speed**1</th>\n",
       "      <th>mean_d_P**1</th>\n",
       "      <th>median_Freq_tilt_y**1</th>\n",
       "      <th>mean_Pressure**1</th>\n",
       "      <th>median_Freq_tremolo**1</th>\n",
       "      <th>dist_Freq_tilt_x**1</th>\n",
       "      <th>dist_Freq_speed**1</th>\n",
       "      <th>Space_Between_Words**1</th>\n",
       "      <th>...</th>\n",
       "      <th>std_d_P**2</th>\n",
       "      <th>std_d_P**1 x std_Density**1</th>\n",
       "      <th>std_d_P**1 x in_Air**1</th>\n",
       "      <th>std_d_P**1 x Age**1</th>\n",
       "      <th>std_Density**2</th>\n",
       "      <th>std_Density**1 x in_Air**1</th>\n",
       "      <th>std_Density**1 x Age**1</th>\n",
       "      <th>in_Air**2</th>\n",
       "      <th>in_Air**1 x Age**1</th>\n",
       "      <th>Age**2</th>\n",
       "    </tr>\n",
       "  </thead>\n",
       "  <tbody>\n",
       "    <tr>\n",
       "      <th>0</th>\n",
       "      <td>25.500000</td>\n",
       "      <td>207.000000</td>\n",
       "      <td>0.001744</td>\n",
       "      <td>0.130777</td>\n",
       "      <td>0.003318</td>\n",
       "      <td>592.221130</td>\n",
       "      <td>0.003316</td>\n",
       "      <td>0.000498</td>\n",
       "      <td>0.000218</td>\n",
       "      <td>1617.671646</td>\n",
       "      <td>...</td>\n",
       "      <td>12.694889</td>\n",
       "      <td>1283.547894</td>\n",
       "      <td>2.212962</td>\n",
       "      <td>32.066900</td>\n",
       "      <td>129776.253677</td>\n",
       "      <td>223.746952</td>\n",
       "      <td>3242.202422</td>\n",
       "      <td>0.385762</td>\n",
       "      <td>5.589874</td>\n",
       "      <td>81.0</td>\n",
       "    </tr>\n",
       "    <tr>\n",
       "      <th>1</th>\n",
       "      <td>35.000000</td>\n",
       "      <td>63.000000</td>\n",
       "      <td>0.001564</td>\n",
       "      <td>0.039345</td>\n",
       "      <td>0.003324</td>\n",
       "      <td>375.740844</td>\n",
       "      <td>0.003233</td>\n",
       "      <td>0.000910</td>\n",
       "      <td>0.000126</td>\n",
       "      <td>1714.428471</td>\n",
       "      <td>...</td>\n",
       "      <td>2.237610</td>\n",
       "      <td>453.648155</td>\n",
       "      <td>0.878331</td>\n",
       "      <td>13.462778</td>\n",
       "      <td>91971.640859</td>\n",
       "      <td>178.070908</td>\n",
       "      <td>2729.414389</td>\n",
       "      <td>0.344772</td>\n",
       "      <td>5.284556</td>\n",
       "      <td>81.0</td>\n",
       "    </tr>\n",
       "    <tr>\n",
       "      <th>2</th>\n",
       "      <td>31.333333</td>\n",
       "      <td>74.000000</td>\n",
       "      <td>0.002356</td>\n",
       "      <td>-0.007538</td>\n",
       "      <td>0.003333</td>\n",
       "      <td>127.736338</td>\n",
       "      <td>0.003295</td>\n",
       "      <td>0.000242</td>\n",
       "      <td>0.001056</td>\n",
       "      <td>423.105339</td>\n",
       "      <td>...</td>\n",
       "      <td>0.316281</td>\n",
       "      <td>150.651507</td>\n",
       "      <td>0.343241</td>\n",
       "      <td>4.499108</td>\n",
       "      <td>71758.637992</td>\n",
       "      <td>163.493266</td>\n",
       "      <td>2143.024226</td>\n",
       "      <td>0.372499</td>\n",
       "      <td>4.882618</td>\n",
       "      <td>64.0</td>\n",
       "    </tr>\n",
       "    <tr>\n",
       "      <th>3</th>\n",
       "      <td>31.000000</td>\n",
       "      <td>52.500000</td>\n",
       "      <td>0.001599</td>\n",
       "      <td>0.030485</td>\n",
       "      <td>0.003273</td>\n",
       "      <td>427.952813</td>\n",
       "      <td>0.003344</td>\n",
       "      <td>0.000604</td>\n",
       "      <td>0.000136</td>\n",
       "      <td>2371.746011</td>\n",
       "      <td>...</td>\n",
       "      <td>2.434162</td>\n",
       "      <td>321.379981</td>\n",
       "      <td>0.943527</td>\n",
       "      <td>12.481442</td>\n",
       "      <td>42431.472982</td>\n",
       "      <td>124.572954</td>\n",
       "      <td>1647.912094</td>\n",
       "      <td>0.365729</td>\n",
       "      <td>4.838043</td>\n",
       "      <td>64.0</td>\n",
       "    </tr>\n",
       "    <tr>\n",
       "      <th>4</th>\n",
       "      <td>22.666667</td>\n",
       "      <td>86.333333</td>\n",
       "      <td>0.002250</td>\n",
       "      <td>0.025525</td>\n",
       "      <td>0.003388</td>\n",
       "      <td>319.640759</td>\n",
       "      <td>0.003338</td>\n",
       "      <td>0.000704</td>\n",
       "      <td>0.000899</td>\n",
       "      <td>926.590647</td>\n",
       "      <td>...</td>\n",
       "      <td>3.199154</td>\n",
       "      <td>411.884328</td>\n",
       "      <td>1.378571</td>\n",
       "      <td>16.097560</td>\n",
       "      <td>53029.245559</td>\n",
       "      <td>177.488152</td>\n",
       "      <td>2072.527175</td>\n",
       "      <td>0.594050</td>\n",
       "      <td>6.936720</td>\n",
       "      <td>81.0</td>\n",
       "    </tr>\n",
       "  </tbody>\n",
       "</table>\n",
       "<p>5 rows × 135 columns</p>\n",
       "</div>"
      ],
      "text/plain": [
       "   BHK_raw_quality_score**1  BHK_raw_speed_score**1  median_Freq_speed**1  \\\n",
       "0                 25.500000              207.000000              0.001744   \n",
       "1                 35.000000               63.000000              0.001564   \n",
       "2                 31.333333               74.000000              0.002356   \n",
       "3                 31.000000               52.500000              0.001599   \n",
       "4                 22.666667               86.333333              0.002250   \n",
       "\n",
       "   mean_d_P**1  median_Freq_tilt_y**1  mean_Pressure**1  \\\n",
       "0     0.130777               0.003318        592.221130   \n",
       "1     0.039345               0.003324        375.740844   \n",
       "2    -0.007538               0.003333        127.736338   \n",
       "3     0.030485               0.003273        427.952813   \n",
       "4     0.025525               0.003388        319.640759   \n",
       "\n",
       "   median_Freq_tremolo**1  dist_Freq_tilt_x**1  dist_Freq_speed**1  \\\n",
       "0                0.003316             0.000498            0.000218   \n",
       "1                0.003233             0.000910            0.000126   \n",
       "2                0.003295             0.000242            0.001056   \n",
       "3                0.003344             0.000604            0.000136   \n",
       "4                0.003338             0.000704            0.000899   \n",
       "\n",
       "   Space_Between_Words**1  ...  std_d_P**2  std_d_P**1 x std_Density**1  \\\n",
       "0             1617.671646  ...   12.694889                  1283.547894   \n",
       "1             1714.428471  ...    2.237610                   453.648155   \n",
       "2              423.105339  ...    0.316281                   150.651507   \n",
       "3             2371.746011  ...    2.434162                   321.379981   \n",
       "4              926.590647  ...    3.199154                   411.884328   \n",
       "\n",
       "   std_d_P**1 x in_Air**1  std_d_P**1 x Age**1  std_Density**2  \\\n",
       "0                2.212962            32.066900   129776.253677   \n",
       "1                0.878331            13.462778    91971.640859   \n",
       "2                0.343241             4.499108    71758.637992   \n",
       "3                0.943527            12.481442    42431.472982   \n",
       "4                1.378571            16.097560    53029.245559   \n",
       "\n",
       "   std_Density**1 x in_Air**1  std_Density**1 x Age**1  in_Air**2  \\\n",
       "0                  223.746952              3242.202422   0.385762   \n",
       "1                  178.070908              2729.414389   0.344772   \n",
       "2                  163.493266              2143.024226   0.372499   \n",
       "3                  124.572954              1647.912094   0.365729   \n",
       "4                  177.488152              2072.527175   0.594050   \n",
       "\n",
       "   in_Air**1 x Age**1  Age**2  \n",
       "0            5.589874    81.0  \n",
       "1            5.284556    81.0  \n",
       "2            4.882618    64.0  \n",
       "3            4.838043    64.0  \n",
       "4            6.936720    81.0  \n",
       "\n",
       "[5 rows x 135 columns]"
      ]
     },
     "execution_count": 13,
     "metadata": {},
     "output_type": "execute_result"
    }
   ],
   "source": [
    "poly_data.head()"
   ]
  },
  {
   "cell_type": "code",
   "execution_count": 14,
   "metadata": {
    "tags": []
   },
   "outputs": [],
   "source": [
    "poly_X_train, poly_X_test, poly_y_train, poly_y_test = train_test_split(poly_data, y, test_size = 0.3, random_state = 0, shuffle=True, \n",
    "                                                        stratify = y)\n",
    "poly_scaler = StandardScaler()\n",
    "poly_X_train = poly_scaler.fit_transform(poly_X_train)\n",
    "poly_X_test = poly_scaler.transform(poly_X_test)"
   ]
  },
  {
   "cell_type": "code",
   "execution_count": 15,
   "metadata": {
    "tags": []
   },
   "outputs": [],
   "source": [
    "poly_X_train = pd.DataFrame(poly_X_train, columns = poly_data.columns)\n",
    "poly_X_test = pd.DataFrame(poly_X_test, columns = poly_data.columns)"
   ]
  },
  {
   "cell_type": "code",
   "execution_count": 16,
   "metadata": {},
   "outputs": [],
   "source": [
    "from sklearn.feature_selection import SequentialFeatureSelector"
   ]
  },
  {
   "cell_type": "code",
   "execution_count": 17,
   "metadata": {},
   "outputs": [],
   "source": [
    "selector = SequentialFeatureSelector(GaussianNB(),\n",
    "                                    cv = 5, scoring = 'recall', n_features_to_select = 'auto',\n",
    "                                    direction = 'forward', tol = 0.00000001)"
   ]
  },
  {
   "cell_type": "code",
   "execution_count": 18,
   "metadata": {},
   "outputs": [
    {
     "data": {
      "text/html": [
       "<style>#sk-container-id-1 {color: black;background-color: white;}#sk-container-id-1 pre{padding: 0;}#sk-container-id-1 div.sk-toggleable {background-color: white;}#sk-container-id-1 label.sk-toggleable__label {cursor: pointer;display: block;width: 100%;margin-bottom: 0;padding: 0.3em;box-sizing: border-box;text-align: center;}#sk-container-id-1 label.sk-toggleable__label-arrow:before {content: \"▸\";float: left;margin-right: 0.25em;color: #696969;}#sk-container-id-1 label.sk-toggleable__label-arrow:hover:before {color: black;}#sk-container-id-1 div.sk-estimator:hover label.sk-toggleable__label-arrow:before {color: black;}#sk-container-id-1 div.sk-toggleable__content {max-height: 0;max-width: 0;overflow: hidden;text-align: left;background-color: #f0f8ff;}#sk-container-id-1 div.sk-toggleable__content pre {margin: 0.2em;color: black;border-radius: 0.25em;background-color: #f0f8ff;}#sk-container-id-1 input.sk-toggleable__control:checked~div.sk-toggleable__content {max-height: 200px;max-width: 100%;overflow: auto;}#sk-container-id-1 input.sk-toggleable__control:checked~label.sk-toggleable__label-arrow:before {content: \"▾\";}#sk-container-id-1 div.sk-estimator input.sk-toggleable__control:checked~label.sk-toggleable__label {background-color: #d4ebff;}#sk-container-id-1 div.sk-label input.sk-toggleable__control:checked~label.sk-toggleable__label {background-color: #d4ebff;}#sk-container-id-1 input.sk-hidden--visually {border: 0;clip: rect(1px 1px 1px 1px);clip: rect(1px, 1px, 1px, 1px);height: 1px;margin: -1px;overflow: hidden;padding: 0;position: absolute;width: 1px;}#sk-container-id-1 div.sk-estimator {font-family: monospace;background-color: #f0f8ff;border: 1px dotted black;border-radius: 0.25em;box-sizing: border-box;margin-bottom: 0.5em;}#sk-container-id-1 div.sk-estimator:hover {background-color: #d4ebff;}#sk-container-id-1 div.sk-parallel-item::after {content: \"\";width: 100%;border-bottom: 1px solid gray;flex-grow: 1;}#sk-container-id-1 div.sk-label:hover label.sk-toggleable__label {background-color: #d4ebff;}#sk-container-id-1 div.sk-serial::before {content: \"\";position: absolute;border-left: 1px solid gray;box-sizing: border-box;top: 0;bottom: 0;left: 50%;z-index: 0;}#sk-container-id-1 div.sk-serial {display: flex;flex-direction: column;align-items: center;background-color: white;padding-right: 0.2em;padding-left: 0.2em;position: relative;}#sk-container-id-1 div.sk-item {position: relative;z-index: 1;}#sk-container-id-1 div.sk-parallel {display: flex;align-items: stretch;justify-content: center;background-color: white;position: relative;}#sk-container-id-1 div.sk-item::before, #sk-container-id-1 div.sk-parallel-item::before {content: \"\";position: absolute;border-left: 1px solid gray;box-sizing: border-box;top: 0;bottom: 0;left: 50%;z-index: -1;}#sk-container-id-1 div.sk-parallel-item {display: flex;flex-direction: column;z-index: 1;position: relative;background-color: white;}#sk-container-id-1 div.sk-parallel-item:first-child::after {align-self: flex-end;width: 50%;}#sk-container-id-1 div.sk-parallel-item:last-child::after {align-self: flex-start;width: 50%;}#sk-container-id-1 div.sk-parallel-item:only-child::after {width: 0;}#sk-container-id-1 div.sk-dashed-wrapped {border: 1px dashed gray;margin: 0 0.4em 0.5em 0.4em;box-sizing: border-box;padding-bottom: 0.4em;background-color: white;}#sk-container-id-1 div.sk-label label {font-family: monospace;font-weight: bold;display: inline-block;line-height: 1.2em;}#sk-container-id-1 div.sk-label-container {text-align: center;}#sk-container-id-1 div.sk-container {/* jupyter's `normalize.less` sets `[hidden] { display: none; }` but bootstrap.min.css set `[hidden] { display: none !important; }` so we also need the `!important` here to be able to override the default hidden behavior on the sphinx rendered scikit-learn.org. See: https://github.com/scikit-learn/scikit-learn/issues/21755 */display: inline-block !important;position: relative;}#sk-container-id-1 div.sk-text-repr-fallback {display: none;}</style><div id=\"sk-container-id-1\" class=\"sk-top-container\"><div class=\"sk-text-repr-fallback\"><pre>SequentialFeatureSelector(estimator=GaussianNB(), n_features_to_select=&#x27;auto&#x27;,\n",
       "                          scoring=&#x27;recall&#x27;, tol=1e-08)</pre><b>In a Jupyter environment, please rerun this cell to show the HTML representation or trust the notebook. <br />On GitHub, the HTML representation is unable to render, please try loading this page with nbviewer.org.</b></div><div class=\"sk-container\" hidden><div class=\"sk-item sk-dashed-wrapped\"><div class=\"sk-label-container\"><div class=\"sk-label sk-toggleable\"><input class=\"sk-toggleable__control sk-hidden--visually\" id=\"sk-estimator-id-1\" type=\"checkbox\" ><label for=\"sk-estimator-id-1\" class=\"sk-toggleable__label sk-toggleable__label-arrow\">SequentialFeatureSelector</label><div class=\"sk-toggleable__content\"><pre>SequentialFeatureSelector(estimator=GaussianNB(), n_features_to_select=&#x27;auto&#x27;,\n",
       "                          scoring=&#x27;recall&#x27;, tol=1e-08)</pre></div></div></div><div class=\"sk-parallel\"><div class=\"sk-parallel-item\"><div class=\"sk-item\"><div class=\"sk-label-container\"><div class=\"sk-label sk-toggleable\"><input class=\"sk-toggleable__control sk-hidden--visually\" id=\"sk-estimator-id-2\" type=\"checkbox\" ><label for=\"sk-estimator-id-2\" class=\"sk-toggleable__label sk-toggleable__label-arrow\">estimator: GaussianNB</label><div class=\"sk-toggleable__content\"><pre>GaussianNB()</pre></div></div></div><div class=\"sk-serial\"><div class=\"sk-item\"><div class=\"sk-estimator sk-toggleable\"><input class=\"sk-toggleable__control sk-hidden--visually\" id=\"sk-estimator-id-3\" type=\"checkbox\" ><label for=\"sk-estimator-id-3\" class=\"sk-toggleable__label sk-toggleable__label-arrow\">GaussianNB</label><div class=\"sk-toggleable__content\"><pre>GaussianNB()</pre></div></div></div></div></div></div></div></div></div></div>"
      ],
      "text/plain": [
       "SequentialFeatureSelector(estimator=GaussianNB(), n_features_to_select='auto',\n",
       "                          scoring='recall', tol=1e-08)"
      ]
     },
     "execution_count": 18,
     "metadata": {},
     "output_type": "execute_result"
    }
   ],
   "source": [
    "selector.fit(poly_X_train, poly_y_train)"
   ]
  },
  {
   "cell_type": "code",
   "execution_count": 19,
   "metadata": {},
   "outputs": [
    {
     "data": {
      "text/plain": [
       "['Space_Between_Words**1',\n",
       " 'BHK_raw_quality_score**1 x BHK_raw_speed_score**1',\n",
       " 'BHK_raw_quality_score**1 x median_Freq_speed**1',\n",
       " 'BHK_raw_quality_score**1 x Age**1']"
      ]
     },
     "execution_count": 19,
     "metadata": {},
     "output_type": "execute_result"
    }
   ],
   "source": [
    "new_features = list(selector.get_feature_names_out())\n",
    "new_features"
   ]
  },
  {
   "cell_type": "code",
   "execution_count": 20,
   "metadata": {
    "scrolled": true
   },
   "outputs": [
    {
     "data": {
      "text/html": [
       "<div>\n",
       "<style scoped>\n",
       "    .dataframe tbody tr th:only-of-type {\n",
       "        vertical-align: middle;\n",
       "    }\n",
       "\n",
       "    .dataframe tbody tr th {\n",
       "        vertical-align: top;\n",
       "    }\n",
       "\n",
       "    .dataframe thead th {\n",
       "        text-align: right;\n",
       "    }\n",
       "</style>\n",
       "<table border=\"1\" class=\"dataframe\">\n",
       "  <thead>\n",
       "    <tr style=\"text-align: right;\">\n",
       "      <th></th>\n",
       "      <th>Mean</th>\n",
       "      <th>STD</th>\n",
       "    </tr>\n",
       "  </thead>\n",
       "  <tbody>\n",
       "    <tr>\n",
       "      <th>Accuracy</th>\n",
       "      <td>0.959231</td>\n",
       "      <td>0.020391</td>\n",
       "    </tr>\n",
       "    <tr>\n",
       "      <th>Recall</th>\n",
       "      <td>0.950000</td>\n",
       "      <td>0.061237</td>\n",
       "    </tr>\n",
       "    <tr>\n",
       "      <th>Precision</th>\n",
       "      <td>0.893636</td>\n",
       "      <td>0.098987</td>\n",
       "    </tr>\n",
       "    <tr>\n",
       "      <th>F1_Score</th>\n",
       "      <td>0.914236</td>\n",
       "      <td>0.032525</td>\n",
       "    </tr>\n",
       "  </tbody>\n",
       "</table>\n",
       "</div>"
      ],
      "text/plain": [
       "               Mean       STD\n",
       "Accuracy   0.959231  0.020391\n",
       "Recall     0.950000  0.061237\n",
       "Precision  0.893636  0.098987\n",
       "F1_Score   0.914236  0.032525"
      ]
     },
     "execution_count": 20,
     "metadata": {},
     "output_type": "execute_result"
    }
   ],
   "source": [
    "sfs_test = Test(model = GaussianNB(), n_folds = 5)\n",
    "scores = sfs_test.cross_validation_scores(poly_X_train[new_features], poly_y_train)\n",
    "scores"
   ]
  },
  {
   "cell_type": "code",
   "execution_count": 21,
   "metadata": {
    "scrolled": true
   },
   "outputs": [
    {
     "name": "stdout",
     "output_type": "stream",
     "text": [
      "Accuracy: 0.9166666666666666, Recall: 0.8947368421052632, Precision: 0.7727272727272727, F1_Score: 0.8292682926829269\n",
      "              precision    recall  f1-score   support\n",
      "\n",
      "           0       0.97      0.92      0.94        65\n",
      "           1       0.77      0.89      0.83        19\n",
      "\n",
      "    accuracy                           0.92        84\n",
      "   macro avg       0.87      0.91      0.89        84\n",
      "weighted avg       0.92      0.92      0.92        84\n",
      "\n"
     ]
    },
    {
     "data": {
      "image/png": "[encoded data removed]",
      "text/plain": [
       "<Figure size 432x288 with 2 Axes>"
      ]
     },
     "metadata": {
      "needs_background": "light"
     },
     "output_type": "display_data"
    },
    {
     "data": {
      "image/png": "[encoded data removed]",
      "text/plain": [
       "<Figure size 432x288 with 1 Axes>"
      ]
     },
     "metadata": {
      "needs_background": "light"
     },
     "output_type": "display_data"
    },
    {
     "data": {
      "text/html": [
       "<style>#sk-container-id-2 {color: black;background-color: white;}#sk-container-id-2 pre{padding: 0;}#sk-container-id-2 div.sk-toggleable {background-color: white;}#sk-container-id-2 label.sk-toggleable__label {cursor: pointer;display: block;width: 100%;margin-bottom: 0;padding: 0.3em;box-sizing: border-box;text-align: center;}#sk-container-id-2 label.sk-toggleable__label-arrow:before {content: \"▸\";float: left;margin-right: 0.25em;color: #696969;}#sk-container-id-2 label.sk-toggleable__label-arrow:hover:before {color: black;}#sk-container-id-2 div.sk-estimator:hover label.sk-toggleable__label-arrow:before {color: black;}#sk-container-id-2 div.sk-toggleable__content {max-height: 0;max-width: 0;overflow: hidden;text-align: left;background-color: #f0f8ff;}#sk-container-id-2 div.sk-toggleable__content pre {margin: 0.2em;color: black;border-radius: 0.25em;background-color: #f0f8ff;}#sk-container-id-2 input.sk-toggleable__control:checked~div.sk-toggleable__content {max-height: 200px;max-width: 100%;overflow: auto;}#sk-container-id-2 input.sk-toggleable__control:checked~label.sk-toggleable__label-arrow:before {content: \"▾\";}#sk-container-id-2 div.sk-estimator input.sk-toggleable__control:checked~label.sk-toggleable__label {background-color: #d4ebff;}#sk-container-id-2 div.sk-label input.sk-toggleable__control:checked~label.sk-toggleable__label {background-color: #d4ebff;}#sk-container-id-2 input.sk-hidden--visually {border: 0;clip: rect(1px 1px 1px 1px);clip: rect(1px, 1px, 1px, 1px);height: 1px;margin: -1px;overflow: hidden;padding: 0;position: absolute;width: 1px;}#sk-container-id-2 div.sk-estimator {font-family: monospace;background-color: #f0f8ff;border: 1px dotted black;border-radius: 0.25em;box-sizing: border-box;margin-bottom: 0.5em;}#sk-container-id-2 div.sk-estimator:hover {background-color: #d4ebff;}#sk-container-id-2 div.sk-parallel-item::after {content: \"\";width: 100%;border-bottom: 1px solid gray;flex-grow: 1;}#sk-container-id-2 div.sk-label:hover label.sk-toggleable__label {background-color: #d4ebff;}#sk-container-id-2 div.sk-serial::before {content: \"\";position: absolute;border-left: 1px solid gray;box-sizing: border-box;top: 0;bottom: 0;left: 50%;z-index: 0;}#sk-container-id-2 div.sk-serial {display: flex;flex-direction: column;align-items: center;background-color: white;padding-right: 0.2em;padding-left: 0.2em;position: relative;}#sk-container-id-2 div.sk-item {position: relative;z-index: 1;}#sk-container-id-2 div.sk-parallel {display: flex;align-items: stretch;justify-content: center;background-color: white;position: relative;}#sk-container-id-2 div.sk-item::before, #sk-container-id-2 div.sk-parallel-item::before {content: \"\";position: absolute;border-left: 1px solid gray;box-sizing: border-box;top: 0;bottom: 0;left: 50%;z-index: -1;}#sk-container-id-2 div.sk-parallel-item {display: flex;flex-direction: column;z-index: 1;position: relative;background-color: white;}#sk-container-id-2 div.sk-parallel-item:first-child::after {align-self: flex-end;width: 50%;}#sk-container-id-2 div.sk-parallel-item:last-child::after {align-self: flex-start;width: 50%;}#sk-container-id-2 div.sk-parallel-item:only-child::after {width: 0;}#sk-container-id-2 div.sk-dashed-wrapped {border: 1px dashed gray;margin: 0 0.4em 0.5em 0.4em;box-sizing: border-box;padding-bottom: 0.4em;background-color: white;}#sk-container-id-2 div.sk-label label {font-family: monospace;font-weight: bold;display: inline-block;line-height: 1.2em;}#sk-container-id-2 div.sk-label-container {text-align: center;}#sk-container-id-2 div.sk-container {/* jupyter's `normalize.less` sets `[hidden] { display: none; }` but bootstrap.min.css set `[hidden] { display: none !important; }` so we also need the `!important` here to be able to override the default hidden behavior on the sphinx rendered scikit-learn.org. See: https://github.com/scikit-learn/scikit-learn/issues/21755 */display: inline-block !important;position: relative;}#sk-container-id-2 div.sk-text-repr-fallback {display: none;}</style><div id=\"sk-container-id-2\" class=\"sk-top-container\"><div class=\"sk-text-repr-fallback\"><pre>GaussianNB()</pre><b>In a Jupyter environment, please rerun this cell to show the HTML representation or trust the notebook. <br />On GitHub, the HTML representation is unable to render, please try loading this page with nbviewer.org.</b></div><div class=\"sk-container\" hidden><div class=\"sk-item\"><div class=\"sk-estimator sk-toggleable\"><input class=\"sk-toggleable__control sk-hidden--visually\" id=\"sk-estimator-id-4\" type=\"checkbox\" checked><label for=\"sk-estimator-id-4\" class=\"sk-toggleable__label sk-toggleable__label-arrow\">GaussianNB</label><div class=\"sk-toggleable__content\"><pre>GaussianNB()</pre></div></div></div></div></div>"
      ],
      "text/plain": [
       "GaussianNB()"
      ]
     },
     "execution_count": 21,
     "metadata": {},
     "output_type": "execute_result"
    }
   ],
   "source": [
    "sfs_test.train_test_report(poly_X_train[new_features], poly_y_train, poly_X_test[new_features], poly_y_test)"
   ]
  },
  {
   "cell_type": "markdown",
   "metadata": {},
   "source": [
    "# Paramters Optimization"
   ]
  },
  {
   "cell_type": "code",
   "execution_count": 22,
   "metadata": {
    "tags": []
   },
   "outputs": [],
   "source": [
    "from genetic_algorithm import GeneticAlgorithm"
   ]
  },
  {
   "cell_type": "code",
   "execution_count": 25,
   "metadata": {
    "tags": []
   },
   "outputs": [],
   "source": [
    "priors = np.arange(start = 0.7, stop = 0.9, step = 0.005)\n",
    "priors_ = [[prior, 1 - prior] for prior in priors]"
   ]
  },
  {
   "cell_type": "code",
   "execution_count": 47,
   "metadata": {
    "jp-MarkdownHeadingCollapsed": true,
    "tags": []
   },
   "outputs": [],
   "source": [
    "param_nb = {\n",
    "     'priors': priors_\n",
    "}"
   ]
  },
  {
   "cell_type": "code",
   "execution_count": 48,
   "metadata": {
    "tags": []
   },
   "outputs": [],
   "source": [
    "optimizer = GeneticAlgorithm(GaussianNB(), param_nb, \n",
    "                            poly_X_train[new_features], poly_y_train, 6, 1, 30)"
   ]
  },
  {
   "cell_type": "code",
   "execution_count": 49,
   "metadata": {
    "tags": []
   },
   "outputs": [
    {
     "data": {
      "text/plain": [
       "{'priors': [0.9000000000000001, 0.09999999999999987]}"
      ]
     },
     "execution_count": 49,
     "metadata": {},
     "output_type": "execute_result"
    }
   ],
   "source": [
    "parameters = optimizer.evolution()\n",
    "parameters[0]"
   ]
  },
  {
   "cell_type": "markdown",
   "metadata": {},
   "source": [
    "Paramters: {'priors': [0.9000000000000001, 0.09999999999999987]}\n"
   ]
  },
  {
   "cell_type": "code",
   "execution_count": 189,
   "metadata": {
    "tags": []
   },
   "outputs": [
    {
     "data": {
      "text/html": [
       "<div>\n",
       "<style scoped>\n",
       "    .dataframe tbody tr th:only-of-type {\n",
       "        vertical-align: middle;\n",
       "    }\n",
       "\n",
       "    .dataframe tbody tr th {\n",
       "        vertical-align: top;\n",
       "    }\n",
       "\n",
       "    .dataframe thead th {\n",
       "        text-align: right;\n",
       "    }\n",
       "</style>\n",
       "<table border=\"1\" class=\"dataframe\">\n",
       "  <thead>\n",
       "    <tr style=\"text-align: right;\">\n",
       "      <th></th>\n",
       "      <th>Mean</th>\n",
       "      <th>STD</th>\n",
       "    </tr>\n",
       "  </thead>\n",
       "  <tbody>\n",
       "    <tr>\n",
       "      <th>Accuracy</th>\n",
       "      <td>0.959231</td>\n",
       "      <td>0.020391</td>\n",
       "    </tr>\n",
       "    <tr>\n",
       "      <th>Recall</th>\n",
       "      <td>0.950000</td>\n",
       "      <td>0.061237</td>\n",
       "    </tr>\n",
       "    <tr>\n",
       "      <th>Precision</th>\n",
       "      <td>0.893636</td>\n",
       "      <td>0.098987</td>\n",
       "    </tr>\n",
       "    <tr>\n",
       "      <th>F1_Score</th>\n",
       "      <td>0.914236</td>\n",
       "      <td>0.032525</td>\n",
       "    </tr>\n",
       "  </tbody>\n",
       "</table>\n",
       "</div>"
      ],
      "text/plain": [
       "               Mean       STD\n",
       "Accuracy   0.959231  0.020391\n",
       "Recall     0.950000  0.061237\n",
       "Precision  0.893636  0.098987\n",
       "F1_Score   0.914236  0.032525"
      ]
     },
     "execution_count": 189,
     "metadata": {},
     "output_type": "execute_result"
    }
   ],
   "source": [
    "prior = 0.9\n",
    "tuned_model = Test(model = GaussianNB(priors = [prior, 1 - prior]), n_folds = 5)\n",
    "scores = sfs_test.cross_validation_scores(poly_X_train[new_features], poly_y_train)\n",
    "scores"
   ]
  },
  {
   "cell_type": "code",
   "execution_count": 190,
   "metadata": {
    "tags": []
   },
   "outputs": [
    {
     "name": "stdout",
     "output_type": "stream",
     "text": [
      "Accuracy: 0.9404761904761905, Recall: 0.8947368421052632, Precision: 0.85, F1_Score: 0.8717948717948718\n",
      "              precision    recall  f1-score   support\n",
      "\n",
      "           0       0.97      0.95      0.96        65\n",
      "           1       0.85      0.89      0.87        19\n",
      "\n",
      "    accuracy                           0.94        84\n",
      "   macro avg       0.91      0.92      0.92        84\n",
      "weighted avg       0.94      0.94      0.94        84\n",
      "\n"
     ]
    },
    {
     "data": {
      "image/png": "[encoded data removed]",
      "text/plain": [
       "<Figure size 432x288 with 2 Axes>"
      ]
     },
     "metadata": {
      "needs_background": "light"
     },
     "output_type": "display_data"
    },
    {
     "data": {
      "image/png": "[encoded data removed]",
      "text/plain": [
       "<Figure size 432x288 with 1 Axes>"
      ]
     },
     "metadata": {
      "needs_background": "light"
     },
     "output_type": "display_data"
    }
   ],
   "source": [
    "tuned_model_ = tuned_model.train_test_report(poly_X_train[new_features], poly_y_train, poly_X_test[new_features], poly_y_test)"
   ]
  },
  {
   "cell_type": "markdown",
   "metadata": {},
   "source": [
    "# Test on Synthetic Data"
   ]
  },
  {
   "cell_type": "code",
   "execution_count": 180,
   "metadata": {
    "tags": []
   },
   "outputs": [],
   "source": [
    "syn_data = dm.read_data('Synthetic_data.xlsx')\n",
    "syn_data.drop(['Unnamed: 0'], axis = 1, inplace = True)\n",
    "syn_data = dm.sort_dataFrame(syn_data)"
   ]
  },
  {
   "cell_type": "code",
   "execution_count": 181,
   "metadata": {
    "tags": []
   },
   "outputs": [],
   "source": [
    "poly_syn_data = dp.PolynomialFeatures_labeled(syn_data.drop('Dysgraphia', axis = 1), power = 2)\n",
    "poly_syn_data.drop('Constant Term', axis = 1, inplace = True)"
   ]
  },
  {
   "cell_type": "code",
   "execution_count": 182,
   "metadata": {
    "tags": []
   },
   "outputs": [
    {
     "data": {
      "text/html": [
       "<div>\n",
       "<style scoped>\n",
       "    .dataframe tbody tr th:only-of-type {\n",
       "        vertical-align: middle;\n",
       "    }\n",
       "\n",
       "    .dataframe tbody tr th {\n",
       "        vertical-align: top;\n",
       "    }\n",
       "\n",
       "    .dataframe thead th {\n",
       "        text-align: right;\n",
       "    }\n",
       "</style>\n",
       "<table border=\"1\" class=\"dataframe\">\n",
       "  <thead>\n",
       "    <tr style=\"text-align: right;\">\n",
       "      <th></th>\n",
       "      <th>BHK_raw_quality_score**1</th>\n",
       "      <th>BHK_raw_speed_score**1</th>\n",
       "      <th>median_Freq_speed**1</th>\n",
       "      <th>mean_d_P**1</th>\n",
       "      <th>median_Freq_tilt_y**1</th>\n",
       "      <th>mean_Pressure**1</th>\n",
       "      <th>median_Freq_tremolo**1</th>\n",
       "      <th>dist_Freq_tilt_x**1</th>\n",
       "      <th>dist_Freq_speed**1</th>\n",
       "      <th>Space_Between_Words**1</th>\n",
       "      <th>...</th>\n",
       "      <th>std_d_P**2</th>\n",
       "      <th>std_d_P**1 x std_Density**1</th>\n",
       "      <th>std_d_P**1 x in_Air**1</th>\n",
       "      <th>std_d_P**1 x Age**1</th>\n",
       "      <th>std_Density**2</th>\n",
       "      <th>std_Density**1 x in_Air**1</th>\n",
       "      <th>std_Density**1 x Age**1</th>\n",
       "      <th>in_Air**2</th>\n",
       "      <th>in_Air**1 x Age**1</th>\n",
       "      <th>Age**2</th>\n",
       "    </tr>\n",
       "  </thead>\n",
       "  <tbody>\n",
       "    <tr>\n",
       "      <th>0</th>\n",
       "      <td>0.572982</td>\n",
       "      <td>-1.349296</td>\n",
       "      <td>-0.915145</td>\n",
       "      <td>-0.819750</td>\n",
       "      <td>1.004701</td>\n",
       "      <td>0.826893</td>\n",
       "      <td>0.679553</td>\n",
       "      <td>-0.247230</td>\n",
       "      <td>0.237752</td>\n",
       "      <td>0.194778</td>\n",
       "      <td>...</td>\n",
       "      <td>-1.082912</td>\n",
       "      <td>-0.438814</td>\n",
       "      <td>-1.094723</td>\n",
       "      <td>-1.445784</td>\n",
       "      <td>0.388016</td>\n",
       "      <td>0.405810</td>\n",
       "      <td>-0.235971</td>\n",
       "      <td>-0.043216</td>\n",
       "      <td>-1.447666</td>\n",
       "      <td>-1.643416</td>\n",
       "    </tr>\n",
       "    <tr>\n",
       "      <th>1</th>\n",
       "      <td>0.441014</td>\n",
       "      <td>-0.883993</td>\n",
       "      <td>-1.152248</td>\n",
       "      <td>0.033426</td>\n",
       "      <td>-0.151270</td>\n",
       "      <td>-0.125666</td>\n",
       "      <td>0.673484</td>\n",
       "      <td>-0.164502</td>\n",
       "      <td>0.713368</td>\n",
       "      <td>0.479448</td>\n",
       "      <td>...</td>\n",
       "      <td>-0.717693</td>\n",
       "      <td>-0.524489</td>\n",
       "      <td>-0.588403</td>\n",
       "      <td>-1.147873</td>\n",
       "      <td>-0.359185</td>\n",
       "      <td>-0.204761</td>\n",
       "      <td>-0.791721</td>\n",
       "      <td>-0.072663</td>\n",
       "      <td>-1.465067</td>\n",
       "      <td>-1.643416</td>\n",
       "    </tr>\n",
       "    <tr>\n",
       "      <th>2</th>\n",
       "      <td>-0.130845</td>\n",
       "      <td>-0.259983</td>\n",
       "      <td>-0.397416</td>\n",
       "      <td>-0.478046</td>\n",
       "      <td>0.199664</td>\n",
       "      <td>-1.246003</td>\n",
       "      <td>0.894840</td>\n",
       "      <td>0.409465</td>\n",
       "      <td>-0.424547</td>\n",
       "      <td>-0.597363</td>\n",
       "      <td>...</td>\n",
       "      <td>-0.911577</td>\n",
       "      <td>0.000129</td>\n",
       "      <td>-0.489473</td>\n",
       "      <td>-0.932603</td>\n",
       "      <td>0.743716</td>\n",
       "      <td>1.068651</td>\n",
       "      <td>0.705197</td>\n",
       "      <td>1.052937</td>\n",
       "      <td>0.426727</td>\n",
       "      <td>-0.596756</td>\n",
       "    </tr>\n",
       "    <tr>\n",
       "      <th>3</th>\n",
       "      <td>1.584733</td>\n",
       "      <td>-1.158125</td>\n",
       "      <td>-0.927376</td>\n",
       "      <td>-0.075512</td>\n",
       "      <td>1.795669</td>\n",
       "      <td>0.085838</td>\n",
       "      <td>0.591539</td>\n",
       "      <td>0.266314</td>\n",
       "      <td>0.297270</td>\n",
       "      <td>0.896924</td>\n",
       "      <td>...</td>\n",
       "      <td>-0.673999</td>\n",
       "      <td>0.361721</td>\n",
       "      <td>0.140423</td>\n",
       "      <td>-0.905471</td>\n",
       "      <td>0.807291</td>\n",
       "      <td>1.400595</td>\n",
       "      <td>0.384578</td>\n",
       "      <td>1.868438</td>\n",
       "      <td>0.237276</td>\n",
       "      <td>-1.157467</td>\n",
       "    </tr>\n",
       "    <tr>\n",
       "      <th>4</th>\n",
       "      <td>-0.064862</td>\n",
       "      <td>-0.168005</td>\n",
       "      <td>-0.772471</td>\n",
       "      <td>0.142842</td>\n",
       "      <td>0.875173</td>\n",
       "      <td>-0.721070</td>\n",
       "      <td>0.680223</td>\n",
       "      <td>-0.189620</td>\n",
       "      <td>-0.106759</td>\n",
       "      <td>-0.078281</td>\n",
       "      <td>...</td>\n",
       "      <td>-0.061150</td>\n",
       "      <td>0.357792</td>\n",
       "      <td>0.286942</td>\n",
       "      <td>0.352017</td>\n",
       "      <td>0.014165</td>\n",
       "      <td>0.232850</td>\n",
       "      <td>0.646773</td>\n",
       "      <td>0.275163</td>\n",
       "      <td>1.026260</td>\n",
       "      <td>0.748949</td>\n",
       "    </tr>\n",
       "  </tbody>\n",
       "</table>\n",
       "<p>5 rows × 135 columns</p>\n",
       "</div>"
      ],
      "text/plain": [
       "   BHK_raw_quality_score**1  BHK_raw_speed_score**1  median_Freq_speed**1  \\\n",
       "0                  0.572982               -1.349296             -0.915145   \n",
       "1                  0.441014               -0.883993             -1.152248   \n",
       "2                 -0.130845               -0.259983             -0.397416   \n",
       "3                  1.584733               -1.158125             -0.927376   \n",
       "4                 -0.064862               -0.168005             -0.772471   \n",
       "\n",
       "   mean_d_P**1  median_Freq_tilt_y**1  mean_Pressure**1  \\\n",
       "0    -0.819750               1.004701          0.826893   \n",
       "1     0.033426              -0.151270         -0.125666   \n",
       "2    -0.478046               0.199664         -1.246003   \n",
       "3    -0.075512               1.795669          0.085838   \n",
       "4     0.142842               0.875173         -0.721070   \n",
       "\n",
       "   median_Freq_tremolo**1  dist_Freq_tilt_x**1  dist_Freq_speed**1  \\\n",
       "0                0.679553            -0.247230            0.237752   \n",
       "1                0.673484            -0.164502            0.713368   \n",
       "2                0.894840             0.409465           -0.424547   \n",
       "3                0.591539             0.266314            0.297270   \n",
       "4                0.680223            -0.189620           -0.106759   \n",
       "\n",
       "   Space_Between_Words**1  ...  std_d_P**2  std_d_P**1 x std_Density**1  \\\n",
       "0                0.194778  ...   -1.082912                    -0.438814   \n",
       "1                0.479448  ...   -0.717693                    -0.524489   \n",
       "2               -0.597363  ...   -0.911577                     0.000129   \n",
       "3                0.896924  ...   -0.673999                     0.361721   \n",
       "4               -0.078281  ...   -0.061150                     0.357792   \n",
       "\n",
       "   std_d_P**1 x in_Air**1  std_d_P**1 x Age**1  std_Density**2  \\\n",
       "0               -1.094723            -1.445784        0.388016   \n",
       "1               -0.588403            -1.147873       -0.359185   \n",
       "2               -0.489473            -0.932603        0.743716   \n",
       "3                0.140423            -0.905471        0.807291   \n",
       "4                0.286942             0.352017        0.014165   \n",
       "\n",
       "   std_Density**1 x in_Air**1  std_Density**1 x Age**1  in_Air**2  \\\n",
       "0                    0.405810                -0.235971  -0.043216   \n",
       "1                   -0.204761                -0.791721  -0.072663   \n",
       "2                    1.068651                 0.705197   1.052937   \n",
       "3                    1.400595                 0.384578   1.868438   \n",
       "4                    0.232850                 0.646773   0.275163   \n",
       "\n",
       "   in_Air**1 x Age**1    Age**2  \n",
       "0           -1.447666 -1.643416  \n",
       "1           -1.465067 -1.643416  \n",
       "2            0.426727 -0.596756  \n",
       "3            0.237276 -1.157467  \n",
       "4            1.026260  0.748949  \n",
       "\n",
       "[5 rows x 135 columns]"
      ]
     },
     "execution_count": 182,
     "metadata": {},
     "output_type": "execute_result"
    }
   ],
   "source": [
    "features, target = poly_syn_data, syn_data['Dysgraphia'] \n",
    "features = pd.DataFrame(poly_scaler.transform(features), columns = poly_data.columns)\n",
    "features.head()"
   ]
  },
  {
   "cell_type": "code",
   "execution_count": 183,
   "metadata": {
    "tags": []
   },
   "outputs": [
    {
     "name": "stdout",
     "output_type": "stream",
     "text": [
      "Accuracy: 0.9490445859872612, Recall: 0.8518518518518519, Precision: 0.8518518518518519, F1_Score: 0.8518518518518519\n"
     ]
    }
   ],
   "source": [
    "tuned_model.test_on_synthetic_data(features[new_features], target)"
   ]
  },
  {
   "cell_type": "markdown",
   "metadata": {},
   "source": [
    "# PipeLine Automation"
   ]
  },
  {
   "cell_type": "code",
   "execution_count": 76,
   "metadata": {
    "tags": []
   },
   "outputs": [],
   "source": [
    "from sklearn.pipeline import Pipeline"
   ]
  },
  {
   "cell_type": "code",
   "execution_count": 184,
   "metadata": {
    "tags": []
   },
   "outputs": [],
   "source": [
    "model = Pipeline([('std_sca' ,StandardScaler()), ('gnb', GaussianNB(priors = [prior, 1 - prior]))])"
   ]
  },
  {
   "cell_type": "code",
   "execution_count": 185,
   "metadata": {
    "tags": []
   },
   "outputs": [],
   "source": [
    "X_final = dp.PolynomialFeatures_labeled(X, 2)\n",
    "X_final = X_final[new_features]"
   ]
  },
  {
   "cell_type": "code",
   "execution_count": 186,
   "metadata": {
    "tags": []
   },
   "outputs": [],
   "source": [
    "model.fit(X_final, y)\n",
    "preds, probs = model.predict(X_final), model.predict_proba(X_final)[:, 1]"
   ]
  },
  {
   "cell_type": "code",
   "execution_count": 187,
   "metadata": {
    "tags": []
   },
   "outputs": [
    {
     "name": "stdout",
     "output_type": "stream",
     "text": [
      "Accuracy: 0.9571428571428572, Recall: 0.8870967741935484, Precision: 0.9166666666666666, F1: 0.9016393442622951\n"
     ]
    }
   ],
   "source": [
    "from sklearn.metrics import accuracy_score, recall_score, f1_score, precision_score\n",
    "print('Accuracy: {}, Recall: {}, Precision: {}, F1: {}'.format(accuracy_score(y, preds), recall_score(y, preds), precision_score(y, preds), f1_score(y, preds)))"
   ]
  },
  {
   "cell_type": "code",
   "execution_count": 188,
   "metadata": {
    "tags": []
   },
   "outputs": [
    {
     "data": {
      "text/plain": [
       "array([0.9, 0.1])"
      ]
     },
     "execution_count": 188,
     "metadata": {},
     "output_type": "execute_result"
    }
   ],
   "source": [
    "model.named_steps['gnb'].class_prior_"
   ]
  },
  {
   "cell_type": "markdown",
   "metadata": {},
   "source": [
    "# Model Deployment"
   ]
  },
  {
   "cell_type": "code",
   "execution_count": 102,
   "metadata": {
    "tags": []
   },
   "outputs": [],
   "source": [
    "import pickle "
   ]
  },
  {
   "cell_type": "code",
   "execution_count": 103,
   "metadata": {
    "tags": []
   },
   "outputs": [],
   "source": [
    "with open('C:/Users/User/Desktop/Dyslexia project/Models/gaussian_model.pkl', 'wb') as file:\n",
    "    pickle.dump(model, file)"
   ]
  },
  {
   "cell_type": "code",
   "execution_count": null,
   "metadata": {},
   "outputs": [],
   "source": []
  }
 ],
 "metadata": {
  "kernelspec": {
   "display_name": "Python 3",
   "language": "python",
   "name": "python3"
  },
  "language_info": {
   "codemirror_mode": {
    "name": "ipython",
    "version": 3
   },
   "file_extension": ".py",
   "mimetype": "text/x-python",
   "name": "python",
   "nbconvert_exporter": "python",
   "pygments_lexer": "ipython3",
   "version": "3.8.3"
  }
 },
 "nbformat": 4,
 "nbformat_minor": 4
}
