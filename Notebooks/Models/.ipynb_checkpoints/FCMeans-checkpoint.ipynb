{
 "cells": [
  {
   "cell_type": "code",
   "execution_count": 1,
   "metadata": {},
   "outputs": [],
   "source": [
    "import sys\n",
    "import os\n",
    "\n",
    "module_path = os.path.abspath(os.path.join('..'))\n",
    "if module_path not in sys.path:\n",
    "    sys.path.append(module_path+\"\\\\source\")\n",
    "\n",
    "import data_manipulation as dm \n",
    "import model_test\n",
    "import data_visualization as dv\n",
    "import data_processing as dp"
   ]
  },
  {
   "cell_type": "code",
   "execution_count": 2,
   "metadata": {},
   "outputs": [],
   "source": [
    "import matplotlib.pyplot as plt\n",
    "import numpy as np\n",
    "import seaborn as sns\n",
    "import pandas as pd\n",
    "import plotly as pl\n",
    "from model_test import Test"
   ]
  },
  {
   "cell_type": "code",
   "execution_count": 3,
   "metadata": {},
   "outputs": [],
   "source": [
    "from sklearn.cluster import KMeans\n",
    "from fcmeans import FCM"
   ]
  },
  {
   "cell_type": "code",
   "execution_count": 4,
   "metadata": {},
   "outputs": [
    {
     "data": {
      "text/html": [
       "<div>\n",
       "<style scoped>\n",
       "    .dataframe tbody tr th:only-of-type {\n",
       "        vertical-align: middle;\n",
       "    }\n",
       "\n",
       "    .dataframe tbody tr th {\n",
       "        vertical-align: top;\n",
       "    }\n",
       "\n",
       "    .dataframe thead th {\n",
       "        text-align: right;\n",
       "    }\n",
       "</style>\n",
       "<table border=\"1\" class=\"dataframe\">\n",
       "  <thead>\n",
       "    <tr style=\"text-align: right;\">\n",
       "      <th></th>\n",
       "      <th>BHK_raw_quality_score</th>\n",
       "      <th>median_Freq_speed</th>\n",
       "      <th>dist_Freq_tilt_x</th>\n",
       "      <th>dist_Freq_speed</th>\n",
       "      <th>median_Freq_tilt_y</th>\n",
       "      <th>mean_d_P</th>\n",
       "      <th>bandwidth_tilt_x</th>\n",
       "      <th>std_d_P</th>\n",
       "      <th>Space_Between_Words</th>\n",
       "      <th>in_Air</th>\n",
       "      <th>mean_Pressure</th>\n",
       "      <th>BHK_raw_speed_score</th>\n",
       "      <th>std_Density</th>\n",
       "      <th>median_Freq_tremolo</th>\n",
       "      <th>Dysgraphia</th>\n",
       "    </tr>\n",
       "  </thead>\n",
       "  <tbody>\n",
       "    <tr>\n",
       "      <th>0</th>\n",
       "      <td>1.083007</td>\n",
       "      <td>0.835711</td>\n",
       "      <td>1.734939</td>\n",
       "      <td>-0.356947</td>\n",
       "      <td>-0.686305</td>\n",
       "      <td>-0.528402</td>\n",
       "      <td>2.588460</td>\n",
       "      <td>1.755107</td>\n",
       "      <td>0.620459</td>\n",
       "      <td>0.845887</td>\n",
       "      <td>0.889966</td>\n",
       "      <td>0.246844</td>\n",
       "      <td>1.837069</td>\n",
       "      <td>0.613215</td>\n",
       "      <td>1</td>\n",
       "    </tr>\n",
       "    <tr>\n",
       "      <th>1</th>\n",
       "      <td>2.324819</td>\n",
       "      <td>0.325687</td>\n",
       "      <td>4.706424</td>\n",
       "      <td>-0.747478</td>\n",
       "      <td>-0.488737</td>\n",
       "      <td>-1.365343</td>\n",
       "      <td>3.814543</td>\n",
       "      <td>-1.066303</td>\n",
       "      <td>0.859430</td>\n",
       "      <td>0.481394</td>\n",
       "      <td>-0.798494</td>\n",
       "      <td>-1.261162</td>\n",
       "      <td>1.193590</td>\n",
       "      <td>0.137597</td>\n",
       "      <td>1</td>\n",
       "    </tr>\n",
       "    <tr>\n",
       "      <th>2</th>\n",
       "      <td>1.845523</td>\n",
       "      <td>2.569234</td>\n",
       "      <td>-0.105224</td>\n",
       "      <td>3.223165</td>\n",
       "      <td>-0.216625</td>\n",
       "      <td>-1.794499</td>\n",
       "      <td>-1.137784</td>\n",
       "      <td>-2.340401</td>\n",
       "      <td>-2.329903</td>\n",
       "      <td>0.730172</td>\n",
       "      <td>-2.732831</td>\n",
       "      <td>-1.145968</td>\n",
       "      <td>0.793901</td>\n",
       "      <td>0.490673</td>\n",
       "      <td>1</td>\n",
       "    </tr>\n",
       "    <tr>\n",
       "      <th>3</th>\n",
       "      <td>1.801951</td>\n",
       "      <td>0.425734</td>\n",
       "      <td>2.501196</td>\n",
       "      <td>-0.705685</td>\n",
       "      <td>-2.071599</td>\n",
       "      <td>-1.446451</td>\n",
       "      <td>3.976658</td>\n",
       "      <td>-0.978519</td>\n",
       "      <td>2.482885</td>\n",
       "      <td>0.670305</td>\n",
       "      <td>-0.391261</td>\n",
       "      <td>-1.371121</td>\n",
       "      <td>0.094941</td>\n",
       "      <td>0.769938</td>\n",
       "      <td>1</td>\n",
       "    </tr>\n",
       "    <tr>\n",
       "      <th>4</th>\n",
       "      <td>0.712642</td>\n",
       "      <td>2.269705</td>\n",
       "      <td>3.218927</td>\n",
       "      <td>2.549374</td>\n",
       "      <td>1.487131</td>\n",
       "      <td>-1.491850</td>\n",
       "      <td>1.347270</td>\n",
       "      <td>-0.666725</td>\n",
       "      <td>-1.086386</td>\n",
       "      <td>2.453771</td>\n",
       "      <td>-1.236052</td>\n",
       "      <td>-1.016810</td>\n",
       "      <td>0.369287</td>\n",
       "      <td>0.734055</td>\n",
       "      <td>1</td>\n",
       "    </tr>\n",
       "  </tbody>\n",
       "</table>\n",
       "</div>"
      ],
      "text/plain": [
       "   BHK_raw_quality_score  median_Freq_speed  dist_Freq_tilt_x  \\\n",
       "0               1.083007           0.835711          1.734939   \n",
       "1               2.324819           0.325687          4.706424   \n",
       "2               1.845523           2.569234         -0.105224   \n",
       "3               1.801951           0.425734          2.501196   \n",
       "4               0.712642           2.269705          3.218927   \n",
       "\n",
       "   dist_Freq_speed  median_Freq_tilt_y  mean_d_P  bandwidth_tilt_x   std_d_P  \\\n",
       "0        -0.356947           -0.686305 -0.528402          2.588460  1.755107   \n",
       "1        -0.747478           -0.488737 -1.365343          3.814543 -1.066303   \n",
       "2         3.223165           -0.216625 -1.794499         -1.137784 -2.340401   \n",
       "3        -0.705685           -2.071599 -1.446451          3.976658 -0.978519   \n",
       "4         2.549374            1.487131 -1.491850          1.347270 -0.666725   \n",
       "\n",
       "   Space_Between_Words    in_Air  mean_Pressure  BHK_raw_speed_score  \\\n",
       "0             0.620459  0.845887       0.889966             0.246844   \n",
       "1             0.859430  0.481394      -0.798494            -1.261162   \n",
       "2            -2.329903  0.730172      -2.732831            -1.145968   \n",
       "3             2.482885  0.670305      -0.391261            -1.371121   \n",
       "4            -1.086386  2.453771      -1.236052            -1.016810   \n",
       "\n",
       "   std_Density  median_Freq_tremolo  Dysgraphia  \n",
       "0     1.837069             0.613215           1  \n",
       "1     1.193590             0.137597           1  \n",
       "2     0.793901             0.490673           1  \n",
       "3     0.094941             0.769938           1  \n",
       "4     0.369287             0.734055           1  "
      ]
     },
     "execution_count": 4,
     "metadata": {},
     "output_type": "execute_result"
    }
   ],
   "source": [
    "data = dm.read_data('reduced_data.xlsx')\n",
    "data.head()"
   ]
  },
  {
   "cell_type": "code",
   "execution_count": 5,
   "metadata": {},
   "outputs": [
    {
     "data": {
      "text/html": [
       "<div>\n",
       "<style scoped>\n",
       "    .dataframe tbody tr th:only-of-type {\n",
       "        vertical-align: middle;\n",
       "    }\n",
       "\n",
       "    .dataframe tbody tr th {\n",
       "        vertical-align: top;\n",
       "    }\n",
       "\n",
       "    .dataframe thead th {\n",
       "        text-align: right;\n",
       "    }\n",
       "</style>\n",
       "<table border=\"1\" class=\"dataframe\">\n",
       "  <thead>\n",
       "    <tr style=\"text-align: right;\">\n",
       "      <th></th>\n",
       "      <th>BHK_raw_quality_score</th>\n",
       "      <th>median_Freq_speed</th>\n",
       "      <th>dist_Freq_tilt_x</th>\n",
       "      <th>dist_Freq_speed</th>\n",
       "      <th>median_Freq_tilt_y</th>\n",
       "      <th>mean_d_P</th>\n",
       "      <th>bandwidth_tilt_x</th>\n",
       "      <th>std_d_P</th>\n",
       "      <th>Space_Between_Words</th>\n",
       "      <th>in_Air</th>\n",
       "      <th>mean_Pressure</th>\n",
       "      <th>BHK_raw_speed_score</th>\n",
       "      <th>std_Density</th>\n",
       "      <th>median_Freq_tremolo</th>\n",
       "    </tr>\n",
       "  </thead>\n",
       "  <tbody>\n",
       "    <tr>\n",
       "      <th>0</th>\n",
       "      <td>1.083007</td>\n",
       "      <td>0.835711</td>\n",
       "      <td>1.734939</td>\n",
       "      <td>-0.356947</td>\n",
       "      <td>-0.686305</td>\n",
       "      <td>-0.528402</td>\n",
       "      <td>2.588460</td>\n",
       "      <td>1.755107</td>\n",
       "      <td>0.620459</td>\n",
       "      <td>0.845887</td>\n",
       "      <td>0.889966</td>\n",
       "      <td>0.246844</td>\n",
       "      <td>1.837069</td>\n",
       "      <td>0.613215</td>\n",
       "    </tr>\n",
       "    <tr>\n",
       "      <th>1</th>\n",
       "      <td>2.324819</td>\n",
       "      <td>0.325687</td>\n",
       "      <td>4.706424</td>\n",
       "      <td>-0.747478</td>\n",
       "      <td>-0.488737</td>\n",
       "      <td>-1.365343</td>\n",
       "      <td>3.814543</td>\n",
       "      <td>-1.066303</td>\n",
       "      <td>0.859430</td>\n",
       "      <td>0.481394</td>\n",
       "      <td>-0.798494</td>\n",
       "      <td>-1.261162</td>\n",
       "      <td>1.193590</td>\n",
       "      <td>0.137597</td>\n",
       "    </tr>\n",
       "    <tr>\n",
       "      <th>2</th>\n",
       "      <td>1.845523</td>\n",
       "      <td>2.569234</td>\n",
       "      <td>-0.105224</td>\n",
       "      <td>3.223165</td>\n",
       "      <td>-0.216625</td>\n",
       "      <td>-1.794499</td>\n",
       "      <td>-1.137784</td>\n",
       "      <td>-2.340401</td>\n",
       "      <td>-2.329903</td>\n",
       "      <td>0.730172</td>\n",
       "      <td>-2.732831</td>\n",
       "      <td>-1.145968</td>\n",
       "      <td>0.793901</td>\n",
       "      <td>0.490673</td>\n",
       "    </tr>\n",
       "    <tr>\n",
       "      <th>3</th>\n",
       "      <td>1.801951</td>\n",
       "      <td>0.425734</td>\n",
       "      <td>2.501196</td>\n",
       "      <td>-0.705685</td>\n",
       "      <td>-2.071599</td>\n",
       "      <td>-1.446451</td>\n",
       "      <td>3.976658</td>\n",
       "      <td>-0.978519</td>\n",
       "      <td>2.482885</td>\n",
       "      <td>0.670305</td>\n",
       "      <td>-0.391261</td>\n",
       "      <td>-1.371121</td>\n",
       "      <td>0.094941</td>\n",
       "      <td>0.769938</td>\n",
       "    </tr>\n",
       "    <tr>\n",
       "      <th>4</th>\n",
       "      <td>0.712642</td>\n",
       "      <td>2.269705</td>\n",
       "      <td>3.218927</td>\n",
       "      <td>2.549374</td>\n",
       "      <td>1.487131</td>\n",
       "      <td>-1.491850</td>\n",
       "      <td>1.347270</td>\n",
       "      <td>-0.666725</td>\n",
       "      <td>-1.086386</td>\n",
       "      <td>2.453771</td>\n",
       "      <td>-1.236052</td>\n",
       "      <td>-1.016810</td>\n",
       "      <td>0.369287</td>\n",
       "      <td>0.734055</td>\n",
       "    </tr>\n",
       "  </tbody>\n",
       "</table>\n",
       "</div>"
      ],
      "text/plain": [
       "   BHK_raw_quality_score  median_Freq_speed  dist_Freq_tilt_x  \\\n",
       "0               1.083007           0.835711          1.734939   \n",
       "1               2.324819           0.325687          4.706424   \n",
       "2               1.845523           2.569234         -0.105224   \n",
       "3               1.801951           0.425734          2.501196   \n",
       "4               0.712642           2.269705          3.218927   \n",
       "\n",
       "   dist_Freq_speed  median_Freq_tilt_y  mean_d_P  bandwidth_tilt_x   std_d_P  \\\n",
       "0        -0.356947           -0.686305 -0.528402          2.588460  1.755107   \n",
       "1        -0.747478           -0.488737 -1.365343          3.814543 -1.066303   \n",
       "2         3.223165           -0.216625 -1.794499         -1.137784 -2.340401   \n",
       "3        -0.705685           -2.071599 -1.446451          3.976658 -0.978519   \n",
       "4         2.549374            1.487131 -1.491850          1.347270 -0.666725   \n",
       "\n",
       "   Space_Between_Words    in_Air  mean_Pressure  BHK_raw_speed_score  \\\n",
       "0             0.620459  0.845887       0.889966             0.246844   \n",
       "1             0.859430  0.481394      -0.798494            -1.261162   \n",
       "2            -2.329903  0.730172      -2.732831            -1.145968   \n",
       "3             2.482885  0.670305      -0.391261            -1.371121   \n",
       "4            -1.086386  2.453771      -1.236052            -1.016810   \n",
       "\n",
       "   std_Density  median_Freq_tremolo  \n",
       "0     1.837069             0.613215  \n",
       "1     1.193590             0.137597  \n",
       "2     0.793901             0.490673  \n",
       "3     0.094941             0.769938  \n",
       "4     0.369287             0.734055  "
      ]
     },
     "execution_count": 5,
     "metadata": {},
     "output_type": "execute_result"
    }
   ],
   "source": [
    "features = data.drop(['Dysgraphia'], axis = 1)\n",
    "features.head()"
   ]
  },
  {
   "cell_type": "code",
   "execution_count": 6,
   "metadata": {},
   "outputs": [
    {
     "data": {
      "text/plain": [
       "(280, 14)"
      ]
     },
     "execution_count": 6,
     "metadata": {},
     "output_type": "execute_result"
    }
   ],
   "source": [
    "values = features.values\n",
    "values.shape"
   ]
  },
  {
   "cell_type": "code",
   "execution_count": 7,
   "metadata": {},
   "outputs": [],
   "source": [
    "y = data['Dysgraphia']"
   ]
  },
  {
   "cell_type": "code",
   "execution_count": 8,
   "metadata": {},
   "outputs": [
    {
     "name": "stderr",
     "output_type": "stream",
     "text": [
      "C:\\Users\\User\\Desktop\\Études\\ENSEA\\Projet de recherche\\Dyslexia project\\source\\model_test.py:54: RuntimeWarning: Mean of empty slice.\n",
      "  dd = {'Mean': [np.array(acc).mean(), np.array(rec).mean(), np.array(prec).mean(), np.array(f1).mean()],\n",
      "C:\\Users\\User\\anaconda3\\lib\\site-packages\\numpy\\core\\_methods.py:189: RuntimeWarning: invalid value encountered in double_scalars\n",
      "  ret = ret.dtype.type(ret / rcount)\n",
      "C:\\Users\\User\\anaconda3\\lib\\site-packages\\numpy\\core\\_methods.py:264: RuntimeWarning: Degrees of freedom <= 0 for slice\n",
      "  ret = _var(a, axis=axis, dtype=dtype, out=out, ddof=ddof,\n",
      "C:\\Users\\User\\anaconda3\\lib\\site-packages\\numpy\\core\\_methods.py:222: RuntimeWarning: invalid value encountered in true_divide\n",
      "  arrmean = um.true_divide(arrmean, div, out=arrmean, casting='unsafe',\n",
      "C:\\Users\\User\\anaconda3\\lib\\site-packages\\numpy\\core\\_methods.py:256: RuntimeWarning: invalid value encountered in double_scalars\n",
      "  ret = ret.dtype.type(ret / rcount)\n"
     ]
    }
   ],
   "source": [
    "tst = Test(features, y, FCM(n_clusters = 2, random_state = 0, max_iter = 10, init = 'k-means++'))\n",
    "scores = tst.cross_validation_scores()"
   ]
  },
  {
   "cell_type": "code",
   "execution_count": 9,
   "metadata": {},
   "outputs": [
    {
     "data": {
      "text/html": [
       "<div>\n",
       "<style scoped>\n",
       "    .dataframe tbody tr th:only-of-type {\n",
       "        vertical-align: middle;\n",
       "    }\n",
       "\n",
       "    .dataframe tbody tr th {\n",
       "        vertical-align: top;\n",
       "    }\n",
       "\n",
       "    .dataframe thead th {\n",
       "        text-align: right;\n",
       "    }\n",
       "</style>\n",
       "<table border=\"1\" class=\"dataframe\">\n",
       "  <thead>\n",
       "    <tr style=\"text-align: right;\">\n",
       "      <th></th>\n",
       "      <th>Mean</th>\n",
       "      <th>STD</th>\n",
       "    </tr>\n",
       "  </thead>\n",
       "  <tbody>\n",
       "    <tr>\n",
       "      <th>Accuracy</th>\n",
       "      <td>NaN</td>\n",
       "      <td>NaN</td>\n",
       "    </tr>\n",
       "    <tr>\n",
       "      <th>Recall</th>\n",
       "      <td>NaN</td>\n",
       "      <td>NaN</td>\n",
       "    </tr>\n",
       "    <tr>\n",
       "      <th>Precision</th>\n",
       "      <td>NaN</td>\n",
       "      <td>NaN</td>\n",
       "    </tr>\n",
       "    <tr>\n",
       "      <th>F1_Score</th>\n",
       "      <td>NaN</td>\n",
       "      <td>NaN</td>\n",
       "    </tr>\n",
       "  </tbody>\n",
       "</table>\n",
       "</div>"
      ],
      "text/plain": [
       "           Mean  STD\n",
       "Accuracy    NaN  NaN\n",
       "Recall      NaN  NaN\n",
       "Precision   NaN  NaN\n",
       "F1_Score    NaN  NaN"
      ]
     },
     "execution_count": 9,
     "metadata": {},
     "output_type": "execute_result"
    }
   ],
   "source": [
    "scores"
   ]
  },
  {
   "cell_type": "markdown",
   "metadata": {},
   "source": [
    "# PCA data"
   ]
  },
  {
   "cell_type": "code",
   "execution_count": 33,
   "metadata": {},
   "outputs": [
    {
     "data": {
      "text/html": [
       "<div>\n",
       "<style scoped>\n",
       "    .dataframe tbody tr th:only-of-type {\n",
       "        vertical-align: middle;\n",
       "    }\n",
       "\n",
       "    .dataframe tbody tr th {\n",
       "        vertical-align: top;\n",
       "    }\n",
       "\n",
       "    .dataframe thead th {\n",
       "        text-align: right;\n",
       "    }\n",
       "</style>\n",
       "<table border=\"1\" class=\"dataframe\">\n",
       "  <thead>\n",
       "    <tr style=\"text-align: right;\">\n",
       "      <th></th>\n",
       "      <th>Component 1</th>\n",
       "      <th>Component 2</th>\n",
       "      <th>Component 3</th>\n",
       "      <th>Component 4</th>\n",
       "      <th>Component 5</th>\n",
       "      <th>Dysgraphia</th>\n",
       "    </tr>\n",
       "  </thead>\n",
       "  <tbody>\n",
       "    <tr>\n",
       "      <th>0</th>\n",
       "      <td>1.496535</td>\n",
       "      <td>0.044959</td>\n",
       "      <td>3.719759</td>\n",
       "      <td>0.776027</td>\n",
       "      <td>0.330248</td>\n",
       "      <td>Yes</td>\n",
       "    </tr>\n",
       "    <tr>\n",
       "      <th>1</th>\n",
       "      <td>4.191111</td>\n",
       "      <td>0.444331</td>\n",
       "      <td>4.406766</td>\n",
       "      <td>2.499470</td>\n",
       "      <td>-1.917684</td>\n",
       "      <td>Yes</td>\n",
       "    </tr>\n",
       "    <tr>\n",
       "      <th>2</th>\n",
       "      <td>5.269575</td>\n",
       "      <td>1.596731</td>\n",
       "      <td>-2.590991</td>\n",
       "      <td>-2.390042</td>\n",
       "      <td>-0.266760</td>\n",
       "      <td>Yes</td>\n",
       "    </tr>\n",
       "    <tr>\n",
       "      <th>3</th>\n",
       "      <td>3.764479</td>\n",
       "      <td>-0.299707</td>\n",
       "      <td>3.154090</td>\n",
       "      <td>3.734373</td>\n",
       "      <td>-0.956521</td>\n",
       "      <td>Yes</td>\n",
       "    </tr>\n",
       "    <tr>\n",
       "      <th>4</th>\n",
       "      <td>4.344232</td>\n",
       "      <td>1.755054</td>\n",
       "      <td>2.254331</td>\n",
       "      <td>-1.461310</td>\n",
       "      <td>-0.626519</td>\n",
       "      <td>Yes</td>\n",
       "    </tr>\n",
       "  </tbody>\n",
       "</table>\n",
       "</div>"
      ],
      "text/plain": [
       "   Component 1  Component 2  Component 3  Component 4  Component 5 Dysgraphia\n",
       "0     1.496535     0.044959     3.719759     0.776027     0.330248        Yes\n",
       "1     4.191111     0.444331     4.406766     2.499470    -1.917684        Yes\n",
       "2     5.269575     1.596731    -2.590991    -2.390042    -0.266760        Yes\n",
       "3     3.764479    -0.299707     3.154090     3.734373    -0.956521        Yes\n",
       "4     4.344232     1.755054     2.254331    -1.461310    -0.626519        Yes"
      ]
     },
     "execution_count": 33,
     "metadata": {},
     "output_type": "execute_result"
    }
   ],
   "source": [
    "pca_data = dm.read_data('pca_data.xlsx')\n",
    "pca_data.head()"
   ]
  },
  {
   "cell_type": "code",
   "execution_count": 36,
   "metadata": {},
   "outputs": [
    {
     "data": {
      "text/html": [
       "<div>\n",
       "<style scoped>\n",
       "    .dataframe tbody tr th:only-of-type {\n",
       "        vertical-align: middle;\n",
       "    }\n",
       "\n",
       "    .dataframe tbody tr th {\n",
       "        vertical-align: top;\n",
       "    }\n",
       "\n",
       "    .dataframe thead th {\n",
       "        text-align: right;\n",
       "    }\n",
       "</style>\n",
       "<table border=\"1\" class=\"dataframe\">\n",
       "  <thead>\n",
       "    <tr style=\"text-align: right;\">\n",
       "      <th></th>\n",
       "      <th>Component 1</th>\n",
       "      <th>Component 2</th>\n",
       "      <th>Component 3</th>\n",
       "      <th>Component 4</th>\n",
       "      <th>Component 5</th>\n",
       "    </tr>\n",
       "  </thead>\n",
       "  <tbody>\n",
       "    <tr>\n",
       "      <th>0</th>\n",
       "      <td>1.496535</td>\n",
       "      <td>0.044959</td>\n",
       "      <td>3.719759</td>\n",
       "      <td>0.776027</td>\n",
       "      <td>0.330248</td>\n",
       "    </tr>\n",
       "    <tr>\n",
       "      <th>1</th>\n",
       "      <td>4.191111</td>\n",
       "      <td>0.444331</td>\n",
       "      <td>4.406766</td>\n",
       "      <td>2.499470</td>\n",
       "      <td>-1.917684</td>\n",
       "    </tr>\n",
       "    <tr>\n",
       "      <th>2</th>\n",
       "      <td>5.269575</td>\n",
       "      <td>1.596731</td>\n",
       "      <td>-2.590991</td>\n",
       "      <td>-2.390042</td>\n",
       "      <td>-0.266760</td>\n",
       "    </tr>\n",
       "    <tr>\n",
       "      <th>3</th>\n",
       "      <td>3.764479</td>\n",
       "      <td>-0.299707</td>\n",
       "      <td>3.154090</td>\n",
       "      <td>3.734373</td>\n",
       "      <td>-0.956521</td>\n",
       "    </tr>\n",
       "    <tr>\n",
       "      <th>4</th>\n",
       "      <td>4.344232</td>\n",
       "      <td>1.755054</td>\n",
       "      <td>2.254331</td>\n",
       "      <td>-1.461310</td>\n",
       "      <td>-0.626519</td>\n",
       "    </tr>\n",
       "  </tbody>\n",
       "</table>\n",
       "</div>"
      ],
      "text/plain": [
       "   Component 1  Component 2  Component 3  Component 4  Component 5\n",
       "0     1.496535     0.044959     3.719759     0.776027     0.330248\n",
       "1     4.191111     0.444331     4.406766     2.499470    -1.917684\n",
       "2     5.269575     1.596731    -2.590991    -2.390042    -0.266760\n",
       "3     3.764479    -0.299707     3.154090     3.734373    -0.956521\n",
       "4     4.344232     1.755054     2.254331    -1.461310    -0.626519"
      ]
     },
     "execution_count": 36,
     "metadata": {},
     "output_type": "execute_result"
    }
   ],
   "source": [
    "pca_features = pca_data.drop(['Dysgraphia'], axis = 1)\n",
    "pca_features.head()"
   ]
  },
  {
   "cell_type": "code",
   "execution_count": 37,
   "metadata": {},
   "outputs": [
    {
     "data": {
      "text/plain": [
       "(280, 5)"
      ]
     },
     "execution_count": 37,
     "metadata": {},
     "output_type": "execute_result"
    }
   ],
   "source": [
    "pca_values = features.values\n",
    "pca_values.shape"
   ]
  },
  {
   "cell_type": "code",
   "execution_count": 18,
   "metadata": {},
   "outputs": [
    {
     "ename": "NameError",
     "evalue": "name 'pca_values' is not defined",
     "output_type": "error",
     "traceback": [
      "\u001b[1;31m---------------------------------------------------------------------------\u001b[0m",
      "\u001b[1;31mNameError\u001b[0m                                 Traceback (most recent call last)",
      "\u001b[1;32m<ipython-input-18-b5c6c93b7308>\u001b[0m in \u001b[0;36m<module>\u001b[1;34m\u001b[0m\n\u001b[1;32m----> 1\u001b[1;33m \u001b[0mmcs\u001b[0m \u001b[1;33m=\u001b[0m \u001b[0mMetrics\u001b[0m\u001b[1;33m(\u001b[0m\u001b[0mpca_values\u001b[0m\u001b[1;33m,\u001b[0m \u001b[0my\u001b[0m\u001b[1;33m,\u001b[0m \u001b[0mKMeans\u001b[0m\u001b[1;33m(\u001b[0m\u001b[0mn_clusters\u001b[0m \u001b[1;33m=\u001b[0m \u001b[1;36m2\u001b[0m\u001b[1;33m,\u001b[0m \u001b[0mrandom_state\u001b[0m \u001b[1;33m=\u001b[0m \u001b[1;36m0\u001b[0m\u001b[1;33m,\u001b[0m \u001b[0mmax_iter\u001b[0m \u001b[1;33m=\u001b[0m \u001b[1;36m10\u001b[0m\u001b[1;33m,\u001b[0m \u001b[0minit\u001b[0m \u001b[1;33m=\u001b[0m \u001b[1;34m'k-means++'\u001b[0m\u001b[1;33m)\u001b[0m\u001b[1;33m)\u001b[0m\u001b[1;33m\u001b[0m\u001b[1;33m\u001b[0m\u001b[0m\n\u001b[0m\u001b[0;32m      2\u001b[0m \u001b[0mscores\u001b[0m \u001b[1;33m=\u001b[0m \u001b[0mmcs\u001b[0m\u001b[1;33m.\u001b[0m\u001b[0mcv_metrics\u001b[0m\u001b[1;33m(\u001b[0m\u001b[0msupervised\u001b[0m \u001b[1;33m=\u001b[0m \u001b[1;32mFalse\u001b[0m\u001b[1;33m,\u001b[0m \u001b[0mmodel_name\u001b[0m \u001b[1;33m=\u001b[0m \u001b[1;34m'FCMeans'\u001b[0m\u001b[1;33m)\u001b[0m\u001b[1;33m\u001b[0m\u001b[1;33m\u001b[0m\u001b[0m\n",
      "\u001b[1;31mNameError\u001b[0m: name 'pca_values' is not defined"
     ]
    }
   ],
   "source": [
    "mcs = Metrics(pca_values, y, KMeans(n_clusters = 2, random_state = 0, max_iter = 10, init = 'k-means++'))\n",
    "scores = mcs.cv_metrics(supervised = False, model_name = 'FCMeans')"
   ]
  },
  {
   "cell_type": "code",
   "execution_count": 42,
   "metadata": {},
   "outputs": [
    {
     "name": "stdout",
     "output_type": "stream",
     "text": [
      "Accuracy: 0.6785714285714286, Recall: 0.7894736842105263, Precision: 0.39473684210526316, F1_Score: 0.5263157894736843\n",
      "              precision    recall  f1-score   support\n",
      "\n",
      "           0       0.91      0.65      0.76        65\n",
      "           1       0.39      0.79      0.53        19\n",
      "\n",
      "    accuracy                           0.68        84\n",
      "   macro avg       0.65      0.72      0.64        84\n",
      "weighted avg       0.80      0.68      0.70        84\n",
      "\n"
     ]
    },
    {
     "data": {
      "image/png": "[encoded data removed]",
      "text/plain": [
       "<Figure size 432x288 with 2 Axes>"
      ]
     },
     "metadata": {
      "needs_background": "light"
     },
     "output_type": "display_data"
    }
   ],
   "source": [
    "model = mcs.report(supervised = False)"
   ]
  },
  {
   "cell_type": "code",
   "execution_count": 11,
   "metadata": {},
   "outputs": [],
   "source": [
    "from mlxtend.feature_selection import SequentialFeatureSelector as SFS"
   ]
  },
  {
   "cell_type": "code",
   "execution_count": 12,
   "metadata": {},
   "outputs": [],
   "source": [
    "poly_data = dm.read_data('poly_data.xlsx')"
   ]
  },
  {
   "cell_type": "code",
   "execution_count": 15,
   "metadata": {},
   "outputs": [
    {
     "ename": "ValueError",
     "evalue": "'silhouette' is not a valid scoring value. Use sklearn.metrics.get_scorer_names() to get valid options.",
     "output_type": "error",
     "traceback": [
      "\u001b[1;31m---------------------------------------------------------------------------\u001b[0m",
      "\u001b[1;31mKeyError\u001b[0m                                  Traceback (most recent call last)",
      "\u001b[1;32m~\\anaconda3\\lib\\site-packages\\sklearn\\metrics\\_scorer.py\u001b[0m in \u001b[0;36mget_scorer\u001b[1;34m(scoring)\u001b[0m\n\u001b[0;32m    429\u001b[0m         \u001b[1;32mtry\u001b[0m\u001b[1;33m:\u001b[0m\u001b[1;33m\u001b[0m\u001b[1;33m\u001b[0m\u001b[0m\n\u001b[1;32m--> 430\u001b[1;33m             \u001b[0mscorer\u001b[0m \u001b[1;33m=\u001b[0m \u001b[0mcopy\u001b[0m\u001b[1;33m.\u001b[0m\u001b[0mdeepcopy\u001b[0m\u001b[1;33m(\u001b[0m\u001b[0m_SCORERS\u001b[0m\u001b[1;33m[\u001b[0m\u001b[0mscoring\u001b[0m\u001b[1;33m]\u001b[0m\u001b[1;33m)\u001b[0m\u001b[1;33m\u001b[0m\u001b[1;33m\u001b[0m\u001b[0m\n\u001b[0m\u001b[0;32m    431\u001b[0m         \u001b[1;32mexcept\u001b[0m \u001b[0mKeyError\u001b[0m\u001b[1;33m:\u001b[0m\u001b[1;33m\u001b[0m\u001b[1;33m\u001b[0m\u001b[0m\n",
      "\u001b[1;31mKeyError\u001b[0m: 'silhouette'",
      "\nDuring handling of the above exception, another exception occurred:\n",
      "\u001b[1;31mValueError\u001b[0m                                Traceback (most recent call last)",
      "\u001b[1;32m<ipython-input-15-68c2d9ac70a5>\u001b[0m in \u001b[0;36m<module>\u001b[1;34m\u001b[0m\n\u001b[1;32m----> 1\u001b[1;33m \u001b[0msfs\u001b[0m \u001b[1;33m=\u001b[0m \u001b[0mSFS\u001b[0m\u001b[1;33m(\u001b[0m\u001b[0mKMeans\u001b[0m\u001b[1;33m(\u001b[0m\u001b[0mn_clusters\u001b[0m \u001b[1;33m=\u001b[0m \u001b[1;36m2\u001b[0m\u001b[1;33m,\u001b[0m \u001b[0mrandom_state\u001b[0m \u001b[1;33m=\u001b[0m \u001b[1;36m0\u001b[0m\u001b[1;33m)\u001b[0m\u001b[1;33m,\u001b[0m \u001b[0mk_features\u001b[0m \u001b[1;33m=\u001b[0m \u001b[1;34m'best'\u001b[0m\u001b[1;33m,\u001b[0m \u001b[0mcv\u001b[0m \u001b[1;33m=\u001b[0m \u001b[1;36m5\u001b[0m\u001b[1;33m,\u001b[0m \u001b[0mscoring\u001b[0m \u001b[1;33m=\u001b[0m \u001b[1;34m'silhouette'\u001b[0m\u001b[1;33m,\u001b[0m \u001b[0mforward\u001b[0m \u001b[1;33m=\u001b[0m \u001b[1;32mTrue\u001b[0m\u001b[1;33m)\u001b[0m\u001b[1;33m\u001b[0m\u001b[1;33m\u001b[0m\u001b[0m\n\u001b[0m",
      "\u001b[1;32m~\\anaconda3\\lib\\site-packages\\mlxtend\\feature_selection\\sequential_feature_selector.py\u001b[0m in \u001b[0;36m__init__\u001b[1;34m(self, estimator, k_features, forward, floating, verbose, scoring, cv, n_jobs, pre_dispatch, clone_estimator, fixed_features, feature_groups)\u001b[0m\n\u001b[0;32m    241\u001b[0m \u001b[1;33m\u001b[0m\u001b[0m\n\u001b[0;32m    242\u001b[0m         \u001b[1;32mif\u001b[0m \u001b[0misinstance\u001b[0m\u001b[1;33m(\u001b[0m\u001b[0mself\u001b[0m\u001b[1;33m.\u001b[0m\u001b[0mscoring\u001b[0m\u001b[1;33m,\u001b[0m \u001b[0mstr\u001b[0m\u001b[1;33m)\u001b[0m\u001b[1;33m:\u001b[0m\u001b[1;33m\u001b[0m\u001b[1;33m\u001b[0m\u001b[0m\n\u001b[1;32m--> 243\u001b[1;33m             \u001b[0mself\u001b[0m\u001b[1;33m.\u001b[0m\u001b[0mscorer\u001b[0m \u001b[1;33m=\u001b[0m \u001b[0mget_scorer\u001b[0m\u001b[1;33m(\u001b[0m\u001b[0mself\u001b[0m\u001b[1;33m.\u001b[0m\u001b[0mscoring\u001b[0m\u001b[1;33m)\u001b[0m\u001b[1;33m\u001b[0m\u001b[1;33m\u001b[0m\u001b[0m\n\u001b[0m\u001b[0;32m    244\u001b[0m         \u001b[1;32melse\u001b[0m\u001b[1;33m:\u001b[0m\u001b[1;33m\u001b[0m\u001b[1;33m\u001b[0m\u001b[0m\n\u001b[0;32m    245\u001b[0m             \u001b[0mself\u001b[0m\u001b[1;33m.\u001b[0m\u001b[0mscorer\u001b[0m \u001b[1;33m=\u001b[0m \u001b[0mself\u001b[0m\u001b[1;33m.\u001b[0m\u001b[0mscoring\u001b[0m\u001b[1;33m\u001b[0m\u001b[1;33m\u001b[0m\u001b[0m\n",
      "\u001b[1;32m~\\anaconda3\\lib\\site-packages\\sklearn\\metrics\\_scorer.py\u001b[0m in \u001b[0;36mget_scorer\u001b[1;34m(scoring)\u001b[0m\n\u001b[0;32m    430\u001b[0m             \u001b[0mscorer\u001b[0m \u001b[1;33m=\u001b[0m \u001b[0mcopy\u001b[0m\u001b[1;33m.\u001b[0m\u001b[0mdeepcopy\u001b[0m\u001b[1;33m(\u001b[0m\u001b[0m_SCORERS\u001b[0m\u001b[1;33m[\u001b[0m\u001b[0mscoring\u001b[0m\u001b[1;33m]\u001b[0m\u001b[1;33m)\u001b[0m\u001b[1;33m\u001b[0m\u001b[1;33m\u001b[0m\u001b[0m\n\u001b[0;32m    431\u001b[0m         \u001b[1;32mexcept\u001b[0m \u001b[0mKeyError\u001b[0m\u001b[1;33m:\u001b[0m\u001b[1;33m\u001b[0m\u001b[1;33m\u001b[0m\u001b[0m\n\u001b[1;32m--> 432\u001b[1;33m             raise ValueError(\n\u001b[0m\u001b[0;32m    433\u001b[0m                 \u001b[1;34m\"%r is not a valid scoring value. \"\u001b[0m\u001b[1;33m\u001b[0m\u001b[1;33m\u001b[0m\u001b[0m\n\u001b[0;32m    434\u001b[0m                 \u001b[1;34m\"Use sklearn.metrics.get_scorer_names() \"\u001b[0m\u001b[1;33m\u001b[0m\u001b[1;33m\u001b[0m\u001b[0m\n",
      "\u001b[1;31mValueError\u001b[0m: 'silhouette' is not a valid scoring value. Use sklearn.metrics.get_scorer_names() to get valid options."
     ]
    }
   ],
   "source": [
    "sfs = SFS(KMeans(n_clusters = 2, random_state = 0), k_features = 'best', cv = 5, scoring = 'silhouette', forward = True)"
   ]
  },
  {
   "cell_type": "code",
   "execution_count": 17,
   "metadata": {},
   "outputs": [
    {
     "data": {
      "text/plain": [
       "['accuracy',\n",
       " 'adjusted_mutual_info_score',\n",
       " 'adjusted_rand_score',\n",
       " 'average_precision',\n",
       " 'balanced_accuracy',\n",
       " 'completeness_score',\n",
       " 'explained_variance',\n",
       " 'f1',\n",
       " 'f1_macro',\n",
       " 'f1_micro',\n",
       " 'f1_samples',\n",
       " 'f1_weighted',\n",
       " 'fowlkes_mallows_score',\n",
       " 'homogeneity_score',\n",
       " 'jaccard',\n",
       " 'jaccard_macro',\n",
       " 'jaccard_micro',\n",
       " 'jaccard_samples',\n",
       " 'jaccard_weighted',\n",
       " 'matthews_corrcoef',\n",
       " 'max_error',\n",
       " 'mutual_info_score',\n",
       " 'neg_brier_score',\n",
       " 'neg_log_loss',\n",
       " 'neg_mean_absolute_error',\n",
       " 'neg_mean_absolute_percentage_error',\n",
       " 'neg_mean_gamma_deviance',\n",
       " 'neg_mean_poisson_deviance',\n",
       " 'neg_mean_squared_error',\n",
       " 'neg_mean_squared_log_error',\n",
       " 'neg_median_absolute_error',\n",
       " 'neg_negative_likelihood_ratio',\n",
       " 'neg_root_mean_squared_error',\n",
       " 'normalized_mutual_info_score',\n",
       " 'positive_likelihood_ratio',\n",
       " 'precision',\n",
       " 'precision_macro',\n",
       " 'precision_micro',\n",
       " 'precision_samples',\n",
       " 'precision_weighted',\n",
       " 'r2',\n",
       " 'rand_score',\n",
       " 'recall',\n",
       " 'recall_macro',\n",
       " 'recall_micro',\n",
       " 'recall_samples',\n",
       " 'recall_weighted',\n",
       " 'roc_auc',\n",
       " 'roc_auc_ovo',\n",
       " 'roc_auc_ovo_weighted',\n",
       " 'roc_auc_ovr',\n",
       " 'roc_auc_ovr_weighted',\n",
       " 'top_k_accuracy',\n",
       " 'v_measure_score']"
      ]
     },
     "execution_count": 17,
     "metadata": {},
     "output_type": "execute_result"
    }
   ],
   "source": [
    "import sklearn\n",
    "sklearn.metrics.get_scorer_names()"
   ]
  },
  {
   "cell_type": "code",
   "execution_count": null,
   "metadata": {},
   "outputs": [],
   "source": []
  }
 ],
 "metadata": {
  "kernelspec": {
   "display_name": "Python 3",
   "language": "python",
   "name": "python3"
  },
  "language_info": {
   "codemirror_mode": {
    "name": "ipython",
    "version": 3
   },
   "file_extension": ".py",
   "mimetype": "text/x-python",
   "name": "python",
   "nbconvert_exporter": "python",
   "pygments_lexer": "ipython3",
   "version": "3.8.3"
  }
 },
 "nbformat": 4,
 "nbformat_minor": 4
}
