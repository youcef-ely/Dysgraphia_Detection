{
 "cells": [
  {
   "cell_type": "code",
   "execution_count": 1,
   "metadata": {},
   "outputs": [],
   "source": [
    "import sys\n",
    "import os\n",
    "\n",
    "module_path = os.path.abspath(os.path.join('..'))\n",
    "if module_path not in sys.path:\n",
    "    sys.path.append(module_path+\"\\\\source\")\n",
    "\n",
    "import data_manipulation as dm \n",
    "import data_visualization as dv\n",
    "import metrics\n",
    "import data_processing as dp"
   ]
  },
  {
   "cell_type": "code",
   "execution_count": 2,
   "metadata": {},
   "outputs": [],
   "source": [
    "import matplotlib.pyplot as plt\n",
    "import numpy as np\n",
    "from metrics import Metrics\n",
    "import seaborn as sns\n",
    "import pandas as pd\n",
    "import plotly as pl"
   ]
  },
  {
   "cell_type": "code",
   "execution_count": 3,
   "metadata": {},
   "outputs": [],
   "source": [
    "from sklearn.model_selection import cross_val_score, train_test_split, KFold, cross_validate\n",
    "from sklearn.preprocessing import LabelEncoder, StandardScaler\n",
    "from sklearn.feature_selection import SelectKBest, f_classif"
   ]
  },
  {
   "cell_type": "code",
   "execution_count": 4,
   "metadata": {},
   "outputs": [],
   "source": [
    "from sklearn.ensemble import RandomForestClassifier"
   ]
  },
  {
   "cell_type": "code",
   "execution_count": 5,
   "metadata": {
    "scrolled": true
   },
   "outputs": [
    {
     "data": {
      "text/html": [
       "<div>\n",
       "<style scoped>\n",
       "    .dataframe tbody tr th:only-of-type {\n",
       "        vertical-align: middle;\n",
       "    }\n",
       "\n",
       "    .dataframe tbody tr th {\n",
       "        vertical-align: top;\n",
       "    }\n",
       "\n",
       "    .dataframe thead th {\n",
       "        text-align: right;\n",
       "    }\n",
       "</style>\n",
       "<table border=\"1\" class=\"dataframe\">\n",
       "  <thead>\n",
       "    <tr style=\"text-align: right;\">\n",
       "      <th></th>\n",
       "      <th>BHK_raw_quality_score</th>\n",
       "      <th>median_Freq_speed</th>\n",
       "      <th>dist_Freq_tilt_x</th>\n",
       "      <th>dist_Freq_speed</th>\n",
       "      <th>median_Freq_tilt_y</th>\n",
       "      <th>mean_d_P</th>\n",
       "      <th>bandwidth_tilt_x</th>\n",
       "      <th>std_d_P</th>\n",
       "      <th>Space_Between_Words</th>\n",
       "      <th>in_Air</th>\n",
       "      <th>mean_Pressure</th>\n",
       "      <th>BHK_raw_speed_score</th>\n",
       "      <th>std_Density</th>\n",
       "      <th>median_Freq_tremolo</th>\n",
       "      <th>Dysgraphia</th>\n",
       "    </tr>\n",
       "  </thead>\n",
       "  <tbody>\n",
       "    <tr>\n",
       "      <th>0</th>\n",
       "      <td>1.083007</td>\n",
       "      <td>0.835711</td>\n",
       "      <td>1.734939</td>\n",
       "      <td>-0.356947</td>\n",
       "      <td>-0.686305</td>\n",
       "      <td>-0.528402</td>\n",
       "      <td>2.588460</td>\n",
       "      <td>1.755107</td>\n",
       "      <td>0.620459</td>\n",
       "      <td>0.845887</td>\n",
       "      <td>0.889966</td>\n",
       "      <td>0.246844</td>\n",
       "      <td>1.837069</td>\n",
       "      <td>0.613215</td>\n",
       "      <td>1</td>\n",
       "    </tr>\n",
       "    <tr>\n",
       "      <th>1</th>\n",
       "      <td>2.324819</td>\n",
       "      <td>0.325687</td>\n",
       "      <td>4.706424</td>\n",
       "      <td>-0.747478</td>\n",
       "      <td>-0.488737</td>\n",
       "      <td>-1.365343</td>\n",
       "      <td>3.814543</td>\n",
       "      <td>-1.066303</td>\n",
       "      <td>0.859430</td>\n",
       "      <td>0.481394</td>\n",
       "      <td>-0.798494</td>\n",
       "      <td>-1.261162</td>\n",
       "      <td>1.193590</td>\n",
       "      <td>0.137597</td>\n",
       "      <td>1</td>\n",
       "    </tr>\n",
       "    <tr>\n",
       "      <th>2</th>\n",
       "      <td>1.845523</td>\n",
       "      <td>2.569234</td>\n",
       "      <td>-0.105224</td>\n",
       "      <td>3.223165</td>\n",
       "      <td>-0.216625</td>\n",
       "      <td>-1.794499</td>\n",
       "      <td>-1.137784</td>\n",
       "      <td>-2.340401</td>\n",
       "      <td>-2.329903</td>\n",
       "      <td>0.730172</td>\n",
       "      <td>-2.732831</td>\n",
       "      <td>-1.145968</td>\n",
       "      <td>0.793901</td>\n",
       "      <td>0.490673</td>\n",
       "      <td>1</td>\n",
       "    </tr>\n",
       "    <tr>\n",
       "      <th>3</th>\n",
       "      <td>1.801951</td>\n",
       "      <td>0.425734</td>\n",
       "      <td>2.501196</td>\n",
       "      <td>-0.705685</td>\n",
       "      <td>-2.071599</td>\n",
       "      <td>-1.446451</td>\n",
       "      <td>3.976658</td>\n",
       "      <td>-0.978519</td>\n",
       "      <td>2.482885</td>\n",
       "      <td>0.670305</td>\n",
       "      <td>-0.391261</td>\n",
       "      <td>-1.371121</td>\n",
       "      <td>0.094941</td>\n",
       "      <td>0.769938</td>\n",
       "      <td>1</td>\n",
       "    </tr>\n",
       "    <tr>\n",
       "      <th>4</th>\n",
       "      <td>0.712642</td>\n",
       "      <td>2.269705</td>\n",
       "      <td>3.218927</td>\n",
       "      <td>2.549374</td>\n",
       "      <td>1.487131</td>\n",
       "      <td>-1.491850</td>\n",
       "      <td>1.347270</td>\n",
       "      <td>-0.666725</td>\n",
       "      <td>-1.086386</td>\n",
       "      <td>2.453771</td>\n",
       "      <td>-1.236052</td>\n",
       "      <td>-1.016810</td>\n",
       "      <td>0.369287</td>\n",
       "      <td>0.734055</td>\n",
       "      <td>1</td>\n",
       "    </tr>\n",
       "    <tr>\n",
       "      <th>...</th>\n",
       "      <td>...</td>\n",
       "      <td>...</td>\n",
       "      <td>...</td>\n",
       "      <td>...</td>\n",
       "      <td>...</td>\n",
       "      <td>...</td>\n",
       "      <td>...</td>\n",
       "      <td>...</td>\n",
       "      <td>...</td>\n",
       "      <td>...</td>\n",
       "      <td>...</td>\n",
       "      <td>...</td>\n",
       "      <td>...</td>\n",
       "      <td>...</td>\n",
       "      <td>...</td>\n",
       "    </tr>\n",
       "    <tr>\n",
       "      <th>275</th>\n",
       "      <td>2.259461</td>\n",
       "      <td>0.754809</td>\n",
       "      <td>3.339874</td>\n",
       "      <td>-0.162725</td>\n",
       "      <td>0.838595</td>\n",
       "      <td>-1.687206</td>\n",
       "      <td>2.979948</td>\n",
       "      <td>-1.236228</td>\n",
       "      <td>-0.821326</td>\n",
       "      <td>-1.690635</td>\n",
       "      <td>-1.131981</td>\n",
       "      <td>-0.816091</td>\n",
       "      <td>1.250853</td>\n",
       "      <td>0.867958</td>\n",
       "      <td>1</td>\n",
       "    </tr>\n",
       "    <tr>\n",
       "      <th>276</th>\n",
       "      <td>1.475158</td>\n",
       "      <td>1.644211</td>\n",
       "      <td>0.717094</td>\n",
       "      <td>0.964455</td>\n",
       "      <td>-1.386997</td>\n",
       "      <td>-1.504984</td>\n",
       "      <td>0.678764</td>\n",
       "      <td>-0.621457</td>\n",
       "      <td>-1.647127</td>\n",
       "      <td>0.529756</td>\n",
       "      <td>-1.373821</td>\n",
       "      <td>0.184010</td>\n",
       "      <td>-1.052029</td>\n",
       "      <td>0.975786</td>\n",
       "      <td>1</td>\n",
       "    </tr>\n",
       "    <tr>\n",
       "      <th>277</th>\n",
       "      <td>1.017648</td>\n",
       "      <td>1.898273</td>\n",
       "      <td>1.405174</td>\n",
       "      <td>2.047977</td>\n",
       "      <td>-1.956233</td>\n",
       "      <td>-1.509186</td>\n",
       "      <td>2.003831</td>\n",
       "      <td>-1.538789</td>\n",
       "      <td>-1.723921</td>\n",
       "      <td>0.385099</td>\n",
       "      <td>-1.998009</td>\n",
       "      <td>-0.261061</td>\n",
       "      <td>0.738075</td>\n",
       "      <td>0.815774</td>\n",
       "      <td>1</td>\n",
       "    </tr>\n",
       "    <tr>\n",
       "      <th>278</th>\n",
       "      <td>1.017648</td>\n",
       "      <td>1.997416</td>\n",
       "      <td>-0.448287</td>\n",
       "      <td>1.904106</td>\n",
       "      <td>-0.138716</td>\n",
       "      <td>-1.776499</td>\n",
       "      <td>-0.731832</td>\n",
       "      <td>-2.004715</td>\n",
       "      <td>-3.188545</td>\n",
       "      <td>-1.525624</td>\n",
       "      <td>-2.278519</td>\n",
       "      <td>-0.931286</td>\n",
       "      <td>1.382944</td>\n",
       "      <td>0.679553</td>\n",
       "      <td>1</td>\n",
       "    </tr>\n",
       "    <tr>\n",
       "      <th>279</th>\n",
       "      <td>2.782329</td>\n",
       "      <td>0.794272</td>\n",
       "      <td>3.656261</td>\n",
       "      <td>-0.193223</td>\n",
       "      <td>1.016123</td>\n",
       "      <td>-0.462254</td>\n",
       "      <td>1.721557</td>\n",
       "      <td>0.376191</td>\n",
       "      <td>-0.918302</td>\n",
       "      <td>0.878240</td>\n",
       "      <td>2.474088</td>\n",
       "      <td>-1.156440</td>\n",
       "      <td>0.731031</td>\n",
       "      <td>-0.467362</td>\n",
       "      <td>1</td>\n",
       "    </tr>\n",
       "  </tbody>\n",
       "</table>\n",
       "<p>280 rows × 15 columns</p>\n",
       "</div>"
      ],
      "text/plain": [
       "     BHK_raw_quality_score  median_Freq_speed  dist_Freq_tilt_x  \\\n",
       "0                 1.083007           0.835711          1.734939   \n",
       "1                 2.324819           0.325687          4.706424   \n",
       "2                 1.845523           2.569234         -0.105224   \n",
       "3                 1.801951           0.425734          2.501196   \n",
       "4                 0.712642           2.269705          3.218927   \n",
       "..                     ...                ...               ...   \n",
       "275               2.259461           0.754809          3.339874   \n",
       "276               1.475158           1.644211          0.717094   \n",
       "277               1.017648           1.898273          1.405174   \n",
       "278               1.017648           1.997416         -0.448287   \n",
       "279               2.782329           0.794272          3.656261   \n",
       "\n",
       "     dist_Freq_speed  median_Freq_tilt_y  mean_d_P  bandwidth_tilt_x  \\\n",
       "0          -0.356947           -0.686305 -0.528402          2.588460   \n",
       "1          -0.747478           -0.488737 -1.365343          3.814543   \n",
       "2           3.223165           -0.216625 -1.794499         -1.137784   \n",
       "3          -0.705685           -2.071599 -1.446451          3.976658   \n",
       "4           2.549374            1.487131 -1.491850          1.347270   \n",
       "..               ...                 ...       ...               ...   \n",
       "275        -0.162725            0.838595 -1.687206          2.979948   \n",
       "276         0.964455           -1.386997 -1.504984          0.678764   \n",
       "277         2.047977           -1.956233 -1.509186          2.003831   \n",
       "278         1.904106           -0.138716 -1.776499         -0.731832   \n",
       "279        -0.193223            1.016123 -0.462254          1.721557   \n",
       "\n",
       "      std_d_P  Space_Between_Words    in_Air  mean_Pressure  \\\n",
       "0    1.755107             0.620459  0.845887       0.889966   \n",
       "1   -1.066303             0.859430  0.481394      -0.798494   \n",
       "2   -2.340401            -2.329903  0.730172      -2.732831   \n",
       "3   -0.978519             2.482885  0.670305      -0.391261   \n",
       "4   -0.666725            -1.086386  2.453771      -1.236052   \n",
       "..        ...                  ...       ...            ...   \n",
       "275 -1.236228            -0.821326 -1.690635      -1.131981   \n",
       "276 -0.621457            -1.647127  0.529756      -1.373821   \n",
       "277 -1.538789            -1.723921  0.385099      -1.998009   \n",
       "278 -2.004715            -3.188545 -1.525624      -2.278519   \n",
       "279  0.376191            -0.918302  0.878240       2.474088   \n",
       "\n",
       "     BHK_raw_speed_score  std_Density  median_Freq_tremolo  Dysgraphia  \n",
       "0               0.246844     1.837069             0.613215           1  \n",
       "1              -1.261162     1.193590             0.137597           1  \n",
       "2              -1.145968     0.793901             0.490673           1  \n",
       "3              -1.371121     0.094941             0.769938           1  \n",
       "4              -1.016810     0.369287             0.734055           1  \n",
       "..                   ...          ...                  ...         ...  \n",
       "275            -0.816091     1.250853             0.867958           1  \n",
       "276             0.184010    -1.052029             0.975786           1  \n",
       "277            -0.261061     0.738075             0.815774           1  \n",
       "278            -0.931286     1.382944             0.679553           1  \n",
       "279            -1.156440     0.731031            -0.467362           1  \n",
       "\n",
       "[280 rows x 15 columns]"
      ]
     },
     "execution_count": 5,
     "metadata": {},
     "output_type": "execute_result"
    }
   ],
   "source": [
    "data = dm.read_data('reduced_data.xlsx')\n",
    "data"
   ]
  },
  {
   "cell_type": "code",
   "execution_count": 6,
   "metadata": {},
   "outputs": [],
   "source": [
    "X = data.drop(['Dysgraphia'], axis = 1)\n",
    "y = data['Dysgraphia']"
   ]
  },
  {
   "cell_type": "code",
   "execution_count": 7,
   "metadata": {},
   "outputs": [
    {
     "data": {
      "text/html": [
       "<div>\n",
       "<style scoped>\n",
       "    .dataframe tbody tr th:only-of-type {\n",
       "        vertical-align: middle;\n",
       "    }\n",
       "\n",
       "    .dataframe tbody tr th {\n",
       "        vertical-align: top;\n",
       "    }\n",
       "\n",
       "    .dataframe thead th {\n",
       "        text-align: right;\n",
       "    }\n",
       "</style>\n",
       "<table border=\"1\" class=\"dataframe\">\n",
       "  <thead>\n",
       "    <tr style=\"text-align: right;\">\n",
       "      <th></th>\n",
       "      <th>Mean</th>\n",
       "      <th>STD</th>\n",
       "    </tr>\n",
       "  </thead>\n",
       "  <tbody>\n",
       "    <tr>\n",
       "      <th>Accuracy</th>\n",
       "      <td>0.953571</td>\n",
       "      <td>0.034993</td>\n",
       "    </tr>\n",
       "    <tr>\n",
       "      <th>Recall</th>\n",
       "      <td>0.810256</td>\n",
       "      <td>0.149819</td>\n",
       "    </tr>\n",
       "    <tr>\n",
       "      <th>Precision</th>\n",
       "      <td>0.981818</td>\n",
       "      <td>0.036364</td>\n",
       "    </tr>\n",
       "    <tr>\n",
       "      <th>F1_Score</th>\n",
       "      <td>0.879065</td>\n",
       "      <td>0.099091</td>\n",
       "    </tr>\n",
       "  </tbody>\n",
       "</table>\n",
       "</div>"
      ],
      "text/plain": [
       "               Mean       STD\n",
       "Accuracy   0.953571  0.034993\n",
       "Recall     0.810256  0.149819\n",
       "Precision  0.981818  0.036364\n",
       "F1_Score   0.879065  0.099091"
      ]
     },
     "execution_count": 7,
     "metadata": {},
     "output_type": "execute_result"
    }
   ],
   "source": [
    "mcs = Metrics(X, y, model = RandomForestClassifier(), n_folds = 5)\n",
    "scores = mcs.cv_metrics()\n",
    "scores"
   ]
  },
  {
   "cell_type": "code",
   "execution_count": 8,
   "metadata": {},
   "outputs": [
    {
     "name": "stdout",
     "output_type": "stream",
     "text": [
      "Accuracy: 0.9285714285714286, Recall: 0.7368421052631579, Precision: 0.9333333333333333, F1_Score: 0.8235294117647058\n",
      "              precision    recall  f1-score   support\n",
      "\n",
      "           0       0.93      0.98      0.96        65\n",
      "           1       0.93      0.74      0.82        19\n",
      "\n",
      "    accuracy                           0.93        84\n",
      "   macro avg       0.93      0.86      0.89        84\n",
      "weighted avg       0.93      0.93      0.93        84\n",
      "\n"
     ]
    },
    {
     "data": {
      "image/png": "[encoded data removed]",
      "text/plain": [
       "<Figure size 432x288 with 2 Axes>"
      ]
     },
     "metadata": {
      "needs_background": "light"
     },
     "output_type": "display_data"
    },
    {
     "data": {
      "image/png": "[encoded data removed]",
      "text/plain": [
       "<Figure size 432x288 with 1 Axes>"
      ]
     },
     "metadata": {
      "needs_background": "light"
     },
     "output_type": "display_data"
    }
   ],
   "source": [
    "model = mcs.report()"
   ]
  },
  {
   "cell_type": "code",
   "execution_count": 9,
   "metadata": {},
   "outputs": [],
   "source": [
    "importance = pd.DataFrame(model.feature_importances_, index = data.drop(['Dysgraphia'], axis = 1).columns, columns = ['Value'])"
   ]
  },
  {
   "cell_type": "code",
   "execution_count": 10,
   "metadata": {},
   "outputs": [
    {
     "data": {
      "text/plain": [
       "<AxesSubplot:>"
      ]
     },
     "execution_count": 10,
     "metadata": {},
     "output_type": "execute_result"
    },
    {
     "data": {
      "image/png": "[encoded data removed]",
      "text/plain": [
       "<Figure size 432x288 with 1 Axes>"
      ]
     },
     "metadata": {
      "needs_background": "light"
     },
     "output_type": "display_data"
    }
   ],
   "source": [
    "importance[importance['Value'] > 0.01].sort_values('Value', ascending = False).plot.bar()"
   ]
  },
  {
   "cell_type": "code",
   "execution_count": null,
   "metadata": {},
   "outputs": [
    {
     "name": "stdout",
     "output_type": "stream",
     "text": [
      "Accuracy: 0.9404761904761905, Recall: 0.7368421052631579, Precision: 1.0, F1_Score: 0.8484848484848484\n",
      "              precision    recall  f1-score   support\n",
      "\n",
      "           0       0.93      1.00      0.96        65\n",
      "           1       1.00      0.74      0.85        19\n",
      "\n",
      "    accuracy                           0.94        84\n",
      "   macro avg       0.96      0.87      0.91        84\n",
      "weighted avg       0.94      0.94      0.94        84\n",
      "\n"
     ]
    }
   ],
   "source": [
    "model = mcs.report()"
   ]
  },
  {
   "cell_type": "markdown",
   "metadata": {},
   "source": [
    "# Polynomial Features"
   ]
  },
  {
   "cell_type": "code",
   "execution_count": null,
   "metadata": {},
   "outputs": [],
   "source": [
    "poly_data = dp.PolynomialFeatures_labeled(X, 2)\n",
    "poly_data"
   ]
  },
  {
   "cell_type": "code",
   "execution_count": null,
   "metadata": {},
   "outputs": [],
   "source": [
    "selector = SelectKBest(f_classif, k = 47)\n",
    "selector.fit(poly_data, y)\n",
    "columns = [poly_data.columns[i] for i in range(len(poly_data.columns)) if selector.get_support()[i] == True]\n",
    "new_X = poly_data[columns]\n",
    "mcs = Metrics(new_X, y, model = RandomForestClassifier())\n",
    "mcs.cv_metrics()"
   ]
  },
  {
   "cell_type": "code",
   "execution_count": null,
   "metadata": {},
   "outputs": [],
   "source": [
    "rf = mcs.report()"
   ]
  },
  {
   "cell_type": "code",
   "execution_count": null,
   "metadata": {},
   "outputs": [],
   "source": []
  }
 ],
 "metadata": {
  "kernelspec": {
   "display_name": "Python 3",
   "language": "python",
   "name": "python3"
  },
  "language_info": {
   "codemirror_mode": {
    "name": "ipython",
    "version": 3
   },
   "file_extension": ".py",
   "mimetype": "text/x-python",
   "name": "python",
   "nbconvert_exporter": "python",
   "pygments_lexer": "ipython3",
   "version": "3.8.3"
  }
 },
 "nbformat": 4,
 "nbformat_minor": 4
}
