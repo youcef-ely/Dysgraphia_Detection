{
 "cells": [
  {
   "cell_type": "code",
   "execution_count": 1,
   "metadata": {},
   "outputs": [],
   "source": [
    "import sys\n",
    "import os\n",
    "\n",
    "module_path = os.path.abspath(os.path.join('..'))\n",
    "if module_path not in sys.path:\n",
    "    sys.path.append(module_path+\"\\\\source\")\n",
    "\n",
    "import data_manipulation as dm \n",
    "import data_visualization as dv\n",
    "import model_test\n",
    "import data_processing as dp"
   ]
  },
  {
   "cell_type": "code",
   "execution_count": 2,
   "metadata": {},
   "outputs": [],
   "source": [
    "import matplotlib.pyplot as plt\n",
    "import numpy as np\n",
    "from model_test import Test\n",
    "import seaborn as sns\n",
    "import pandas as pd\n",
    "import plotly as pl"
   ]
  },
  {
   "cell_type": "code",
   "execution_count": 3,
   "metadata": {},
   "outputs": [],
   "source": [
    "from sklearn.naive_bayes import GaussianNB"
   ]
  },
  {
   "cell_type": "code",
   "execution_count": 4,
   "metadata": {
    "tags": []
   },
   "outputs": [],
   "source": [
    "from sklearn.model_selection import train_test_split"
   ]
  },
  {
   "cell_type": "code",
   "execution_count": 5,
   "metadata": {
    "tags": []
   },
   "outputs": [],
   "source": [
    "from sklearn.preprocessing import StandardScaler"
   ]
  },
  {
   "cell_type": "code",
   "execution_count": 6,
   "metadata": {
    "scrolled": true,
    "tags": []
   },
   "outputs": [
    {
     "data": {
      "text/html": [
       "<div>\n",
       "<style scoped>\n",
       "    .dataframe tbody tr th:only-of-type {\n",
       "        vertical-align: middle;\n",
       "    }\n",
       "\n",
       "    .dataframe tbody tr th {\n",
       "        vertical-align: top;\n",
       "    }\n",
       "\n",
       "    .dataframe thead th {\n",
       "        text-align: right;\n",
       "    }\n",
       "</style>\n",
       "<table border=\"1\" class=\"dataframe\">\n",
       "  <thead>\n",
       "    <tr style=\"text-align: right;\">\n",
       "      <th></th>\n",
       "      <th>BHK_raw_quality_score</th>\n",
       "      <th>median_Freq_speed</th>\n",
       "      <th>mean_d_P</th>\n",
       "      <th>dist_Freq_tilt_x</th>\n",
       "      <th>dist_Freq_speed</th>\n",
       "      <th>median_Freq_tilt_y</th>\n",
       "      <th>Space_Between_Words</th>\n",
       "      <th>bandwidth_tilt_x</th>\n",
       "      <th>std_d_P</th>\n",
       "      <th>mean_Pressure</th>\n",
       "      <th>in_Air</th>\n",
       "      <th>BHK_raw_speed_score</th>\n",
       "      <th>std_Density</th>\n",
       "      <th>median_Freq_tremolo</th>\n",
       "      <th>Age</th>\n",
       "      <th>Dysgraphia</th>\n",
       "    </tr>\n",
       "  </thead>\n",
       "  <tbody>\n",
       "    <tr>\n",
       "      <th>0</th>\n",
       "      <td>21.333333</td>\n",
       "      <td>0.001132</td>\n",
       "      <td>0.096496</td>\n",
       "      <td>0.000225</td>\n",
       "      <td>0.000355</td>\n",
       "      <td>0.003374</td>\n",
       "      <td>1418.925895</td>\n",
       "      <td>0.003258</td>\n",
       "      <td>1.335429</td>\n",
       "      <td>588.924280</td>\n",
       "      <td>0.543732</td>\n",
       "      <td>58.333333</td>\n",
       "      <td>252.647261</td>\n",
       "      <td>0.003335</td>\n",
       "      <td>6</td>\n",
       "      <td>0</td>\n",
       "    </tr>\n",
       "    <tr>\n",
       "      <th>1</th>\n",
       "      <td>20.333333</td>\n",
       "      <td>0.001050</td>\n",
       "      <td>0.191805</td>\n",
       "      <td>0.000237</td>\n",
       "      <td>0.000458</td>\n",
       "      <td>0.003336</td>\n",
       "      <td>1524.264209</td>\n",
       "      <td>0.003102</td>\n",
       "      <td>1.758775</td>\n",
       "      <td>460.662390</td>\n",
       "      <td>0.540825</td>\n",
       "      <td>101.333333</td>\n",
       "      <td>181.095889</td>\n",
       "      <td>0.003334</td>\n",
       "      <td>6</td>\n",
       "      <td>0</td>\n",
       "    </tr>\n",
       "    <tr>\n",
       "      <th>2</th>\n",
       "      <td>16.000000</td>\n",
       "      <td>0.001310</td>\n",
       "      <td>0.134668</td>\n",
       "      <td>0.000320</td>\n",
       "      <td>0.000210</td>\n",
       "      <td>0.003348</td>\n",
       "      <td>1125.804989</td>\n",
       "      <td>0.003230</td>\n",
       "      <td>1.548513</td>\n",
       "      <td>309.809359</td>\n",
       "      <td>0.642660</td>\n",
       "      <td>159.000000</td>\n",
       "      <td>280.365147</td>\n",
       "      <td>0.003373</td>\n",
       "      <td>8</td>\n",
       "      <td>0</td>\n",
       "    </tr>\n",
       "    <tr>\n",
       "      <th>3</th>\n",
       "      <td>29.000000</td>\n",
       "      <td>0.001128</td>\n",
       "      <td>0.179636</td>\n",
       "      <td>0.000300</td>\n",
       "      <td>0.000368</td>\n",
       "      <td>0.003401</td>\n",
       "      <td>1678.745264</td>\n",
       "      <td>0.003318</td>\n",
       "      <td>1.802776</td>\n",
       "      <td>489.141456</td>\n",
       "      <td>0.707339</td>\n",
       "      <td>76.000000</td>\n",
       "      <td>285.035458</td>\n",
       "      <td>0.003320</td>\n",
       "      <td>7</td>\n",
       "      <td>0</td>\n",
       "    </tr>\n",
       "    <tr>\n",
       "      <th>4</th>\n",
       "      <td>16.500000</td>\n",
       "      <td>0.001181</td>\n",
       "      <td>0.204028</td>\n",
       "      <td>0.000233</td>\n",
       "      <td>0.000279</td>\n",
       "      <td>0.003370</td>\n",
       "      <td>1317.883933</td>\n",
       "      <td>0.003259</td>\n",
       "      <td>2.334114</td>\n",
       "      <td>380.491356</td>\n",
       "      <td>0.574225</td>\n",
       "      <td>167.500000</td>\n",
       "      <td>219.778932</td>\n",
       "      <td>0.003335</td>\n",
       "      <td>10</td>\n",
       "      <td>0</td>\n",
       "    </tr>\n",
       "  </tbody>\n",
       "</table>\n",
       "</div>"
      ],
      "text/plain": [
       "   BHK_raw_quality_score  median_Freq_speed  mean_d_P  dist_Freq_tilt_x  \\\n",
       "0              21.333333           0.001132  0.096496          0.000225   \n",
       "1              20.333333           0.001050  0.191805          0.000237   \n",
       "2              16.000000           0.001310  0.134668          0.000320   \n",
       "3              29.000000           0.001128  0.179636          0.000300   \n",
       "4              16.500000           0.001181  0.204028          0.000233   \n",
       "\n",
       "   dist_Freq_speed  median_Freq_tilt_y  Space_Between_Words  bandwidth_tilt_x  \\\n",
       "0         0.000355            0.003374          1418.925895          0.003258   \n",
       "1         0.000458            0.003336          1524.264209          0.003102   \n",
       "2         0.000210            0.003348          1125.804989          0.003230   \n",
       "3         0.000368            0.003401          1678.745264          0.003318   \n",
       "4         0.000279            0.003370          1317.883933          0.003259   \n",
       "\n",
       "    std_d_P  mean_Pressure    in_Air  BHK_raw_speed_score  std_Density  \\\n",
       "0  1.335429     588.924280  0.543732            58.333333   252.647261   \n",
       "1  1.758775     460.662390  0.540825           101.333333   181.095889   \n",
       "2  1.548513     309.809359  0.642660           159.000000   280.365147   \n",
       "3  1.802776     489.141456  0.707339            76.000000   285.035458   \n",
       "4  2.334114     380.491356  0.574225           167.500000   219.778932   \n",
       "\n",
       "   median_Freq_tremolo  Age  Dysgraphia  \n",
       "0             0.003335    6           0  \n",
       "1             0.003334    6           0  \n",
       "2             0.003373    8           0  \n",
       "3             0.003320    7           0  \n",
       "4             0.003335   10           0  "
      ]
     },
     "execution_count": 6,
     "metadata": {},
     "output_type": "execute_result"
    }
   ],
   "source": [
    "data = dm.read_data('Synthetic_data.xlsx')\n",
    "data.drop(['Unnamed: 0'], axis = 1, inplace = True)\n",
    "data.head()"
   ]
  },
  {
   "cell_type": "code",
   "execution_count": 7,
   "metadata": {},
   "outputs": [],
   "source": [
    "X = data.drop(['Dysgraphia'], axis = 1)\n",
    "y = data['Dysgraphia']"
   ]
  },
  {
   "cell_type": "code",
   "execution_count": 8,
   "metadata": {
    "tags": []
   },
   "outputs": [],
   "source": [
    "X_train, X_test, y_train, y_test = train_test_split(X, y, test_size = 0.3, random_state = 0, shuffle = True, stratify = y)"
   ]
  },
  {
   "cell_type": "code",
   "execution_count": 9,
   "metadata": {
    "tags": []
   },
   "outputs": [],
   "source": [
    "scaler = StandardScaler()\n",
    "X_train = scaler.fit_transform(X_train)\n",
    "X_test = scaler.transform(X_test)"
   ]
  },
  {
   "cell_type": "code",
   "execution_count": 10,
   "metadata": {
    "tags": []
   },
   "outputs": [
    {
     "data": {
      "text/html": [
       "<div>\n",
       "<style scoped>\n",
       "    .dataframe tbody tr th:only-of-type {\n",
       "        vertical-align: middle;\n",
       "    }\n",
       "\n",
       "    .dataframe tbody tr th {\n",
       "        vertical-align: top;\n",
       "    }\n",
       "\n",
       "    .dataframe thead th {\n",
       "        text-align: right;\n",
       "    }\n",
       "</style>\n",
       "<table border=\"1\" class=\"dataframe\">\n",
       "  <thead>\n",
       "    <tr style=\"text-align: right;\">\n",
       "      <th></th>\n",
       "      <th>Mean</th>\n",
       "      <th>STD</th>\n",
       "    </tr>\n",
       "  </thead>\n",
       "  <tbody>\n",
       "    <tr>\n",
       "      <th>Accuracy</th>\n",
       "      <td>0.945455</td>\n",
       "      <td>0.044536</td>\n",
       "    </tr>\n",
       "    <tr>\n",
       "      <th>Recall</th>\n",
       "      <td>0.750000</td>\n",
       "      <td>0.223607</td>\n",
       "    </tr>\n",
       "    <tr>\n",
       "      <th>Precision</th>\n",
       "      <td>0.950000</td>\n",
       "      <td>0.100000</td>\n",
       "    </tr>\n",
       "    <tr>\n",
       "      <th>F1_Score</th>\n",
       "      <td>0.816667</td>\n",
       "      <td>0.152753</td>\n",
       "    </tr>\n",
       "  </tbody>\n",
       "</table>\n",
       "</div>"
      ],
      "text/plain": [
       "               Mean       STD\n",
       "Accuracy   0.945455  0.044536\n",
       "Recall     0.750000  0.223607\n",
       "Precision  0.950000  0.100000\n",
       "F1_Score   0.816667  0.152753"
      ]
     },
     "execution_count": 10,
     "metadata": {},
     "output_type": "execute_result"
    }
   ],
   "source": [
    "tst = Test(model = GaussianNB(), n_folds = 5)\n",
    "scores = tst.cross_validation_scores(X_train, y_train)\n",
    "scores"
   ]
  },
  {
   "cell_type": "code",
   "execution_count": 11,
   "metadata": {
    "scrolled": true
   },
   "outputs": [
    {
     "name": "stdout",
     "output_type": "stream",
     "text": [
      "Accuracy: 0.9166666666666666, Recall: 0.5, Precision: 1.0, F1_Score: 0.6666666666666666\n",
      "              precision    recall  f1-score   support\n",
      "\n",
      "           0       0.91      1.00      0.95        40\n",
      "           1       1.00      0.50      0.67         8\n",
      "\n",
      "    accuracy                           0.92        48\n",
      "   macro avg       0.95      0.75      0.81        48\n",
      "weighted avg       0.92      0.92      0.90        48\n",
      "\n"
     ]
    },
    {
     "name": "stderr",
     "output_type": "stream",
     "text": [
      "C:\\Users\\User\\anaconda3\\lib\\site-packages\\sklearn\\metrics\\_classification.py:1609: UndefinedMetricWarning: F-score is ill-defined and being set to 0.0 due to no true nor predicted samples. Use `zero_division` parameter to control this behavior.\n",
      "  _warn_prf(average, \"true nor predicted\", \"F-score is\", len(true_sum))\n"
     ]
    },
    {
     "data": {
      "image/png": "[encoded data removed]",
      "text/plain": [
       "<Figure size 432x288 with 2 Axes>"
      ]
     },
     "metadata": {
      "needs_background": "light"
     },
     "output_type": "display_data"
    },
    {
     "data": {
      "image/png": "[encoded data removed]",
      "text/plain": [
       "<Figure size 432x288 with 1 Axes>"
      ]
     },
     "metadata": {
      "needs_background": "light"
     },
     "output_type": "display_data"
    }
   ],
   "source": [
    "model = tst.train_test_report(X_train, y_train, X_test, y_test)"
   ]
  },
  {
   "cell_type": "markdown",
   "metadata": {},
   "source": [
    "# Polynomial Features"
   ]
  },
  {
   "cell_type": "code",
   "execution_count": 12,
   "metadata": {},
   "outputs": [
    {
     "data": {
      "text/html": [
       "<div>\n",
       "<style scoped>\n",
       "    .dataframe tbody tr th:only-of-type {\n",
       "        vertical-align: middle;\n",
       "    }\n",
       "\n",
       "    .dataframe tbody tr th {\n",
       "        vertical-align: top;\n",
       "    }\n",
       "\n",
       "    .dataframe thead th {\n",
       "        text-align: right;\n",
       "    }\n",
       "</style>\n",
       "<table border=\"1\" class=\"dataframe\">\n",
       "  <thead>\n",
       "    <tr style=\"text-align: right;\">\n",
       "      <th></th>\n",
       "      <th>BHK_raw_quality_score**1</th>\n",
       "      <th>median_Freq_speed**1</th>\n",
       "      <th>mean_d_P**1</th>\n",
       "      <th>dist_Freq_tilt_x**1</th>\n",
       "      <th>dist_Freq_speed**1</th>\n",
       "      <th>median_Freq_tilt_y**1</th>\n",
       "      <th>Space_Between_Words**1</th>\n",
       "      <th>bandwidth_tilt_x**1</th>\n",
       "      <th>std_d_P**1</th>\n",
       "      <th>mean_Pressure**1</th>\n",
       "      <th>...</th>\n",
       "      <th>BHK_raw_speed_score**2</th>\n",
       "      <th>BHK_raw_speed_score**1 x std_Density**1</th>\n",
       "      <th>BHK_raw_speed_score**1 x median_Freq_tremolo**1</th>\n",
       "      <th>BHK_raw_speed_score**1 x Age**1</th>\n",
       "      <th>std_Density**2</th>\n",
       "      <th>std_Density**1 x median_Freq_tremolo**1</th>\n",
       "      <th>std_Density**1 x Age**1</th>\n",
       "      <th>median_Freq_tremolo**2</th>\n",
       "      <th>median_Freq_tremolo**1 x Age**1</th>\n",
       "      <th>Age**2</th>\n",
       "    </tr>\n",
       "  </thead>\n",
       "  <tbody>\n",
       "    <tr>\n",
       "      <th>0</th>\n",
       "      <td>21.333333</td>\n",
       "      <td>0.001132</td>\n",
       "      <td>0.096496</td>\n",
       "      <td>0.000225</td>\n",
       "      <td>0.000355</td>\n",
       "      <td>0.003374</td>\n",
       "      <td>1418.925895</td>\n",
       "      <td>0.003258</td>\n",
       "      <td>1.335429</td>\n",
       "      <td>588.924280</td>\n",
       "      <td>...</td>\n",
       "      <td>3402.777777</td>\n",
       "      <td>14737.756873</td>\n",
       "      <td>0.194546</td>\n",
       "      <td>350.0</td>\n",
       "      <td>63830.638339</td>\n",
       "      <td>0.842596</td>\n",
       "      <td>1515.883564</td>\n",
       "      <td>0.000011</td>\n",
       "      <td>0.020010</td>\n",
       "      <td>36.0</td>\n",
       "    </tr>\n",
       "    <tr>\n",
       "      <th>1</th>\n",
       "      <td>20.333333</td>\n",
       "      <td>0.001050</td>\n",
       "      <td>0.191805</td>\n",
       "      <td>0.000237</td>\n",
       "      <td>0.000458</td>\n",
       "      <td>0.003336</td>\n",
       "      <td>1524.264209</td>\n",
       "      <td>0.003102</td>\n",
       "      <td>1.758775</td>\n",
       "      <td>460.662390</td>\n",
       "      <td>...</td>\n",
       "      <td>10268.444438</td>\n",
       "      <td>18351.050110</td>\n",
       "      <td>0.337845</td>\n",
       "      <td>608.0</td>\n",
       "      <td>32795.721121</td>\n",
       "      <td>0.603774</td>\n",
       "      <td>1086.575336</td>\n",
       "      <td>0.000011</td>\n",
       "      <td>0.020004</td>\n",
       "      <td>36.0</td>\n",
       "    </tr>\n",
       "    <tr>\n",
       "      <th>2</th>\n",
       "      <td>16.000000</td>\n",
       "      <td>0.001310</td>\n",
       "      <td>0.134668</td>\n",
       "      <td>0.000320</td>\n",
       "      <td>0.000210</td>\n",
       "      <td>0.003348</td>\n",
       "      <td>1125.804989</td>\n",
       "      <td>0.003230</td>\n",
       "      <td>1.548513</td>\n",
       "      <td>309.809359</td>\n",
       "      <td>...</td>\n",
       "      <td>25281.000000</td>\n",
       "      <td>44578.058341</td>\n",
       "      <td>0.536305</td>\n",
       "      <td>1272.0</td>\n",
       "      <td>78604.615540</td>\n",
       "      <td>0.945669</td>\n",
       "      <td>2242.921174</td>\n",
       "      <td>0.000011</td>\n",
       "      <td>0.026984</td>\n",
       "      <td>64.0</td>\n",
       "    </tr>\n",
       "    <tr>\n",
       "      <th>3</th>\n",
       "      <td>29.000000</td>\n",
       "      <td>0.001128</td>\n",
       "      <td>0.179636</td>\n",
       "      <td>0.000300</td>\n",
       "      <td>0.000368</td>\n",
       "      <td>0.003401</td>\n",
       "      <td>1678.745264</td>\n",
       "      <td>0.003318</td>\n",
       "      <td>1.802776</td>\n",
       "      <td>489.141456</td>\n",
       "      <td>...</td>\n",
       "      <td>5776.000000</td>\n",
       "      <td>21662.694770</td>\n",
       "      <td>0.252287</td>\n",
       "      <td>532.0</td>\n",
       "      <td>81245.212032</td>\n",
       "      <td>0.946194</td>\n",
       "      <td>1995.248202</td>\n",
       "      <td>0.000011</td>\n",
       "      <td>0.023237</td>\n",
       "      <td>49.0</td>\n",
       "    </tr>\n",
       "    <tr>\n",
       "      <th>4</th>\n",
       "      <td>16.500000</td>\n",
       "      <td>0.001181</td>\n",
       "      <td>0.204028</td>\n",
       "      <td>0.000233</td>\n",
       "      <td>0.000279</td>\n",
       "      <td>0.003370</td>\n",
       "      <td>1317.883933</td>\n",
       "      <td>0.003259</td>\n",
       "      <td>2.334114</td>\n",
       "      <td>380.491356</td>\n",
       "      <td>...</td>\n",
       "      <td>28056.250000</td>\n",
       "      <td>36812.971093</td>\n",
       "      <td>0.558644</td>\n",
       "      <td>1675.0</td>\n",
       "      <td>48302.778907</td>\n",
       "      <td>0.733004</td>\n",
       "      <td>2197.789319</td>\n",
       "      <td>0.000011</td>\n",
       "      <td>0.033352</td>\n",
       "      <td>100.0</td>\n",
       "    </tr>\n",
       "  </tbody>\n",
       "</table>\n",
       "<p>5 rows × 135 columns</p>\n",
       "</div>"
      ],
      "text/plain": [
       "   BHK_raw_quality_score**1  median_Freq_speed**1  mean_d_P**1  \\\n",
       "0                 21.333333              0.001132     0.096496   \n",
       "1                 20.333333              0.001050     0.191805   \n",
       "2                 16.000000              0.001310     0.134668   \n",
       "3                 29.000000              0.001128     0.179636   \n",
       "4                 16.500000              0.001181     0.204028   \n",
       "\n",
       "   dist_Freq_tilt_x**1  dist_Freq_speed**1  median_Freq_tilt_y**1  \\\n",
       "0             0.000225            0.000355               0.003374   \n",
       "1             0.000237            0.000458               0.003336   \n",
       "2             0.000320            0.000210               0.003348   \n",
       "3             0.000300            0.000368               0.003401   \n",
       "4             0.000233            0.000279               0.003370   \n",
       "\n",
       "   Space_Between_Words**1  bandwidth_tilt_x**1  std_d_P**1  mean_Pressure**1  \\\n",
       "0             1418.925895             0.003258    1.335429        588.924280   \n",
       "1             1524.264209             0.003102    1.758775        460.662390   \n",
       "2             1125.804989             0.003230    1.548513        309.809359   \n",
       "3             1678.745264             0.003318    1.802776        489.141456   \n",
       "4             1317.883933             0.003259    2.334114        380.491356   \n",
       "\n",
       "   ...  BHK_raw_speed_score**2  BHK_raw_speed_score**1 x std_Density**1  \\\n",
       "0  ...             3402.777777                             14737.756873   \n",
       "1  ...            10268.444438                             18351.050110   \n",
       "2  ...            25281.000000                             44578.058341   \n",
       "3  ...             5776.000000                             21662.694770   \n",
       "4  ...            28056.250000                             36812.971093   \n",
       "\n",
       "   BHK_raw_speed_score**1 x median_Freq_tremolo**1  \\\n",
       "0                                         0.194546   \n",
       "1                                         0.337845   \n",
       "2                                         0.536305   \n",
       "3                                         0.252287   \n",
       "4                                         0.558644   \n",
       "\n",
       "   BHK_raw_speed_score**1 x Age**1  std_Density**2  \\\n",
       "0                            350.0    63830.638339   \n",
       "1                            608.0    32795.721121   \n",
       "2                           1272.0    78604.615540   \n",
       "3                            532.0    81245.212032   \n",
       "4                           1675.0    48302.778907   \n",
       "\n",
       "   std_Density**1 x median_Freq_tremolo**1  std_Density**1 x Age**1  \\\n",
       "0                                 0.842596              1515.883564   \n",
       "1                                 0.603774              1086.575336   \n",
       "2                                 0.945669              2242.921174   \n",
       "3                                 0.946194              1995.248202   \n",
       "4                                 0.733004              2197.789319   \n",
       "\n",
       "   median_Freq_tremolo**2  median_Freq_tremolo**1 x Age**1  Age**2  \n",
       "0                0.000011                         0.020010    36.0  \n",
       "1                0.000011                         0.020004    36.0  \n",
       "2                0.000011                         0.026984    64.0  \n",
       "3                0.000011                         0.023237    49.0  \n",
       "4                0.000011                         0.033352   100.0  \n",
       "\n",
       "[5 rows x 135 columns]"
      ]
     },
     "execution_count": 12,
     "metadata": {},
     "output_type": "execute_result"
    }
   ],
   "source": [
    "poly_data = dp.PolynomialFeatures_labeled(X, 2)\n",
    "poly_data.drop(['Constant Term'], axis = 1, inplace = True)\n",
    "poly_data.head()"
   ]
  },
  {
   "cell_type": "code",
   "execution_count": 13,
   "metadata": {
    "tags": []
   },
   "outputs": [
    {
     "data": {
      "text/plain": [
       "False"
      ]
     },
     "execution_count": 13,
     "metadata": {},
     "output_type": "execute_result"
    }
   ],
   "source": [
    "'Dysgraphia' in poly_data.columns"
   ]
  },
  {
   "cell_type": "code",
   "execution_count": 14,
   "metadata": {
    "tags": []
   },
   "outputs": [],
   "source": [
    "poly_X_train, poly_X_test, poly_y_train, poly_y_test = train_test_split(poly_data, y, test_size = 0.3, random_state = 0, shuffle=True, \n",
    "                                                        stratify = y)\n",
    "poly_scaler = StandardScaler()\n",
    "poly_X_train = poly_scaler.fit_transform(poly_X_train)\n",
    "poly_X_test = poly_scaler.transform(poly_X_test)"
   ]
  },
  {
   "cell_type": "code",
   "execution_count": 15,
   "metadata": {
    "tags": []
   },
   "outputs": [],
   "source": [
    "poly_X_train = pd.DataFrame(poly_X_train, columns = poly_data.columns)\n",
    "poly_X_test = pd.DataFrame(poly_X_test, columns = poly_data.columns)"
   ]
  },
  {
   "cell_type": "code",
   "execution_count": 16,
   "metadata": {
    "tags": []
   },
   "outputs": [],
   "source": [
    "new_features = ['Space_Between_Words**1',\n",
    " 'BHK_raw_quality_score**1 x median_Freq_speed**1',\n",
    " 'BHK_raw_quality_score**1 x mean_d_P**1',\n",
    " 'BHK_raw_quality_score**1 x Age**1']"
   ]
  },
  {
   "cell_type": "code",
   "execution_count": 17,
   "metadata": {
    "scrolled": true
   },
   "outputs": [
    {
     "data": {
      "text/html": [
       "<div>\n",
       "<style scoped>\n",
       "    .dataframe tbody tr th:only-of-type {\n",
       "        vertical-align: middle;\n",
       "    }\n",
       "\n",
       "    .dataframe tbody tr th {\n",
       "        vertical-align: top;\n",
       "    }\n",
       "\n",
       "    .dataframe thead th {\n",
       "        text-align: right;\n",
       "    }\n",
       "</style>\n",
       "<table border=\"1\" class=\"dataframe\">\n",
       "  <thead>\n",
       "    <tr style=\"text-align: right;\">\n",
       "      <th></th>\n",
       "      <th>Mean</th>\n",
       "      <th>STD</th>\n",
       "    </tr>\n",
       "  </thead>\n",
       "  <tbody>\n",
       "    <tr>\n",
       "      <th>Accuracy</th>\n",
       "      <td>0.954113</td>\n",
       "      <td>0.028761</td>\n",
       "    </tr>\n",
       "    <tr>\n",
       "      <th>Recall</th>\n",
       "      <td>0.900000</td>\n",
       "      <td>0.122474</td>\n",
       "    </tr>\n",
       "    <tr>\n",
       "      <th>Precision</th>\n",
       "      <td>0.883333</td>\n",
       "      <td>0.145297</td>\n",
       "    </tr>\n",
       "    <tr>\n",
       "      <th>F1_Score</th>\n",
       "      <td>0.874286</td>\n",
       "      <td>0.066639</td>\n",
       "    </tr>\n",
       "  </tbody>\n",
       "</table>\n",
       "</div>"
      ],
      "text/plain": [
       "               Mean       STD\n",
       "Accuracy   0.954113  0.028761\n",
       "Recall     0.900000  0.122474\n",
       "Precision  0.883333  0.145297\n",
       "F1_Score   0.874286  0.066639"
      ]
     },
     "execution_count": 17,
     "metadata": {},
     "output_type": "execute_result"
    }
   ],
   "source": [
    "sfs_test = Test(model = GaussianNB(), n_folds = 5)\n",
    "scores = sfs_test.cross_validation_scores(poly_X_train[new_features], poly_y_train)\n",
    "scores"
   ]
  },
  {
   "cell_type": "code",
   "execution_count": 18,
   "metadata": {
    "scrolled": true
   },
   "outputs": [
    {
     "name": "stdout",
     "output_type": "stream",
     "text": [
      "Accuracy: 0.9583333333333334, Recall: 1.0, Precision: 0.8, F1_Score: 0.888888888888889\n",
      "              precision    recall  f1-score   support\n",
      "\n",
      "           0       1.00      0.95      0.97        40\n",
      "           1       0.80      1.00      0.89         8\n",
      "\n",
      "    accuracy                           0.96        48\n",
      "   macro avg       0.90      0.97      0.93        48\n",
      "weighted avg       0.97      0.96      0.96        48\n",
      "\n"
     ]
    },
    {
     "name": "stderr",
     "output_type": "stream",
     "text": [
      "C:\\Users\\User\\anaconda3\\lib\\site-packages\\sklearn\\metrics\\_classification.py:1609: UndefinedMetricWarning: F-score is ill-defined and being set to 0.0 due to no true nor predicted samples. Use `zero_division` parameter to control this behavior.\n",
      "  _warn_prf(average, \"true nor predicted\", \"F-score is\", len(true_sum))\n"
     ]
    },
    {
     "data": {
      "image/png": "[encoded data removed]",
      "text/plain": [
       "<Figure size 432x288 with 2 Axes>"
      ]
     },
     "metadata": {
      "needs_background": "light"
     },
     "output_type": "display_data"
    },
    {
     "data": {
      "image/png": "[encoded data removed]",
      "text/plain": [
       "<Figure size 432x288 with 1 Axes>"
      ]
     },
     "metadata": {
      "needs_background": "light"
     },
     "output_type": "display_data"
    },
    {
     "data": {
      "text/html": [
       "<style>#sk-container-id-1 {color: black;background-color: white;}#sk-container-id-1 pre{padding: 0;}#sk-container-id-1 div.sk-toggleable {background-color: white;}#sk-container-id-1 label.sk-toggleable__label {cursor: pointer;display: block;width: 100%;margin-bottom: 0;padding: 0.3em;box-sizing: border-box;text-align: center;}#sk-container-id-1 label.sk-toggleable__label-arrow:before {content: \"▸\";float: left;margin-right: 0.25em;color: #696969;}#sk-container-id-1 label.sk-toggleable__label-arrow:hover:before {color: black;}#sk-container-id-1 div.sk-estimator:hover label.sk-toggleable__label-arrow:before {color: black;}#sk-container-id-1 div.sk-toggleable__content {max-height: 0;max-width: 0;overflow: hidden;text-align: left;background-color: #f0f8ff;}#sk-container-id-1 div.sk-toggleable__content pre {margin: 0.2em;color: black;border-radius: 0.25em;background-color: #f0f8ff;}#sk-container-id-1 input.sk-toggleable__control:checked~div.sk-toggleable__content {max-height: 200px;max-width: 100%;overflow: auto;}#sk-container-id-1 input.sk-toggleable__control:checked~label.sk-toggleable__label-arrow:before {content: \"▾\";}#sk-container-id-1 div.sk-estimator input.sk-toggleable__control:checked~label.sk-toggleable__label {background-color: #d4ebff;}#sk-container-id-1 div.sk-label input.sk-toggleable__control:checked~label.sk-toggleable__label {background-color: #d4ebff;}#sk-container-id-1 input.sk-hidden--visually {border: 0;clip: rect(1px 1px 1px 1px);clip: rect(1px, 1px, 1px, 1px);height: 1px;margin: -1px;overflow: hidden;padding: 0;position: absolute;width: 1px;}#sk-container-id-1 div.sk-estimator {font-family: monospace;background-color: #f0f8ff;border: 1px dotted black;border-radius: 0.25em;box-sizing: border-box;margin-bottom: 0.5em;}#sk-container-id-1 div.sk-estimator:hover {background-color: #d4ebff;}#sk-container-id-1 div.sk-parallel-item::after {content: \"\";width: 100%;border-bottom: 1px solid gray;flex-grow: 1;}#sk-container-id-1 div.sk-label:hover label.sk-toggleable__label {background-color: #d4ebff;}#sk-container-id-1 div.sk-serial::before {content: \"\";position: absolute;border-left: 1px solid gray;box-sizing: border-box;top: 0;bottom: 0;left: 50%;z-index: 0;}#sk-container-id-1 div.sk-serial {display: flex;flex-direction: column;align-items: center;background-color: white;padding-right: 0.2em;padding-left: 0.2em;position: relative;}#sk-container-id-1 div.sk-item {position: relative;z-index: 1;}#sk-container-id-1 div.sk-parallel {display: flex;align-items: stretch;justify-content: center;background-color: white;position: relative;}#sk-container-id-1 div.sk-item::before, #sk-container-id-1 div.sk-parallel-item::before {content: \"\";position: absolute;border-left: 1px solid gray;box-sizing: border-box;top: 0;bottom: 0;left: 50%;z-index: -1;}#sk-container-id-1 div.sk-parallel-item {display: flex;flex-direction: column;z-index: 1;position: relative;background-color: white;}#sk-container-id-1 div.sk-parallel-item:first-child::after {align-self: flex-end;width: 50%;}#sk-container-id-1 div.sk-parallel-item:last-child::after {align-self: flex-start;width: 50%;}#sk-container-id-1 div.sk-parallel-item:only-child::after {width: 0;}#sk-container-id-1 div.sk-dashed-wrapped {border: 1px dashed gray;margin: 0 0.4em 0.5em 0.4em;box-sizing: border-box;padding-bottom: 0.4em;background-color: white;}#sk-container-id-1 div.sk-label label {font-family: monospace;font-weight: bold;display: inline-block;line-height: 1.2em;}#sk-container-id-1 div.sk-label-container {text-align: center;}#sk-container-id-1 div.sk-container {/* jupyter's `normalize.less` sets `[hidden] { display: none; }` but bootstrap.min.css set `[hidden] { display: none !important; }` so we also need the `!important` here to be able to override the default hidden behavior on the sphinx rendered scikit-learn.org. See: https://github.com/scikit-learn/scikit-learn/issues/21755 */display: inline-block !important;position: relative;}#sk-container-id-1 div.sk-text-repr-fallback {display: none;}</style><div id=\"sk-container-id-1\" class=\"sk-top-container\"><div class=\"sk-text-repr-fallback\"><pre>GaussianNB()</pre><b>In a Jupyter environment, please rerun this cell to show the HTML representation or trust the notebook. <br />On GitHub, the HTML representation is unable to render, please try loading this page with nbviewer.org.</b></div><div class=\"sk-container\" hidden><div class=\"sk-item\"><div class=\"sk-estimator sk-toggleable\"><input class=\"sk-toggleable__control sk-hidden--visually\" id=\"sk-estimator-id-1\" type=\"checkbox\" checked><label for=\"sk-estimator-id-1\" class=\"sk-toggleable__label sk-toggleable__label-arrow\">GaussianNB</label><div class=\"sk-toggleable__content\"><pre>GaussianNB()</pre></div></div></div></div></div>"
      ],
      "text/plain": [
       "GaussianNB()"
      ]
     },
     "execution_count": 18,
     "metadata": {},
     "output_type": "execute_result"
    }
   ],
   "source": [
    "sfs_test.train_test_report(poly_X_train[new_features], poly_y_train, poly_X_test[new_features], poly_y_test)"
   ]
  },
  {
   "cell_type": "code",
   "execution_count": null,
   "metadata": {},
   "outputs": [],
   "source": []
  }
 ],
 "metadata": {
  "kernelspec": {
   "display_name": "Python 3",
   "language": "python",
   "name": "python3"
  },
  "language_info": {
   "codemirror_mode": {
    "name": "ipython",
    "version": 3
   },
   "file_extension": ".py",
   "mimetype": "text/x-python",
   "name": "python",
   "nbconvert_exporter": "python",
   "pygments_lexer": "ipython3",
   "version": "3.8.3"
  }
 },
 "nbformat": 4,
 "nbformat_minor": 4
}
