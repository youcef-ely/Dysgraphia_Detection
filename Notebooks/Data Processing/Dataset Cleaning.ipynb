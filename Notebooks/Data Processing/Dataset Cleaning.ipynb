{
 "cells": [
  {
   "cell_type": "code",
   "execution_count": 1,
   "metadata": {},
   "outputs": [],
   "source": [
    "import sys\n",
    "import os\n",
    "\n",
    "source_path = 'C:/Users/User/Desktop/Dyslexia project/Source'\n",
    "\n",
    "if source_path not in sys.path:\n",
    "    sys.path.append(source_path)\n",
    "import data_manipulation as dm \n",
    "import data_visualization as dv\n",
    "import model_test\n",
    "import data_processing as dp\n",
    "import genetic_algorithm"
   ]
  },
  {
   "cell_type": "code",
   "execution_count": 2,
   "metadata": {},
   "outputs": [],
   "source": [
    "import matplotlib.pyplot as plt\n",
    "import numpy as np\n",
    "import seaborn as sns\n",
    "import pandas as pd"
   ]
  },
  {
   "cell_type": "code",
   "execution_count": 3,
   "metadata": {},
   "outputs": [
    {
     "data": {
      "text/html": [
       "<div>\n",
       "<style scoped>\n",
       "    .dataframe tbody tr th:only-of-type {\n",
       "        vertical-align: middle;\n",
       "    }\n",
       "\n",
       "    .dataframe tbody tr th {\n",
       "        vertical-align: top;\n",
       "    }\n",
       "\n",
       "    .dataframe thead th {\n",
       "        text-align: right;\n",
       "    }\n",
       "</style>\n",
       "<table border=\"1\" class=\"dataframe\">\n",
       "  <thead>\n",
       "    <tr style=\"text-align: right;\">\n",
       "      <th></th>\n",
       "      <th>participant</th>\n",
       "      <th>group</th>\n",
       "      <th>class</th>\n",
       "      <th>age</th>\n",
       "      <th>gender</th>\n",
       "      <th>laterality</th>\n",
       "      <th>BHK_raw_speed_score</th>\n",
       "      <th>BHK_raw_quality_score</th>\n",
       "      <th>median_Freq_speed</th>\n",
       "      <th>dist_Freq_speed</th>\n",
       "      <th>in_Air</th>\n",
       "      <th>Space_Between_Words</th>\n",
       "      <th>std_Density</th>\n",
       "      <th>median_Freq_tremolo</th>\n",
       "      <th>mean_d_P</th>\n",
       "      <th>std_d_P</th>\n",
       "      <th>mean_Pressure</th>\n",
       "      <th>dist_Freq_tilt_x</th>\n",
       "      <th>bandwidth_tilt_x</th>\n",
       "      <th>median_Freq_tilt_y</th>\n",
       "    </tr>\n",
       "  </thead>\n",
       "  <tbody>\n",
       "    <tr>\n",
       "      <th>0</th>\n",
       "      <td>S0995</td>\n",
       "      <td>dys</td>\n",
       "      <td>CM1</td>\n",
       "      <td>9y4</td>\n",
       "      <td>m</td>\n",
       "      <td>l</td>\n",
       "      <td>207.000000</td>\n",
       "      <td>25.500000</td>\n",
       "      <td>0.001744</td>\n",
       "      <td>0.000218</td>\n",
       "      <td>0.621097</td>\n",
       "      <td>1617.671646</td>\n",
       "      <td>360.244714</td>\n",
       "      <td>0.003316</td>\n",
       "      <td>0.130777</td>\n",
       "      <td>3.562989</td>\n",
       "      <td>592.221130</td>\n",
       "      <td>0.000498</td>\n",
       "      <td>0.004491</td>\n",
       "      <td>0.003318</td>\n",
       "    </tr>\n",
       "    <tr>\n",
       "      <th>1</th>\n",
       "      <td>S0996</td>\n",
       "      <td>dys</td>\n",
       "      <td>CE2</td>\n",
       "      <td>9ans 3</td>\n",
       "      <td>m</td>\n",
       "      <td>r</td>\n",
       "      <td>63.000000</td>\n",
       "      <td>35.000000</td>\n",
       "      <td>0.001564</td>\n",
       "      <td>0.000126</td>\n",
       "      <td>0.587173</td>\n",
       "      <td>1714.428471</td>\n",
       "      <td>303.268265</td>\n",
       "      <td>0.003233</td>\n",
       "      <td>0.039345</td>\n",
       "      <td>1.495864</td>\n",
       "      <td>375.740844</td>\n",
       "      <td>0.000910</td>\n",
       "      <td>0.004954</td>\n",
       "      <td>0.003324</td>\n",
       "    </tr>\n",
       "    <tr>\n",
       "      <th>2</th>\n",
       "      <td>S0997</td>\n",
       "      <td>dys</td>\n",
       "      <td>CE1</td>\n",
       "      <td>8ans2</td>\n",
       "      <td>m</td>\n",
       "      <td>r</td>\n",
       "      <td>74.000000</td>\n",
       "      <td>31.333333</td>\n",
       "      <td>0.002356</td>\n",
       "      <td>0.001056</td>\n",
       "      <td>0.610327</td>\n",
       "      <td>423.105339</td>\n",
       "      <td>267.878028</td>\n",
       "      <td>0.003295</td>\n",
       "      <td>-0.007538</td>\n",
       "      <td>0.562388</td>\n",
       "      <td>127.736338</td>\n",
       "      <td>0.000242</td>\n",
       "      <td>0.003083</td>\n",
       "      <td>0.003333</td>\n",
       "    </tr>\n",
       "    <tr>\n",
       "      <th>3</th>\n",
       "      <td>S1000</td>\n",
       "      <td>dys</td>\n",
       "      <td>CE1</td>\n",
       "      <td>8ans4</td>\n",
       "      <td>f</td>\n",
       "      <td>r</td>\n",
       "      <td>52.500000</td>\n",
       "      <td>31.000000</td>\n",
       "      <td>0.001599</td>\n",
       "      <td>0.000136</td>\n",
       "      <td>0.604755</td>\n",
       "      <td>2371.746011</td>\n",
       "      <td>205.989012</td>\n",
       "      <td>0.003344</td>\n",
       "      <td>0.030485</td>\n",
       "      <td>1.560180</td>\n",
       "      <td>427.952813</td>\n",
       "      <td>0.000604</td>\n",
       "      <td>0.005016</td>\n",
       "      <td>0.003273</td>\n",
       "    </tr>\n",
       "    <tr>\n",
       "      <th>4</th>\n",
       "      <td>S1001</td>\n",
       "      <td>dys</td>\n",
       "      <td>CE2</td>\n",
       "      <td>8ans6</td>\n",
       "      <td>f</td>\n",
       "      <td>r</td>\n",
       "      <td>86.333333</td>\n",
       "      <td>22.666667</td>\n",
       "      <td>0.002250</td>\n",
       "      <td>0.000899</td>\n",
       "      <td>0.770747</td>\n",
       "      <td>926.590647</td>\n",
       "      <td>230.280797</td>\n",
       "      <td>0.003338</td>\n",
       "      <td>0.025525</td>\n",
       "      <td>1.788618</td>\n",
       "      <td>319.640759</td>\n",
       "      <td>0.000704</td>\n",
       "      <td>0.004022</td>\n",
       "      <td>0.003388</td>\n",
       "    </tr>\n",
       "    <tr>\n",
       "      <th>...</th>\n",
       "      <td>...</td>\n",
       "      <td>...</td>\n",
       "      <td>...</td>\n",
       "      <td>...</td>\n",
       "      <td>...</td>\n",
       "      <td>...</td>\n",
       "      <td>...</td>\n",
       "      <td>...</td>\n",
       "      <td>...</td>\n",
       "      <td>...</td>\n",
       "      <td>...</td>\n",
       "      <td>...</td>\n",
       "      <td>...</td>\n",
       "      <td>...</td>\n",
       "      <td>...</td>\n",
       "      <td>...</td>\n",
       "      <td>...</td>\n",
       "      <td>...</td>\n",
       "      <td>...</td>\n",
       "      <td>...</td>\n",
       "    </tr>\n",
       "    <tr>\n",
       "      <th>275</th>\n",
       "      <td>S1376</td>\n",
       "      <td>dys</td>\n",
       "      <td>CE1</td>\n",
       "      <td>7ans</td>\n",
       "      <td>m</td>\n",
       "      <td>r</td>\n",
       "      <td>105.500000</td>\n",
       "      <td>34.500000</td>\n",
       "      <td>0.001715</td>\n",
       "      <td>0.000263</td>\n",
       "      <td>0.385017</td>\n",
       "      <td>1033.910155</td>\n",
       "      <td>308.338614</td>\n",
       "      <td>0.003361</td>\n",
       "      <td>0.004184</td>\n",
       "      <td>1.371368</td>\n",
       "      <td>332.983967</td>\n",
       "      <td>0.000721</td>\n",
       "      <td>0.004639</td>\n",
       "      <td>0.003367</td>\n",
       "    </tr>\n",
       "    <tr>\n",
       "      <th>276</th>\n",
       "      <td>S1379</td>\n",
       "      <td>dys</td>\n",
       "      <td>CM1</td>\n",
       "      <td>10ans7</td>\n",
       "      <td>m</td>\n",
       "      <td>r</td>\n",
       "      <td>201.000000</td>\n",
       "      <td>28.500000</td>\n",
       "      <td>0.002029</td>\n",
       "      <td>0.000527</td>\n",
       "      <td>0.591674</td>\n",
       "      <td>699.553191</td>\n",
       "      <td>104.431172</td>\n",
       "      <td>0.003380</td>\n",
       "      <td>0.024090</td>\n",
       "      <td>1.821784</td>\n",
       "      <td>301.977176</td>\n",
       "      <td>0.000357</td>\n",
       "      <td>0.003769</td>\n",
       "      <td>0.003295</td>\n",
       "    </tr>\n",
       "    <tr>\n",
       "      <th>277</th>\n",
       "      <td>S1383</td>\n",
       "      <td>dys</td>\n",
       "      <td>CM2</td>\n",
       "      <td>10ans7</td>\n",
       "      <td>m</td>\n",
       "      <td>r</td>\n",
       "      <td>158.500000</td>\n",
       "      <td>25.000000</td>\n",
       "      <td>0.002119</td>\n",
       "      <td>0.000781</td>\n",
       "      <td>0.578211</td>\n",
       "      <td>668.460279</td>\n",
       "      <td>262.934937</td>\n",
       "      <td>0.003352</td>\n",
       "      <td>0.023631</td>\n",
       "      <td>1.149694</td>\n",
       "      <td>221.949038</td>\n",
       "      <td>0.000452</td>\n",
       "      <td>0.004270</td>\n",
       "      <td>0.003277</td>\n",
       "    </tr>\n",
       "    <tr>\n",
       "      <th>278</th>\n",
       "      <td>S1384</td>\n",
       "      <td>dys</td>\n",
       "      <td>CM1</td>\n",
       "      <td>10ans3</td>\n",
       "      <td>m</td>\n",
       "      <td>r</td>\n",
       "      <td>94.500000</td>\n",
       "      <td>25.000000</td>\n",
       "      <td>0.002154</td>\n",
       "      <td>0.000747</td>\n",
       "      <td>0.400375</td>\n",
       "      <td>75.451084</td>\n",
       "      <td>320.034516</td>\n",
       "      <td>0.003328</td>\n",
       "      <td>-0.005571</td>\n",
       "      <td>0.808330</td>\n",
       "      <td>185.984346</td>\n",
       "      <td>0.000195</td>\n",
       "      <td>0.003236</td>\n",
       "      <td>0.003336</td>\n",
       "    </tr>\n",
       "    <tr>\n",
       "      <th>279</th>\n",
       "      <td>S1391</td>\n",
       "      <td>dys</td>\n",
       "      <td>CE2</td>\n",
       "      <td>8ans11</td>\n",
       "      <td>m</td>\n",
       "      <td>r</td>\n",
       "      <td>73.000000</td>\n",
       "      <td>38.500000</td>\n",
       "      <td>0.001729</td>\n",
       "      <td>0.000256</td>\n",
       "      <td>0.624108</td>\n",
       "      <td>994.645853</td>\n",
       "      <td>262.311260</td>\n",
       "      <td>0.003127</td>\n",
       "      <td>0.138003</td>\n",
       "      <td>2.552717</td>\n",
       "      <td>795.323956</td>\n",
       "      <td>0.000765</td>\n",
       "      <td>0.004163</td>\n",
       "      <td>0.003373</td>\n",
       "    </tr>\n",
       "  </tbody>\n",
       "</table>\n",
       "<p>280 rows × 20 columns</p>\n",
       "</div>"
      ],
      "text/plain": [
       "    participant group class     age gender laterality  BHK_raw_speed_score  \\\n",
       "0         S0995   dys   CM1     9y4      m          l           207.000000   \n",
       "1         S0996   dys   CE2  9ans 3      m          r            63.000000   \n",
       "2         S0997   dys   CE1   8ans2      m          r            74.000000   \n",
       "3         S1000   dys   CE1   8ans4      f          r            52.500000   \n",
       "4         S1001   dys   CE2   8ans6      f          r            86.333333   \n",
       "..          ...   ...   ...     ...    ...        ...                  ...   \n",
       "275       S1376   dys   CE1    7ans      m          r           105.500000   \n",
       "276       S1379   dys   CM1  10ans7      m          r           201.000000   \n",
       "277       S1383   dys   CM2  10ans7      m          r           158.500000   \n",
       "278       S1384   dys   CM1  10ans3      m          r            94.500000   \n",
       "279       S1391   dys   CE2  8ans11      m          r            73.000000   \n",
       "\n",
       "     BHK_raw_quality_score  median_Freq_speed  dist_Freq_speed    in_Air  \\\n",
       "0                25.500000           0.001744         0.000218  0.621097   \n",
       "1                35.000000           0.001564         0.000126  0.587173   \n",
       "2                31.333333           0.002356         0.001056  0.610327   \n",
       "3                31.000000           0.001599         0.000136  0.604755   \n",
       "4                22.666667           0.002250         0.000899  0.770747   \n",
       "..                     ...                ...              ...       ...   \n",
       "275              34.500000           0.001715         0.000263  0.385017   \n",
       "276              28.500000           0.002029         0.000527  0.591674   \n",
       "277              25.000000           0.002119         0.000781  0.578211   \n",
       "278              25.000000           0.002154         0.000747  0.400375   \n",
       "279              38.500000           0.001729         0.000256  0.624108   \n",
       "\n",
       "     Space_Between_Words  std_Density  median_Freq_tremolo  mean_d_P  \\\n",
       "0            1617.671646   360.244714             0.003316  0.130777   \n",
       "1            1714.428471   303.268265             0.003233  0.039345   \n",
       "2             423.105339   267.878028             0.003295 -0.007538   \n",
       "3            2371.746011   205.989012             0.003344  0.030485   \n",
       "4             926.590647   230.280797             0.003338  0.025525   \n",
       "..                   ...          ...                  ...       ...   \n",
       "275          1033.910155   308.338614             0.003361  0.004184   \n",
       "276           699.553191   104.431172             0.003380  0.024090   \n",
       "277           668.460279   262.934937             0.003352  0.023631   \n",
       "278            75.451084   320.034516             0.003328 -0.005571   \n",
       "279           994.645853   262.311260             0.003127  0.138003   \n",
       "\n",
       "      std_d_P  mean_Pressure  dist_Freq_tilt_x  bandwidth_tilt_x  \\\n",
       "0    3.562989     592.221130          0.000498          0.004491   \n",
       "1    1.495864     375.740844          0.000910          0.004954   \n",
       "2    0.562388     127.736338          0.000242          0.003083   \n",
       "3    1.560180     427.952813          0.000604          0.005016   \n",
       "4    1.788618     319.640759          0.000704          0.004022   \n",
       "..        ...            ...               ...               ...   \n",
       "275  1.371368     332.983967          0.000721          0.004639   \n",
       "276  1.821784     301.977176          0.000357          0.003769   \n",
       "277  1.149694     221.949038          0.000452          0.004270   \n",
       "278  0.808330     185.984346          0.000195          0.003236   \n",
       "279  2.552717     795.323956          0.000765          0.004163   \n",
       "\n",
       "     median_Freq_tilt_y  \n",
       "0              0.003318  \n",
       "1              0.003324  \n",
       "2              0.003333  \n",
       "3              0.003273  \n",
       "4              0.003388  \n",
       "..                  ...  \n",
       "275            0.003367  \n",
       "276            0.003295  \n",
       "277            0.003277  \n",
       "278            0.003336  \n",
       "279            0.003373  \n",
       "\n",
       "[280 rows x 20 columns]"
      ]
     },
     "execution_count": 3,
     "metadata": {},
     "output_type": "execute_result"
    }
   ],
   "source": [
    "data = dm.read_data('handwriting_data_dysgraphic_typical_children.xlsx')\n",
    "data"
   ]
  },
  {
   "cell_type": "code",
   "execution_count": 4,
   "metadata": {
    "tags": []
   },
   "outputs": [
    {
     "data": {
      "text/plain": [
       "participant               object\n",
       "group                     object\n",
       "class                     object\n",
       "age                       object\n",
       "gender                    object\n",
       "laterality                object\n",
       "BHK_raw_speed_score      float64\n",
       "BHK_raw_quality_score    float64\n",
       "median_Freq_speed        float64\n",
       "dist_Freq_speed          float64\n",
       "in_Air                   float64\n",
       "Space_Between_Words      float64\n",
       "std_Density              float64\n",
       "median_Freq_tremolo      float64\n",
       "mean_d_P                 float64\n",
       "std_d_P                  float64\n",
       "mean_Pressure            float64\n",
       "dist_Freq_tilt_x         float64\n",
       "bandwidth_tilt_x         float64\n",
       "median_Freq_tilt_y       float64\n",
       "dtype: object"
      ]
     },
     "execution_count": 4,
     "metadata": {},
     "output_type": "execute_result"
    }
   ],
   "source": [
    "data.dtypes"
   ]
  },
  {
   "cell_type": "code",
   "execution_count": 5,
   "metadata": {},
   "outputs": [
    {
     "data": {
      "text/plain": [
       "No     218\n",
       "Yes     62\n",
       "Name: Dysgraphia, dtype: int64"
      ]
     },
     "execution_count": 5,
     "metadata": {},
     "output_type": "execute_result"
    }
   ],
   "source": [
    "data['Dysgraphia'] = data['group'].apply(lambda x: 'Yes' if x == 'dys' else 'No')\n",
    "data['Dysgraphia'].value_counts()"
   ]
  },
  {
   "cell_type": "code",
   "execution_count": 6,
   "metadata": {
    "scrolled": true
   },
   "outputs": [
    {
     "data": {
      "text/plain": [
       "No     218\n",
       "Yes     62\n",
       "Name: Dysgraphia, dtype: int64"
      ]
     },
     "execution_count": 6,
     "metadata": {},
     "output_type": "execute_result"
    }
   ],
   "source": [
    "data['Dysgraphia'].value_counts()"
   ]
  },
  {
   "cell_type": "code",
   "execution_count": 7,
   "metadata": {},
   "outputs": [],
   "source": [
    "data.drop(['group'], axis = 1, inplace = True)"
   ]
  },
  {
   "cell_type": "code",
   "execution_count": 8,
   "metadata": {},
   "outputs": [
    {
     "data": {
      "text/plain": [
       "array(['9y4', '9ans 3', '8ans2', '8ans4', '8ans6', '8ans8', '8ans7',\n",
       "       '9ans3', '8ans0', '9ans1', '10ans2', '7ans0', '9ans11', '8ans10',\n",
       "       '7ans1', '9ans6', '7ans8', '9ans0', '10ans5', '11ans1', '10ans7',\n",
       "       '8ans5', '9ans4', '6ans2', '6ans8', '6ans10', '6ans5', '6ans12',\n",
       "       '6ans6', '6ans9', '6ans3', '6ans7', '6ans11', '6ans4', '7ans2',\n",
       "       '7ans4', '7ans9', '7ans11', '7ans3', '7ans6', '7ans12', '7ans7',\n",
       "       '7ans5', '8ans1', '8ans11', '8ans3', '8ans9', '9ans8', '9ans7',\n",
       "       '10ans0', '10ans1', '9ans9', '11ans0', '9ans5', '9ans10', '9ans2',\n",
       "       '10ans6', '10ans10', '10ans9', '11ans2', '10ans11', '10ans3',\n",
       "       '11ans5', '10ans4', '10ans12', '10ans8', '11ans7', '10ans',\n",
       "       '11ans8', '7ans10', '7ans'], dtype=object)"
      ]
     },
     "execution_count": 8,
     "metadata": {},
     "output_type": "execute_result"
    }
   ],
   "source": [
    "data.age.unique()"
   ]
  },
  {
   "cell_type": "code",
   "execution_count": 9,
   "metadata": {},
   "outputs": [],
   "source": [
    "data['age'] = data['age'].apply(lambda x: x.split(' ')[0] + x.split(' ')[1] if len(x.split(' ')) != 1 else x)"
   ]
  },
  {
   "cell_type": "code",
   "execution_count": 10,
   "metadata": {},
   "outputs": [
    {
     "data": {
      "text/plain": [
       "array(['9ans4', '9ans3', '8ans2', '8ans4', '8ans6', '8ans8', '8ans7',\n",
       "       '8ans0', '9ans1', '10ans2', '7ans0', '9ans11', '8ans10', '7ans1',\n",
       "       '9ans6', '7ans8', '9ans0', '10ans5', '11ans1', '10ans7', '8ans5',\n",
       "       '6ans2', '6ans8', '6ans10', '6ans5', '6ans12', '6ans6', '6ans9',\n",
       "       '6ans3', '6ans7', '6ans11', '6ans4', '7ans2', '7ans4', '7ans9',\n",
       "       '7ans11', '7ans3', '7ans6', '7ans12', '7ans7', '7ans5', '8ans1',\n",
       "       '8ans11', '8ans3', '8ans9', '9ans8', '9ans7', '10ans0', '10ans1',\n",
       "       '9ans9', '11ans0', '9ans5', '9ans10', '9ans2', '10ans6', '10ans10',\n",
       "       '10ans9', '11ans2', '10ans11', '10ans3', '11ans5', '10ans4',\n",
       "       '10ans12', '10ans8', '11ans7', '10ans', '11ans8', '7ans10', '7ans'],\n",
       "      dtype=object)"
      ]
     },
     "execution_count": 10,
     "metadata": {},
     "output_type": "execute_result"
    }
   ],
   "source": [
    "data['age'] = data['age'].apply(lambda x: x.replace('y', 'ans') if 'y' in x else x)\n",
    "data.age.unique()"
   ]
  },
  {
   "cell_type": "code",
   "execution_count": 11,
   "metadata": {},
   "outputs": [],
   "source": [
    "def split(x):\n",
    "    ans, mois = int(x.split('ans')[0]), x.split('ans')[1]\n",
    "    age = ans + 1 if mois != '' and int(mois) >= 6 else ans\n",
    "    return age"
   ]
  },
  {
   "cell_type": "code",
   "execution_count": 12,
   "metadata": {},
   "outputs": [
    {
     "data": {
      "text/html": [
       "<div>\n",
       "<style scoped>\n",
       "    .dataframe tbody tr th:only-of-type {\n",
       "        vertical-align: middle;\n",
       "    }\n",
       "\n",
       "    .dataframe tbody tr th {\n",
       "        vertical-align: top;\n",
       "    }\n",
       "\n",
       "    .dataframe thead th {\n",
       "        text-align: right;\n",
       "    }\n",
       "</style>\n",
       "<table border=\"1\" class=\"dataframe\">\n",
       "  <thead>\n",
       "    <tr style=\"text-align: right;\">\n",
       "      <th></th>\n",
       "      <th>Age</th>\n",
       "      <th>age</th>\n",
       "    </tr>\n",
       "  </thead>\n",
       "  <tbody>\n",
       "    <tr>\n",
       "      <th>0</th>\n",
       "      <td>9</td>\n",
       "      <td>9ans4</td>\n",
       "    </tr>\n",
       "    <tr>\n",
       "      <th>1</th>\n",
       "      <td>9</td>\n",
       "      <td>9ans3</td>\n",
       "    </tr>\n",
       "    <tr>\n",
       "      <th>2</th>\n",
       "      <td>8</td>\n",
       "      <td>8ans2</td>\n",
       "    </tr>\n",
       "    <tr>\n",
       "      <th>3</th>\n",
       "      <td>8</td>\n",
       "      <td>8ans4</td>\n",
       "    </tr>\n",
       "    <tr>\n",
       "      <th>4</th>\n",
       "      <td>9</td>\n",
       "      <td>8ans6</td>\n",
       "    </tr>\n",
       "    <tr>\n",
       "      <th>...</th>\n",
       "      <td>...</td>\n",
       "      <td>...</td>\n",
       "    </tr>\n",
       "    <tr>\n",
       "      <th>275</th>\n",
       "      <td>7</td>\n",
       "      <td>7ans</td>\n",
       "    </tr>\n",
       "    <tr>\n",
       "      <th>276</th>\n",
       "      <td>11</td>\n",
       "      <td>10ans7</td>\n",
       "    </tr>\n",
       "    <tr>\n",
       "      <th>277</th>\n",
       "      <td>11</td>\n",
       "      <td>10ans7</td>\n",
       "    </tr>\n",
       "    <tr>\n",
       "      <th>278</th>\n",
       "      <td>10</td>\n",
       "      <td>10ans3</td>\n",
       "    </tr>\n",
       "    <tr>\n",
       "      <th>279</th>\n",
       "      <td>9</td>\n",
       "      <td>8ans11</td>\n",
       "    </tr>\n",
       "  </tbody>\n",
       "</table>\n",
       "<p>280 rows × 2 columns</p>\n",
       "</div>"
      ],
      "text/plain": [
       "     Age     age\n",
       "0      9   9ans4\n",
       "1      9   9ans3\n",
       "2      8   8ans2\n",
       "3      8   8ans4\n",
       "4      9   8ans6\n",
       "..   ...     ...\n",
       "275    7    7ans\n",
       "276   11  10ans7\n",
       "277   11  10ans7\n",
       "278   10  10ans3\n",
       "279    9  8ans11\n",
       "\n",
       "[280 rows x 2 columns]"
      ]
     },
     "execution_count": 12,
     "metadata": {},
     "output_type": "execute_result"
    }
   ],
   "source": [
    "data['Age'] = data['age'].apply(split)\n",
    "data[['Age', 'age']]"
   ]
  },
  {
   "cell_type": "code",
   "execution_count": 13,
   "metadata": {},
   "outputs": [],
   "source": [
    "data.drop(['age'], axis = 1, inplace = True)"
   ]
  },
  {
   "cell_type": "code",
   "execution_count": 14,
   "metadata": {},
   "outputs": [
    {
     "data": {
      "text/plain": [
       "array(['m', 'f'], dtype=object)"
      ]
     },
     "execution_count": 14,
     "metadata": {},
     "output_type": "execute_result"
    }
   ],
   "source": [
    "data.gender.unique()"
   ]
  },
  {
   "cell_type": "code",
   "execution_count": 15,
   "metadata": {},
   "outputs": [
    {
     "data": {
      "text/plain": [
       "array(['CM1', 'CE2', 'CE1', 'CM2', 'CP'], dtype=object)"
      ]
     },
     "execution_count": 15,
     "metadata": {},
     "output_type": "execute_result"
    }
   ],
   "source": [
    "data['class'].unique()"
   ]
  },
  {
   "cell_type": "code",
   "execution_count": 16,
   "metadata": {},
   "outputs": [
    {
     "data": {
      "text/plain": [
       "array(['l', 'r'], dtype=object)"
      ]
     },
     "execution_count": 16,
     "metadata": {},
     "output_type": "execute_result"
    }
   ],
   "source": [
    "data.laterality.unique()"
   ]
  },
  {
   "cell_type": "code",
   "execution_count": 17,
   "metadata": {},
   "outputs": [
    {
     "data": {
      "text/plain": [
       "True"
      ]
     },
     "execution_count": 17,
     "metadata": {},
     "output_type": "execute_result"
    }
   ],
   "source": [
    "len(data.participant.unique()) == len(data)"
   ]
  },
  {
   "cell_type": "code",
   "execution_count": 18,
   "metadata": {},
   "outputs": [],
   "source": [
    "dm.save_data(data, 'Cleaned_data')"
   ]
  }
 ],
 "metadata": {
  "kernelspec": {
   "display_name": "Python 3",
   "language": "python",
   "name": "python3"
  },
  "language_info": {
   "codemirror_mode": {
    "name": "ipython",
    "version": 3
   },
   "file_extension": ".py",
   "mimetype": "text/x-python",
   "name": "python",
   "nbconvert_exporter": "python",
   "pygments_lexer": "ipython3",
   "version": "3.8.3"
  }
 },
 "nbformat": 4,
 "nbformat_minor": 4
}
