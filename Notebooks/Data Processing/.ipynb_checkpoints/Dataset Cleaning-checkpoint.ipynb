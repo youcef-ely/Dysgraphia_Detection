{
 "cells": [
  {
   "cell_type": "code",
   "execution_count": 1,
   "metadata": {},
   "outputs": [],
   "source": [
    "import sys\n",
    "import os\n",
    "\n",
    "source_path = 'C:/Users/User/Desktop/Dyslexia project/Source'\n",
    "\n",
    "if source_path not in sys.path:\n",
    "    sys.path.append(source_path)\n",
    "import data_manipulation as dm \n",
    "import data_visualization as dv\n",
    "import model_test\n",
    "import data_processing as dp\n",
    "import genetic_algorithm"
   ]
  },
  {
   "cell_type": "code",
   "execution_count": 2,
   "metadata": {},
   "outputs": [],
   "source": [
    "import matplotlib.pyplot as plt\n",
    "import numpy as np\n",
    "import seaborn as sns\n",
    "import pandas as pd"
   ]
  },
  {
   "cell_type": "code",
   "execution_count": 3,
   "metadata": {},
   "outputs": [
    {
     "data": {
      "text/html": [
       "<div>\n",
       "<style scoped>\n",
       "    .dataframe tbody tr th:only-of-type {\n",
       "        vertical-align: middle;\n",
       "    }\n",
       "\n",
       "    .dataframe tbody tr th {\n",
       "        vertical-align: top;\n",
       "    }\n",
       "\n",
       "    .dataframe thead th {\n",
       "        text-align: right;\n",
       "    }\n",
       "</style>\n",
       "<table border=\"1\" class=\"dataframe\">\n",
       "  <thead>\n",
       "    <tr style=\"text-align: right;\">\n",
       "      <th></th>\n",
       "      <th>participant</th>\n",
       "      <th>group</th>\n",
       "      <th>class</th>\n",
       "      <th>age</th>\n",
       "      <th>gender</th>\n",
       "      <th>laterality</th>\n",
       "      <th>BHK_raw_speed_score</th>\n",
       "      <th>BHK_raw_quality_score</th>\n",
       "      <th>median_Freq_speed</th>\n",
       "      <th>dist_Freq_speed</th>\n",
       "      <th>in_Air</th>\n",
       "      <th>Space_Between_Words</th>\n",
       "      <th>std_Density</th>\n",
       "      <th>median_Freq_tremolo</th>\n",
       "      <th>mean_d_P</th>\n",
       "      <th>std_d_P</th>\n",
       "      <th>mean_Pressure</th>\n",
       "      <th>dist_Freq_tilt_x</th>\n",
       "      <th>bandwidth_tilt_x</th>\n",
       "      <th>median_Freq_tilt_y</th>\n",
       "    </tr>\n",
       "  </thead>\n",
       "  <tbody>\n",
       "    <tr>\n",
       "      <th>0</th>\n",
       "      <td>S0995</td>\n",
       "      <td>dys</td>\n",
       "      <td>CM1</td>\n",
       "      <td>9y4</td>\n",
       "      <td>m</td>\n",
       "      <td>l</td>\n",
       "      <td>207</td>\n",
       "      <td>25,5</td>\n",
       "      <td>0,001743898</td>\n",
       "      <td>0,000217634</td>\n",
       "      <td>0,621097114</td>\n",
       "      <td>1617,671646</td>\n",
       "      <td>360,2447136</td>\n",
       "      <td>0,003316475</td>\n",
       "      <td>0,130776861</td>\n",
       "      <td>3,56298884</td>\n",
       "      <td>592,2211302</td>\n",
       "      <td>0,000497896</td>\n",
       "      <td>0,004491034</td>\n",
       "      <td>0,003318045</td>\n",
       "    </tr>\n",
       "    <tr>\n",
       "      <th>1</th>\n",
       "      <td>S0996</td>\n",
       "      <td>dys</td>\n",
       "      <td>CE2</td>\n",
       "      <td>9ans 3</td>\n",
       "      <td>m</td>\n",
       "      <td>r</td>\n",
       "      <td>63</td>\n",
       "      <td>35</td>\n",
       "      <td>0,001563775</td>\n",
       "      <td>0,000126143</td>\n",
       "      <td>0,587172903</td>\n",
       "      <td>1714,428471</td>\n",
       "      <td>303,2682655</td>\n",
       "      <td>0,003233171</td>\n",
       "      <td>0,039345447</td>\n",
       "      <td>1,495864246</td>\n",
       "      <td>375,7408438</td>\n",
       "      <td>0,000910379</td>\n",
       "      <td>0,004954301</td>\n",
       "      <td>0,003324443</td>\n",
       "    </tr>\n",
       "    <tr>\n",
       "      <th>2</th>\n",
       "      <td>S0997</td>\n",
       "      <td>dys</td>\n",
       "      <td>CE1</td>\n",
       "      <td>8ans2</td>\n",
       "      <td>m</td>\n",
       "      <td>r</td>\n",
       "      <td>74</td>\n",
       "      <td>31,33333333</td>\n",
       "      <td>0,002356118</td>\n",
       "      <td>0,001056358</td>\n",
       "      <td>0,610327271</td>\n",
       "      <td>423,1053385</td>\n",
       "      <td>267,8780282</td>\n",
       "      <td>0,003295012</td>\n",
       "      <td>-0,007537695</td>\n",
       "      <td>0,562388444</td>\n",
       "      <td>127,7363383</td>\n",
       "      <td>0,000242456</td>\n",
       "      <td>0,003083099</td>\n",
       "      <td>0,003333255</td>\n",
       "    </tr>\n",
       "    <tr>\n",
       "      <th>3</th>\n",
       "      <td>S1000</td>\n",
       "      <td>dys</td>\n",
       "      <td>CE1</td>\n",
       "      <td>8ans4</td>\n",
       "      <td>f</td>\n",
       "      <td>r</td>\n",
       "      <td>52,5</td>\n",
       "      <td>31</td>\n",
       "      <td>0,001599108</td>\n",
       "      <td>0,000135934</td>\n",
       "      <td>0,604755336</td>\n",
       "      <td>2371,746011</td>\n",
       "      <td>205,9890118</td>\n",
       "      <td>0,003343925</td>\n",
       "      <td>0,03048482</td>\n",
       "      <td>1,560180218</td>\n",
       "      <td>427,9528131</td>\n",
       "      <td>0,000604263</td>\n",
       "      <td>0,005015555</td>\n",
       "      <td>0,003273184</td>\n",
       "    </tr>\n",
       "    <tr>\n",
       "      <th>4</th>\n",
       "      <td>S1001</td>\n",
       "      <td>dys</td>\n",
       "      <td>CE2</td>\n",
       "      <td>8ans6</td>\n",
       "      <td>f</td>\n",
       "      <td>r</td>\n",
       "      <td>86,33333333</td>\n",
       "      <td>22,66666667</td>\n",
       "      <td>0,002250335</td>\n",
       "      <td>0,000898507</td>\n",
       "      <td>0,770746645</td>\n",
       "      <td>926,5906466</td>\n",
       "      <td>230,2807972</td>\n",
       "      <td>0,00333764</td>\n",
       "      <td>0,02552515</td>\n",
       "      <td>1,788617777</td>\n",
       "      <td>319,6407589</td>\n",
       "      <td>0,000703894</td>\n",
       "      <td>0,004022059</td>\n",
       "      <td>0,003388429</td>\n",
       "    </tr>\n",
       "    <tr>\n",
       "      <th>...</th>\n",
       "      <td>...</td>\n",
       "      <td>...</td>\n",
       "      <td>...</td>\n",
       "      <td>...</td>\n",
       "      <td>...</td>\n",
       "      <td>...</td>\n",
       "      <td>...</td>\n",
       "      <td>...</td>\n",
       "      <td>...</td>\n",
       "      <td>...</td>\n",
       "      <td>...</td>\n",
       "      <td>...</td>\n",
       "      <td>...</td>\n",
       "      <td>...</td>\n",
       "      <td>...</td>\n",
       "      <td>...</td>\n",
       "      <td>...</td>\n",
       "      <td>...</td>\n",
       "      <td>...</td>\n",
       "      <td>...</td>\n",
       "    </tr>\n",
       "    <tr>\n",
       "      <th>275</th>\n",
       "      <td>S1376</td>\n",
       "      <td>dys</td>\n",
       "      <td>CE1</td>\n",
       "      <td>7ans</td>\n",
       "      <td>m</td>\n",
       "      <td>r</td>\n",
       "      <td>105,5</td>\n",
       "      <td>34,5</td>\n",
       "      <td>0,001715326</td>\n",
       "      <td>0,000263135</td>\n",
       "      <td>0,385017002</td>\n",
       "      <td>1033,910155</td>\n",
       "      <td>308,3386136</td>\n",
       "      <td>0,003361093</td>\n",
       "      <td>0,00418353</td>\n",
       "      <td>1,371367931</td>\n",
       "      <td>332,9839673</td>\n",
       "      <td>0,000720683</td>\n",
       "      <td>0,004638955</td>\n",
       "      <td>0,003367427</td>\n",
       "    </tr>\n",
       "    <tr>\n",
       "      <th>276</th>\n",
       "      <td>S1379</td>\n",
       "      <td>dys</td>\n",
       "      <td>CM1</td>\n",
       "      <td>10ans7</td>\n",
       "      <td>m</td>\n",
       "      <td>r</td>\n",
       "      <td>201</td>\n",
       "      <td>28,5</td>\n",
       "      <td>0,002029432</td>\n",
       "      <td>0,000527203</td>\n",
       "      <td>0,591674037</td>\n",
       "      <td>699,5531911</td>\n",
       "      <td>104,4311722</td>\n",
       "      <td>0,003379979</td>\n",
       "      <td>0,024090365</td>\n",
       "      <td>1,821783692</td>\n",
       "      <td>301,977176</td>\n",
       "      <td>0,000356605</td>\n",
       "      <td>0,003769469</td>\n",
       "      <td>0,003295354</td>\n",
       "    </tr>\n",
       "    <tr>\n",
       "      <th>277</th>\n",
       "      <td>S1383</td>\n",
       "      <td>dys</td>\n",
       "      <td>CM2</td>\n",
       "      <td>10ans7</td>\n",
       "      <td>m</td>\n",
       "      <td>r</td>\n",
       "      <td>158,5</td>\n",
       "      <td>25</td>\n",
       "      <td>0,002119158</td>\n",
       "      <td>0,000781043</td>\n",
       "      <td>0,578210532</td>\n",
       "      <td>668,4602788</td>\n",
       "      <td>262,9349368</td>\n",
       "      <td>0,003351953</td>\n",
       "      <td>0,023631349</td>\n",
       "      <td>1,149694198</td>\n",
       "      <td>221,9490378</td>\n",
       "      <td>0,00045212</td>\n",
       "      <td>0,004270136</td>\n",
       "      <td>0,00327692</td>\n",
       "    </tr>\n",
       "    <tr>\n",
       "      <th>278</th>\n",
       "      <td>S1384</td>\n",
       "      <td>dys</td>\n",
       "      <td>CM1</td>\n",
       "      <td>10ans3</td>\n",
       "      <td>m</td>\n",
       "      <td>r</td>\n",
       "      <td>94,5</td>\n",
       "      <td>25</td>\n",
       "      <td>0,002154172</td>\n",
       "      <td>0,000747338</td>\n",
       "      <td>0,400374995</td>\n",
       "      <td>75,45108439</td>\n",
       "      <td>320,0345162</td>\n",
       "      <td>0,003328094</td>\n",
       "      <td>-0,005571288</td>\n",
       "      <td>0,808330474</td>\n",
       "      <td>185,9843459</td>\n",
       "      <td>0,000194834</td>\n",
       "      <td>0,003236485</td>\n",
       "      <td>0,003335778</td>\n",
       "    </tr>\n",
       "    <tr>\n",
       "      <th>279</th>\n",
       "      <td>S1391</td>\n",
       "      <td>dys</td>\n",
       "      <td>CE2</td>\n",
       "      <td>8ans11</td>\n",
       "      <td>m</td>\n",
       "      <td>r</td>\n",
       "      <td>73</td>\n",
       "      <td>38,5</td>\n",
       "      <td>0,001729263</td>\n",
       "      <td>0,00025599</td>\n",
       "      <td>0,624108259</td>\n",
       "      <td>994,6458534</td>\n",
       "      <td>262,3112596</td>\n",
       "      <td>0,003127213</td>\n",
       "      <td>0,13800328</td>\n",
       "      <td>2,552716878</td>\n",
       "      <td>795,3239557</td>\n",
       "      <td>0,000764602</td>\n",
       "      <td>0,004163481</td>\n",
       "      <td>0,003373176</td>\n",
       "    </tr>\n",
       "  </tbody>\n",
       "</table>\n",
       "<p>280 rows × 20 columns</p>\n",
       "</div>"
      ],
      "text/plain": [
       "    participant group class     age gender laterality BHK_raw_speed_score  \\\n",
       "0         S0995   dys   CM1     9y4      m          l                 207   \n",
       "1         S0996   dys   CE2  9ans 3      m          r                  63   \n",
       "2         S0997   dys   CE1   8ans2      m          r                  74   \n",
       "3         S1000   dys   CE1   8ans4      f          r                52,5   \n",
       "4         S1001   dys   CE2   8ans6      f          r         86,33333333   \n",
       "..          ...   ...   ...     ...    ...        ...                 ...   \n",
       "275       S1376   dys   CE1    7ans      m          r               105,5   \n",
       "276       S1379   dys   CM1  10ans7      m          r                 201   \n",
       "277       S1383   dys   CM2  10ans7      m          r               158,5   \n",
       "278       S1384   dys   CM1  10ans3      m          r                94,5   \n",
       "279       S1391   dys   CE2  8ans11      m          r                  73   \n",
       "\n",
       "    BHK_raw_quality_score median_Freq_speed dist_Freq_speed       in_Air  \\\n",
       "0                    25,5       0,001743898     0,000217634  0,621097114   \n",
       "1                      35       0,001563775     0,000126143  0,587172903   \n",
       "2             31,33333333       0,002356118     0,001056358  0,610327271   \n",
       "3                      31       0,001599108     0,000135934  0,604755336   \n",
       "4             22,66666667       0,002250335     0,000898507  0,770746645   \n",
       "..                    ...               ...             ...          ...   \n",
       "275                  34,5       0,001715326     0,000263135  0,385017002   \n",
       "276                  28,5       0,002029432     0,000527203  0,591674037   \n",
       "277                    25       0,002119158     0,000781043  0,578210532   \n",
       "278                    25       0,002154172     0,000747338  0,400374995   \n",
       "279                  38,5       0,001729263      0,00025599  0,624108259   \n",
       "\n",
       "    Space_Between_Words  std_Density median_Freq_tremolo      mean_d_P  \\\n",
       "0           1617,671646  360,2447136         0,003316475   0,130776861   \n",
       "1           1714,428471  303,2682655         0,003233171   0,039345447   \n",
       "2           423,1053385  267,8780282         0,003295012  -0,007537695   \n",
       "3           2371,746011  205,9890118         0,003343925    0,03048482   \n",
       "4           926,5906466  230,2807972          0,00333764    0,02552515   \n",
       "..                  ...          ...                 ...           ...   \n",
       "275         1033,910155  308,3386136         0,003361093    0,00418353   \n",
       "276         699,5531911  104,4311722         0,003379979   0,024090365   \n",
       "277         668,4602788  262,9349368         0,003351953   0,023631349   \n",
       "278         75,45108439  320,0345162         0,003328094  -0,005571288   \n",
       "279         994,6458534  262,3112596         0,003127213    0,13800328   \n",
       "\n",
       "         std_d_P mean_Pressure dist_Freq_tilt_x bandwidth_tilt_x  \\\n",
       "0     3,56298884   592,2211302      0,000497896      0,004491034   \n",
       "1    1,495864246   375,7408438      0,000910379      0,004954301   \n",
       "2    0,562388444   127,7363383      0,000242456      0,003083099   \n",
       "3    1,560180218   427,9528131      0,000604263      0,005015555   \n",
       "4    1,788617777   319,6407589      0,000703894      0,004022059   \n",
       "..           ...           ...              ...              ...   \n",
       "275  1,371367931   332,9839673      0,000720683      0,004638955   \n",
       "276  1,821783692    301,977176      0,000356605      0,003769469   \n",
       "277  1,149694198   221,9490378       0,00045212      0,004270136   \n",
       "278  0,808330474   185,9843459      0,000194834      0,003236485   \n",
       "279  2,552716878   795,3239557      0,000764602      0,004163481   \n",
       "\n",
       "    median_Freq_tilt_y  \n",
       "0          0,003318045  \n",
       "1          0,003324443  \n",
       "2          0,003333255  \n",
       "3          0,003273184  \n",
       "4          0,003388429  \n",
       "..                 ...  \n",
       "275        0,003367427  \n",
       "276        0,003295354  \n",
       "277         0,00327692  \n",
       "278        0,003335778  \n",
       "279        0,003373176  \n",
       "\n",
       "[280 rows x 20 columns]"
      ]
     },
     "execution_count": 3,
     "metadata": {},
     "output_type": "execute_result"
    }
   ],
   "source": [
    "data = dm.read_data('handwriting_data_dysgraphic_typical_children.xlsx')\n",
    "data"
   ]
  },
  {
   "cell_type": "code",
   "execution_count": 4,
   "metadata": {},
   "outputs": [
    {
     "data": {
      "text/plain": [
       "0      Yes\n",
       "1      Yes\n",
       "2      Yes\n",
       "3      Yes\n",
       "4      Yes\n",
       "      ... \n",
       "275    Yes\n",
       "276    Yes\n",
       "277    Yes\n",
       "278    Yes\n",
       "279    Yes\n",
       "Name: Dysgraphia, Length: 280, dtype: object"
      ]
     },
     "execution_count": 4,
     "metadata": {},
     "output_type": "execute_result"
    }
   ],
   "source": [
    "data['Dysgraphia'] = data['group'].apply(lambda x: 'Yes' if x == 'dys' else 'No')\n",
    "data['Dysgraphia']"
   ]
  },
  {
   "cell_type": "code",
   "execution_count": 5,
   "metadata": {
    "scrolled": true
   },
   "outputs": [
    {
     "data": {
      "text/plain": [
       "No     218\n",
       "Yes     62\n",
       "Name: Dysgraphia, dtype: int64"
      ]
     },
     "execution_count": 5,
     "metadata": {},
     "output_type": "execute_result"
    }
   ],
   "source": [
    "data['Dysgraphia'].value_counts()"
   ]
  },
  {
   "cell_type": "code",
   "execution_count": 6,
   "metadata": {},
   "outputs": [],
   "source": [
    "data.drop(['group'], axis = 1, inplace = True)"
   ]
  },
  {
   "cell_type": "code",
   "execution_count": 7,
   "metadata": {},
   "outputs": [
    {
     "data": {
      "text/plain": [
       "array(['9y4', '9ans 3', '8ans2', '8ans4', '8ans6', '8ans8', '8ans7',\n",
       "       '9ans3', '8ans0', '9ans1', '10ans2', '7ans0', '9ans11', '8ans10',\n",
       "       '7ans1', '9ans6', '7ans8', '9ans0', '10ans5', '11ans1', '10ans7',\n",
       "       '8ans5', '9ans4', '6ans2', '6ans8', '6ans10', '6ans5', '6ans12',\n",
       "       '6ans6', '6ans9', '6ans3', '6ans7', '6ans11', '6ans4', '7ans2',\n",
       "       '7ans4', '7ans9', '7ans11', '7ans3', '7ans6', '7ans12', '7ans7',\n",
       "       '7ans5', '8ans1', '8ans11', '8ans3', '8ans9', '9ans8', '9ans7',\n",
       "       '10ans0', '10ans1', '9ans9', '11ans0', '9ans5', '9ans10', '9ans2',\n",
       "       '10ans6', '10ans10', '10ans9', '11ans2', '10ans11', '10ans3',\n",
       "       '11ans5', '10ans4', '10ans12', '10ans8', '11ans7', '10ans',\n",
       "       '11ans8', '7ans10', '7ans'], dtype=object)"
      ]
     },
     "execution_count": 7,
     "metadata": {},
     "output_type": "execute_result"
    }
   ],
   "source": [
    "data.age.unique()"
   ]
  },
  {
   "cell_type": "code",
   "execution_count": 8,
   "metadata": {},
   "outputs": [],
   "source": [
    "data['age'] = data['age'].apply(lambda x: x.split(' ')[0] + x.split(' ')[1] if len(x.split(' ')) != 1 else x)"
   ]
  },
  {
   "cell_type": "code",
   "execution_count": 9,
   "metadata": {},
   "outputs": [
    {
     "data": {
      "text/plain": [
       "array(['9y4', '9ans3', '8ans2', '8ans4', '8ans6', '8ans8', '8ans7',\n",
       "       '8ans0', '9ans1', '10ans2', '7ans0', '9ans11', '8ans10', '7ans1',\n",
       "       '9ans6', '7ans8', '9ans0', '10ans5', '11ans1', '10ans7', '8ans5',\n",
       "       '9ans4', '6ans2', '6ans8', '6ans10', '6ans5', '6ans12', '6ans6',\n",
       "       '6ans9', '6ans3', '6ans7', '6ans11', '6ans4', '7ans2', '7ans4',\n",
       "       '7ans9', '7ans11', '7ans3', '7ans6', '7ans12', '7ans7', '7ans5',\n",
       "       '8ans1', '8ans11', '8ans3', '8ans9', '9ans8', '9ans7', '10ans0',\n",
       "       '10ans1', '9ans9', '11ans0', '9ans5', '9ans10', '9ans2', '10ans6',\n",
       "       '10ans10', '10ans9', '11ans2', '10ans11', '10ans3', '11ans5',\n",
       "       '10ans4', '10ans12', '10ans8', '11ans7', '10ans', '11ans8',\n",
       "       '7ans10', '7ans'], dtype=object)"
      ]
     },
     "execution_count": 9,
     "metadata": {},
     "output_type": "execute_result"
    }
   ],
   "source": [
    "data.age.unique()"
   ]
  },
  {
   "cell_type": "code",
   "execution_count": 10,
   "metadata": {},
   "outputs": [
    {
     "data": {
      "text/plain": [
       "array(['9ans4', '9ans3', '8ans2', '8ans4', '8ans6', '8ans8', '8ans7',\n",
       "       '8ans0', '9ans1', '10ans2', '7ans0', '9ans11', '8ans10', '7ans1',\n",
       "       '9ans6', '7ans8', '9ans0', '10ans5', '11ans1', '10ans7', '8ans5',\n",
       "       '6ans2', '6ans8', '6ans10', '6ans5', '6ans12', '6ans6', '6ans9',\n",
       "       '6ans3', '6ans7', '6ans11', '6ans4', '7ans2', '7ans4', '7ans9',\n",
       "       '7ans11', '7ans3', '7ans6', '7ans12', '7ans7', '7ans5', '8ans1',\n",
       "       '8ans11', '8ans3', '8ans9', '9ans8', '9ans7', '10ans0', '10ans1',\n",
       "       '9ans9', '11ans0', '9ans5', '9ans10', '9ans2', '10ans6', '10ans10',\n",
       "       '10ans9', '11ans2', '10ans11', '10ans3', '11ans5', '10ans4',\n",
       "       '10ans12', '10ans8', '11ans7', '10ans', '11ans8', '7ans10', '7ans'],\n",
       "      dtype=object)"
      ]
     },
     "execution_count": 10,
     "metadata": {},
     "output_type": "execute_result"
    }
   ],
   "source": [
    "data['age'] = data['age'].apply(lambda x: x.replace('y', 'ans') if 'y' in x else x)\n",
    "data.age.unique()"
   ]
  },
  {
   "cell_type": "code",
   "execution_count": 11,
   "metadata": {},
   "outputs": [],
   "source": [
    "def split(x):\n",
    "    ans, mois = int(x.split('ans')[0]), x.split('ans')[1]\n",
    "    age = ans + 1 if mois != '' and int(mois) >= 6 else ans\n",
    "    return age"
   ]
  },
  {
   "cell_type": "code",
   "execution_count": 12,
   "metadata": {},
   "outputs": [
    {
     "data": {
      "text/html": [
       "<div>\n",
       "<style scoped>\n",
       "    .dataframe tbody tr th:only-of-type {\n",
       "        vertical-align: middle;\n",
       "    }\n",
       "\n",
       "    .dataframe tbody tr th {\n",
       "        vertical-align: top;\n",
       "    }\n",
       "\n",
       "    .dataframe thead th {\n",
       "        text-align: right;\n",
       "    }\n",
       "</style>\n",
       "<table border=\"1\" class=\"dataframe\">\n",
       "  <thead>\n",
       "    <tr style=\"text-align: right;\">\n",
       "      <th></th>\n",
       "      <th>Age</th>\n",
       "      <th>age</th>\n",
       "    </tr>\n",
       "  </thead>\n",
       "  <tbody>\n",
       "    <tr>\n",
       "      <th>0</th>\n",
       "      <td>9</td>\n",
       "      <td>9ans4</td>\n",
       "    </tr>\n",
       "    <tr>\n",
       "      <th>1</th>\n",
       "      <td>9</td>\n",
       "      <td>9ans3</td>\n",
       "    </tr>\n",
       "    <tr>\n",
       "      <th>2</th>\n",
       "      <td>8</td>\n",
       "      <td>8ans2</td>\n",
       "    </tr>\n",
       "    <tr>\n",
       "      <th>3</th>\n",
       "      <td>8</td>\n",
       "      <td>8ans4</td>\n",
       "    </tr>\n",
       "    <tr>\n",
       "      <th>4</th>\n",
       "      <td>9</td>\n",
       "      <td>8ans6</td>\n",
       "    </tr>\n",
       "    <tr>\n",
       "      <th>...</th>\n",
       "      <td>...</td>\n",
       "      <td>...</td>\n",
       "    </tr>\n",
       "    <tr>\n",
       "      <th>275</th>\n",
       "      <td>7</td>\n",
       "      <td>7ans</td>\n",
       "    </tr>\n",
       "    <tr>\n",
       "      <th>276</th>\n",
       "      <td>11</td>\n",
       "      <td>10ans7</td>\n",
       "    </tr>\n",
       "    <tr>\n",
       "      <th>277</th>\n",
       "      <td>11</td>\n",
       "      <td>10ans7</td>\n",
       "    </tr>\n",
       "    <tr>\n",
       "      <th>278</th>\n",
       "      <td>10</td>\n",
       "      <td>10ans3</td>\n",
       "    </tr>\n",
       "    <tr>\n",
       "      <th>279</th>\n",
       "      <td>9</td>\n",
       "      <td>8ans11</td>\n",
       "    </tr>\n",
       "  </tbody>\n",
       "</table>\n",
       "<p>280 rows × 2 columns</p>\n",
       "</div>"
      ],
      "text/plain": [
       "     Age     age\n",
       "0      9   9ans4\n",
       "1      9   9ans3\n",
       "2      8   8ans2\n",
       "3      8   8ans4\n",
       "4      9   8ans6\n",
       "..   ...     ...\n",
       "275    7    7ans\n",
       "276   11  10ans7\n",
       "277   11  10ans7\n",
       "278   10  10ans3\n",
       "279    9  8ans11\n",
       "\n",
       "[280 rows x 2 columns]"
      ]
     },
     "execution_count": 12,
     "metadata": {},
     "output_type": "execute_result"
    }
   ],
   "source": [
    "data['Age'] = data['age'].apply(split)\n",
    "data[['Age', 'age']]"
   ]
  },
  {
   "cell_type": "code",
   "execution_count": 13,
   "metadata": {},
   "outputs": [],
   "source": [
    "data.drop(['age'], axis = 1, inplace = True)"
   ]
  },
  {
   "cell_type": "code",
   "execution_count": 14,
   "metadata": {},
   "outputs": [
    {
     "data": {
      "text/plain": [
       "array(['m', 'f'], dtype=object)"
      ]
     },
     "execution_count": 14,
     "metadata": {},
     "output_type": "execute_result"
    }
   ],
   "source": [
    "data.gender.unique()"
   ]
  },
  {
   "cell_type": "code",
   "execution_count": 15,
   "metadata": {},
   "outputs": [
    {
     "data": {
      "text/plain": [
       "array(['CM1', 'CE2', 'CE1', 'CM2', 'CP'], dtype=object)"
      ]
     },
     "execution_count": 15,
     "metadata": {},
     "output_type": "execute_result"
    }
   ],
   "source": [
    "data['class'].unique()"
   ]
  },
  {
   "cell_type": "code",
   "execution_count": 16,
   "metadata": {},
   "outputs": [
    {
     "data": {
      "text/plain": [
       "array(['l', 'r'], dtype=object)"
      ]
     },
     "execution_count": 16,
     "metadata": {},
     "output_type": "execute_result"
    }
   ],
   "source": [
    "data.laterality.unique()"
   ]
  },
  {
   "cell_type": "code",
   "execution_count": 17,
   "metadata": {},
   "outputs": [
    {
     "data": {
      "text/plain": [
       "True"
      ]
     },
     "execution_count": 17,
     "metadata": {},
     "output_type": "execute_result"
    }
   ],
   "source": [
    "len(data.participant.unique()) == len(data)"
   ]
  },
  {
   "cell_type": "code",
   "execution_count": 18,
   "metadata": {},
   "outputs": [],
   "source": [
    "dm.save_data(data, 'Cleaned_data')"
   ]
  }
 ],
 "metadata": {
  "kernelspec": {
   "display_name": "Python 3",
   "language": "python",
   "name": "python3"
  },
  "language_info": {
   "codemirror_mode": {
    "name": "ipython",
    "version": 3
   },
   "file_extension": ".py",
   "mimetype": "text/x-python",
   "name": "python",
   "nbconvert_exporter": "python",
   "pygments_lexer": "ipython3",
   "version": "3.8.3"
  }
 },
 "nbformat": 4,
 "nbformat_minor": 4
}
